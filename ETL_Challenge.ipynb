{
 "cells": [
  {
   "cell_type": "code",
   "execution_count": 1,
   "id": "e3ac1110",
   "metadata": {},
   "outputs": [],
   "source": [
    "from scrapy.utils.project import get_project_settings\n",
    "from scrapy.crawler import CrawlerProcess\n",
    "from pykafka import KafkaClient\n",
    "import mysql.connector\n",
    "import schedule\n",
    "import time\n",
    "import json\n",
    "import datetime \n",
    "from minio import Minio\n",
    "from minio.error import S3Error\n",
    "import io"
   ]
  },
  {
   "cell_type": "code",
   "execution_count": null,
   "id": "6dfbe6d7",
   "metadata": {},
   "outputs": [],
   "source": [
    "!pip install minio"
   ]
  },
  {
   "cell_type": "code",
   "execution_count": 2,
   "id": "2eca9fc0",
   "metadata": {},
   "outputs": [],
   "source": [
    "from news_scraper.spiders.aljazeera_news import Aljazeera\n",
    "from news_scraper.spiders.sky_news import Skynews\n",
    "from news_scraper.spiders.bbc_news import Bbc\n",
    "from news_scraper.spiders.reuters import Reuters\n"
   ]
  },
  {
   "cell_type": "code",
   "execution_count": 3,
   "id": "2e3094e4",
   "metadata": {},
   "outputs": [
    {
     "name": "stderr",
     "output_type": "stream",
     "text": [
      "2023-10-01 18:26:10 [scrapy.utils.log] INFO: Scrapy 2.11.0 started (bot: news_scraper)\n",
      "2023-10-01 18:26:10 [scrapy.utils.log] INFO: Versions: lxml 4.9.1.0, libxml2 2.9.14, cssselect 1.1.0, parsel 1.6.0, w3lib 1.21.0, Twisted 22.2.0, Python 3.9.13 (main, Aug 25 2022, 23:51:50) [MSC v.1916 64 bit (AMD64)], pyOpenSSL 22.0.0 (OpenSSL 1.1.1q  5 Jul 2022), cryptography 37.0.1, Platform Windows-10-10.0.22621-SP0\n",
      "2023-10-01 18:26:10 [scrapy.addons] INFO: Enabled addons:\n",
      "[]\n",
      "2023-10-01 18:26:10 [py.warnings] WARNING: C:\\Users\\hp\\anaconda3\\lib\\site-packages\\scrapy\\utils\\request.py:254: ScrapyDeprecationWarning: '2.6' is a deprecated value for the 'REQUEST_FINGERPRINTER_IMPLEMENTATION' setting.\n",
      "\n",
      "It is also the default value. In other words, it is normal to get this warning if you have not defined a value for the 'REQUEST_FINGERPRINTER_IMPLEMENTATION' setting. This is so for backward compatibility reasons, but it will change in a future version of Scrapy.\n",
      "\n",
      "See the documentation of the 'REQUEST_FINGERPRINTER_IMPLEMENTATION' setting for information on how to handle this deprecation.\n",
      "  return cls(crawler)\n",
      "\n",
      "2023-10-01 18:26:10 [scrapy.utils.log] DEBUG: Using reactor: twisted.internet.selectreactor.SelectReactor\n",
      "2023-10-01 18:26:10 [scrapy.extensions.telnet] INFO: Telnet Password: d6133f91c3919f7c\n",
      "2023-10-01 18:26:11 [scrapy.middleware] INFO: Enabled extensions:\n",
      "['scrapy.extensions.corestats.CoreStats',\n",
      " 'scrapy.extensions.telnet.TelnetConsole',\n",
      " 'scrapy.extensions.logstats.LogStats']\n",
      "2023-10-01 18:26:11 [scrapy.crawler] INFO: Overridden settings:\n",
      "{'BOT_NAME': 'news_scraper',\n",
      " 'NEWSPIDER_MODULE': 'news_scraper.spiders',\n",
      " 'ROBOTSTXT_OBEY': True,\n",
      " 'SPIDER_MODULES': ['news_scraper.spiders']}\n",
      "2023-10-01 18:26:12 [scrapy.middleware] INFO: Enabled downloader middlewares:\n",
      "['scrapy.downloadermiddlewares.robotstxt.RobotsTxtMiddleware',\n",
      " 'scrapy.downloadermiddlewares.httpauth.HttpAuthMiddleware',\n",
      " 'scrapy.downloadermiddlewares.downloadtimeout.DownloadTimeoutMiddleware',\n",
      " 'scrapy.downloadermiddlewares.defaultheaders.DefaultHeadersMiddleware',\n",
      " 'scrapy.downloadermiddlewares.useragent.UserAgentMiddleware',\n",
      " 'scrapy.downloadermiddlewares.retry.RetryMiddleware',\n",
      " 'scrapy.downloadermiddlewares.redirect.MetaRefreshMiddleware',\n",
      " 'scrapy.downloadermiddlewares.httpcompression.HttpCompressionMiddleware',\n",
      " 'scrapy.downloadermiddlewares.redirect.RedirectMiddleware',\n",
      " 'scrapy.downloadermiddlewares.cookies.CookiesMiddleware',\n",
      " 'scrapy.downloadermiddlewares.httpproxy.HttpProxyMiddleware',\n",
      " 'scrapy.downloadermiddlewares.stats.DownloaderStats']\n",
      "2023-10-01 18:26:12 [scrapy.middleware] INFO: Enabled spider middlewares:\n",
      "['scrapy.spidermiddlewares.httperror.HttpErrorMiddleware',\n",
      " 'scrapy.spidermiddlewares.offsite.OffsiteMiddleware',\n",
      " 'scrapy.spidermiddlewares.referer.RefererMiddleware',\n",
      " 'scrapy.spidermiddlewares.urllength.UrlLengthMiddleware',\n",
      " 'scrapy.spidermiddlewares.depth.DepthMiddleware']\n",
      "2023-10-01 18:26:12 [pykafka.cluster] INFO: Broker version is too old to use automatic API version discovery. Falling back to hardcoded versions list.\n",
      "2023-10-01 18:26:12 [pykafka.cluster] DEBUG: Updating cluster, attempt 1/3\n",
      "2023-10-01 18:26:12 [pykafka.connection] DEBUG: Connecting to localhost:9092\n",
      "2023-10-01 18:26:12 [pykafka.connection] DEBUG: Successfully connected to localhost:9092\n",
      "2023-10-01 18:26:12 [pykafka.handlers] INFO: RequestHandler.stop: about to flush requests queue\n",
      "2023-10-01 18:26:12 [pykafka.cluster] INFO: Discovered 1 brokers\n",
      "2023-10-01 18:26:12 [pykafka.cluster] DEBUG: Discovered broker id 0: b'192.168.100.25':9092\n",
      "2023-10-01 18:26:12 [pykafka.connection] DEBUG: Connecting to b'192.168.100.25':9092\n",
      "2023-10-01 18:26:12 [pykafka.connection] DEBUG: Successfully connected to b'192.168.100.25':9092\n",
      "2023-10-01 18:26:12 [pykafka.cluster] INFO: Discovered 9 topics\n",
      "2023-10-01 18:26:12 [pykafka.cluster] DEBUG: Discovered topic 'b'capstone_att1''\n",
      "2023-10-01 18:26:12 [pykafka.cluster] DEBUG: Discovered topic 'b'Kafka_Assignment1''\n",
      "2023-10-01 18:26:12 [pykafka.cluster] DEBUG: Discovered topic 'b'etl''\n",
      "2023-10-01 18:26:12 [pykafka.cluster] DEBUG: Discovered topic 'b'etl1''\n",
      "2023-10-01 18:26:12 [pykafka.cluster] DEBUG: Discovered topic 'b'quickstart-events''\n",
      "2023-10-01 18:26:12 [pykafka.cluster] DEBUG: Discovered topic 'b'etl3''\n",
      "2023-10-01 18:26:12 [pykafka.cluster] DEBUG: Discovered topic 'b'etl4''\n",
      "2023-10-01 18:26:12 [pykafka.cluster] DEBUG: Discovered topic 'b'etl2''\n",
      "2023-10-01 18:26:12 [pykafka.connection] DEBUG: Connecting to localhost:9092\n",
      "2023-10-01 18:26:12 [pykafka.connection] DEBUG: Successfully connected to localhost:9092\n",
      "2023-10-01 18:26:12 [pykafka.handlers] INFO: RequestHandler.stop: about to flush requests queue\n",
      "2023-10-01 18:26:12 [pykafka.topic] INFO: Adding 1 partitions\n",
      "2023-10-01 18:26:12 [pykafka.topic] DEBUG: Adding partition b'etl4'/0\n",
      "2023-10-01 18:26:12 [scrapy.middleware] INFO: Enabled item pipelines:\n",
      "['news_scraper.pipelines.NewsScraperPipeline']\n",
      "2023-10-01 18:26:12 [scrapy.core.engine] INFO: Spider opened\n",
      "2023-10-01 18:26:12 [scrapy.extensions.logstats] INFO: Crawled 0 pages (at 0 pages/min), scraped 0 items (at 0 items/min)\n",
      "2023-10-01 18:26:12 [scrapy.extensions.telnet] INFO: Telnet console listening on 127.0.0.1:6023\n",
      "2023-10-01 18:26:12 [scrapy.addons] INFO: Enabled addons:\n",
      "[]\n",
      "2023-10-01 18:26:12 [py.warnings] WARNING: C:\\Users\\hp\\anaconda3\\lib\\site-packages\\scrapy\\utils\\request.py:254: ScrapyDeprecationWarning: '2.6' is a deprecated value for the 'REQUEST_FINGERPRINTER_IMPLEMENTATION' setting.\n",
      "\n",
      "It is also the default value. In other words, it is normal to get this warning if you have not defined a value for the 'REQUEST_FINGERPRINTER_IMPLEMENTATION' setting. This is so for backward compatibility reasons, but it will change in a future version of Scrapy.\n",
      "\n",
      "See the documentation of the 'REQUEST_FINGERPRINTER_IMPLEMENTATION' setting for information on how to handle this deprecation.\n",
      "  return cls(crawler)\n",
      "\n",
      "2023-10-01 18:26:12 [scrapy.extensions.telnet] INFO: Telnet Password: 0ccea4b55c50c16c\n",
      "2023-10-01 18:26:12 [scrapy.middleware] INFO: Enabled extensions:\n",
      "['scrapy.extensions.corestats.CoreStats',\n",
      " 'scrapy.extensions.telnet.TelnetConsole',\n",
      " 'scrapy.extensions.logstats.LogStats']\n",
      "2023-10-01 18:26:12 [scrapy.crawler] INFO: Overridden settings:\n",
      "{'BOT_NAME': 'news_scraper',\n",
      " 'NEWSPIDER_MODULE': 'news_scraper.spiders',\n",
      " 'ROBOTSTXT_OBEY': True,\n",
      " 'SPIDER_MODULES': ['news_scraper.spiders']}\n",
      "2023-10-01 18:26:12 [scrapy.middleware] INFO: Enabled downloader middlewares:\n",
      "['scrapy.downloadermiddlewares.robotstxt.RobotsTxtMiddleware',\n",
      " 'scrapy.downloadermiddlewares.httpauth.HttpAuthMiddleware',\n",
      " 'scrapy.downloadermiddlewares.downloadtimeout.DownloadTimeoutMiddleware',\n",
      " 'scrapy.downloadermiddlewares.defaultheaders.DefaultHeadersMiddleware',\n",
      " 'scrapy.downloadermiddlewares.useragent.UserAgentMiddleware',\n",
      " 'scrapy.downloadermiddlewares.retry.RetryMiddleware',\n",
      " 'scrapy.downloadermiddlewares.redirect.MetaRefreshMiddleware',\n",
      " 'scrapy.downloadermiddlewares.httpcompression.HttpCompressionMiddleware',\n",
      " 'scrapy.downloadermiddlewares.redirect.RedirectMiddleware',\n",
      " 'scrapy.downloadermiddlewares.cookies.CookiesMiddleware',\n",
      " 'scrapy.downloadermiddlewares.httpproxy.HttpProxyMiddleware',\n",
      " 'scrapy.downloadermiddlewares.stats.DownloaderStats']\n",
      "2023-10-01 18:26:12 [scrapy.middleware] INFO: Enabled spider middlewares:\n",
      "['scrapy.spidermiddlewares.httperror.HttpErrorMiddleware',\n",
      " 'scrapy.spidermiddlewares.offsite.OffsiteMiddleware',\n",
      " 'scrapy.spidermiddlewares.referer.RefererMiddleware',\n",
      " 'scrapy.spidermiddlewares.urllength.UrlLengthMiddleware',\n",
      " 'scrapy.spidermiddlewares.depth.DepthMiddleware']\n",
      "2023-10-01 18:26:12 [pykafka.cluster] INFO: Broker version is too old to use automatic API version discovery. Falling back to hardcoded versions list.\n",
      "2023-10-01 18:26:12 [pykafka.cluster] DEBUG: Updating cluster, attempt 1/3\n",
      "2023-10-01 18:26:12 [pykafka.connection] DEBUG: Connecting to localhost:9092\n",
      "2023-10-01 18:26:12 [pykafka.connection] DEBUG: Successfully connected to localhost:9092\n",
      "2023-10-01 18:26:12 [pykafka.handlers] INFO: RequestHandler.stop: about to flush requests queue\n",
      "2023-10-01 18:26:12 [pykafka.cluster] INFO: Discovered 1 brokers\n",
      "2023-10-01 18:26:12 [pykafka.cluster] DEBUG: Discovered broker id 0: b'192.168.100.25':9092\n"
     ]
    },
    {
     "name": "stderr",
     "output_type": "stream",
     "text": [
      "2023-10-01 18:26:12 [pykafka.connection] DEBUG: Connecting to b'192.168.100.25':9092\n",
      "2023-10-01 18:26:12 [pykafka.connection] DEBUG: Successfully connected to b'192.168.100.25':9092\n",
      "2023-10-01 18:26:12 [pykafka.cluster] INFO: Discovered 9 topics\n",
      "2023-10-01 18:26:12 [pykafka.cluster] DEBUG: Discovered topic 'b'capstone_att1''\n",
      "2023-10-01 18:26:12 [pykafka.cluster] DEBUG: Discovered topic 'b'Kafka_Assignment1''\n",
      "2023-10-01 18:26:12 [pykafka.cluster] DEBUG: Discovered topic 'b'etl''\n",
      "2023-10-01 18:26:12 [pykafka.cluster] DEBUG: Discovered topic 'b'etl1''\n",
      "2023-10-01 18:26:12 [pykafka.cluster] DEBUG: Discovered topic 'b'quickstart-events''\n",
      "2023-10-01 18:26:12 [pykafka.cluster] DEBUG: Discovered topic 'b'etl3''\n",
      "2023-10-01 18:26:12 [pykafka.cluster] DEBUG: Discovered topic 'b'etl4''\n",
      "2023-10-01 18:26:12 [pykafka.cluster] DEBUG: Discovered topic 'b'etl2''\n",
      "2023-10-01 18:26:12 [pykafka.connection] DEBUG: Connecting to localhost:9092\n",
      "2023-10-01 18:26:12 [pykafka.connection] DEBUG: Successfully connected to localhost:9092\n",
      "2023-10-01 18:26:12 [pykafka.handlers] INFO: RequestHandler.stop: about to flush requests queue\n",
      "2023-10-01 18:26:12 [pykafka.topic] INFO: Adding 1 partitions\n",
      "2023-10-01 18:26:12 [pykafka.topic] DEBUG: Adding partition b'etl4'/0\n",
      "2023-10-01 18:26:12 [scrapy.middleware] INFO: Enabled item pipelines:\n",
      "['news_scraper.pipelines.NewsScraperPipeline']\n",
      "2023-10-01 18:26:12 [scrapy.core.engine] INFO: Spider opened\n",
      "2023-10-01 18:26:12 [scrapy.extensions.logstats] INFO: Crawled 0 pages (at 0 pages/min), scraped 0 items (at 0 items/min)\n",
      "2023-10-01 18:26:12 [scrapy.extensions.telnet] INFO: Telnet console listening on 127.0.0.1:6024\n",
      "2023-10-01 18:26:12 [scrapy.addons] INFO: Enabled addons:\n",
      "[]\n",
      "2023-10-01 18:26:12 [scrapy.extensions.telnet] INFO: Telnet Password: b37fc852b02b90d2\n",
      "2023-10-01 18:26:12 [scrapy.middleware] INFO: Enabled extensions:\n",
      "['scrapy.extensions.corestats.CoreStats',\n",
      " 'scrapy.extensions.telnet.TelnetConsole',\n",
      " 'scrapy.extensions.logstats.LogStats']\n",
      "2023-10-01 18:26:12 [scrapy.crawler] INFO: Overridden settings:\n",
      "{'BOT_NAME': 'news_scraper',\n",
      " 'NEWSPIDER_MODULE': 'news_scraper.spiders',\n",
      " 'ROBOTSTXT_OBEY': True,\n",
      " 'SPIDER_MODULES': ['news_scraper.spiders']}\n",
      "2023-10-01 18:26:12 [scrapy.middleware] INFO: Enabled downloader middlewares:\n",
      "['scrapy.downloadermiddlewares.robotstxt.RobotsTxtMiddleware',\n",
      " 'scrapy.downloadermiddlewares.httpauth.HttpAuthMiddleware',\n",
      " 'scrapy.downloadermiddlewares.downloadtimeout.DownloadTimeoutMiddleware',\n",
      " 'scrapy.downloadermiddlewares.defaultheaders.DefaultHeadersMiddleware',\n",
      " 'scrapy.downloadermiddlewares.useragent.UserAgentMiddleware',\n",
      " 'scrapy.downloadermiddlewares.retry.RetryMiddleware',\n",
      " 'scrapy.downloadermiddlewares.redirect.MetaRefreshMiddleware',\n",
      " 'scrapy.downloadermiddlewares.httpcompression.HttpCompressionMiddleware',\n",
      " 'scrapy.downloadermiddlewares.redirect.RedirectMiddleware',\n",
      " 'scrapy.downloadermiddlewares.cookies.CookiesMiddleware',\n",
      " 'scrapy.downloadermiddlewares.httpproxy.HttpProxyMiddleware',\n",
      " 'scrapy.downloadermiddlewares.stats.DownloaderStats']\n",
      "2023-10-01 18:26:12 [scrapy.middleware] INFO: Enabled spider middlewares:\n",
      "['scrapy.spidermiddlewares.httperror.HttpErrorMiddleware',\n",
      " 'scrapy.spidermiddlewares.offsite.OffsiteMiddleware',\n",
      " 'scrapy.spidermiddlewares.referer.RefererMiddleware',\n",
      " 'scrapy.spidermiddlewares.urllength.UrlLengthMiddleware',\n",
      " 'scrapy.spidermiddlewares.depth.DepthMiddleware']\n",
      "2023-10-01 18:26:12 [pykafka.cluster] INFO: Broker version is too old to use automatic API version discovery. Falling back to hardcoded versions list.\n",
      "2023-10-01 18:26:12 [pykafka.cluster] DEBUG: Updating cluster, attempt 1/3\n",
      "2023-10-01 18:26:12 [pykafka.connection] DEBUG: Connecting to localhost:9092\n",
      "2023-10-01 18:26:12 [pykafka.connection] DEBUG: Successfully connected to localhost:9092\n",
      "2023-10-01 18:26:12 [pykafka.handlers] INFO: RequestHandler.stop: about to flush requests queue\n",
      "2023-10-01 18:26:12 [pykafka.cluster] INFO: Discovered 1 brokers\n",
      "2023-10-01 18:26:12 [pykafka.cluster] DEBUG: Discovered broker id 0: b'192.168.100.25':9092\n",
      "2023-10-01 18:26:12 [pykafka.connection] DEBUG: Connecting to b'192.168.100.25':9092\n",
      "2023-10-01 18:26:12 [pykafka.connection] DEBUG: Successfully connected to b'192.168.100.25':9092\n",
      "2023-10-01 18:26:12 [pykafka.cluster] INFO: Discovered 9 topics\n",
      "2023-10-01 18:26:12 [pykafka.cluster] DEBUG: Discovered topic 'b'capstone_att1''\n",
      "2023-10-01 18:26:12 [pykafka.cluster] DEBUG: Discovered topic 'b'Kafka_Assignment1''\n",
      "2023-10-01 18:26:12 [pykafka.cluster] DEBUG: Discovered topic 'b'etl''\n",
      "2023-10-01 18:26:12 [pykafka.cluster] DEBUG: Discovered topic 'b'etl1''\n",
      "2023-10-01 18:26:12 [pykafka.cluster] DEBUG: Discovered topic 'b'quickstart-events''\n",
      "2023-10-01 18:26:12 [pykafka.cluster] DEBUG: Discovered topic 'b'etl3''\n",
      "2023-10-01 18:26:12 [pykafka.cluster] DEBUG: Discovered topic 'b'etl4''\n",
      "2023-10-01 18:26:12 [pykafka.cluster] DEBUG: Discovered topic 'b'etl2''\n",
      "2023-10-01 18:26:12 [pykafka.connection] DEBUG: Connecting to localhost:9092\n",
      "2023-10-01 18:26:12 [pykafka.connection] DEBUG: Successfully connected to localhost:9092\n",
      "2023-10-01 18:26:12 [pykafka.handlers] INFO: RequestHandler.stop: about to flush requests queue\n",
      "2023-10-01 18:26:12 [pykafka.topic] INFO: Adding 1 partitions\n",
      "2023-10-01 18:26:12 [pykafka.topic] DEBUG: Adding partition b'etl4'/0\n",
      "2023-10-01 18:26:12 [scrapy.middleware] INFO: Enabled item pipelines:\n",
      "['news_scraper.pipelines.NewsScraperPipeline']\n",
      "2023-10-01 18:26:12 [scrapy.core.engine] INFO: Spider opened\n",
      "2023-10-01 18:26:12 [scrapy.extensions.logstats] INFO: Crawled 0 pages (at 0 pages/min), scraped 0 items (at 0 items/min)\n",
      "2023-10-01 18:26:12 [scrapy.extensions.telnet] INFO: Telnet console listening on 127.0.0.1:6025\n",
      "2023-10-01 18:26:12 [scrapy.addons] INFO: Enabled addons:\n",
      "[]\n",
      "2023-10-01 18:26:12 [scrapy.extensions.telnet] INFO: Telnet Password: 1962dd2c513d562e\n",
      "2023-10-01 18:26:12 [scrapy.middleware] INFO: Enabled extensions:\n",
      "['scrapy.extensions.corestats.CoreStats',\n",
      " 'scrapy.extensions.telnet.TelnetConsole',\n",
      " 'scrapy.extensions.logstats.LogStats']\n",
      "2023-10-01 18:26:12 [scrapy.crawler] INFO: Overridden settings:\n",
      "{'BOT_NAME': 'news_scraper',\n",
      " 'NEWSPIDER_MODULE': 'news_scraper.spiders',\n",
      " 'ROBOTSTXT_OBEY': True,\n",
      " 'SPIDER_MODULES': ['news_scraper.spiders']}\n",
      "2023-10-01 18:26:12 [scrapy.middleware] INFO: Enabled downloader middlewares:\n",
      "['scrapy.downloadermiddlewares.robotstxt.RobotsTxtMiddleware',\n",
      " 'scrapy.downloadermiddlewares.httpauth.HttpAuthMiddleware',\n",
      " 'scrapy.downloadermiddlewares.downloadtimeout.DownloadTimeoutMiddleware',\n",
      " 'scrapy.downloadermiddlewares.defaultheaders.DefaultHeadersMiddleware',\n",
      " 'scrapy.downloadermiddlewares.useragent.UserAgentMiddleware',\n",
      " 'scrapy.downloadermiddlewares.retry.RetryMiddleware',\n",
      " 'scrapy.downloadermiddlewares.redirect.MetaRefreshMiddleware',\n",
      " 'scrapy.downloadermiddlewares.httpcompression.HttpCompressionMiddleware',\n",
      " 'scrapy.downloadermiddlewares.redirect.RedirectMiddleware',\n",
      " 'scrapy.downloadermiddlewares.cookies.CookiesMiddleware',\n",
      " 'scrapy.downloadermiddlewares.httpproxy.HttpProxyMiddleware',\n",
      " 'scrapy.downloadermiddlewares.stats.DownloaderStats']\n",
      "2023-10-01 18:26:12 [scrapy.middleware] INFO: Enabled spider middlewares:\n",
      "['scrapy.spidermiddlewares.httperror.HttpErrorMiddleware',\n",
      " 'scrapy.spidermiddlewares.offsite.OffsiteMiddleware',\n",
      " 'scrapy.spidermiddlewares.referer.RefererMiddleware',\n",
      " 'scrapy.spidermiddlewares.urllength.UrlLengthMiddleware',\n",
      " 'scrapy.spidermiddlewares.depth.DepthMiddleware']\n",
      "2023-10-01 18:26:12 [pykafka.cluster] INFO: Broker version is too old to use automatic API version discovery. Falling back to hardcoded versions list.\n",
      "2023-10-01 18:26:12 [pykafka.cluster] DEBUG: Updating cluster, attempt 1/3\n",
      "2023-10-01 18:26:12 [pykafka.connection] DEBUG: Connecting to localhost:9092\n",
      "2023-10-01 18:26:12 [pykafka.connection] DEBUG: Successfully connected to localhost:9092\n",
      "2023-10-01 18:26:12 [pykafka.handlers] INFO: RequestHandler.stop: about to flush requests queue\n",
      "2023-10-01 18:26:12 [pykafka.cluster] INFO: Discovered 1 brokers\n",
      "2023-10-01 18:26:12 [pykafka.cluster] DEBUG: Discovered broker id 0: b'192.168.100.25':9092\n",
      "2023-10-01 18:26:12 [pykafka.connection] DEBUG: Connecting to b'192.168.100.25':9092\n",
      "2023-10-01 18:26:12 [pykafka.connection] DEBUG: Successfully connected to b'192.168.100.25':9092\n"
     ]
    },
    {
     "name": "stderr",
     "output_type": "stream",
     "text": [
      "2023-10-01 18:26:12 [pykafka.cluster] INFO: Discovered 9 topics\n",
      "2023-10-01 18:26:12 [pykafka.cluster] DEBUG: Discovered topic 'b'capstone_att1''\n",
      "2023-10-01 18:26:12 [pykafka.cluster] DEBUG: Discovered topic 'b'Kafka_Assignment1''\n",
      "2023-10-01 18:26:12 [pykafka.cluster] DEBUG: Discovered topic 'b'etl''\n",
      "2023-10-01 18:26:12 [pykafka.cluster] DEBUG: Discovered topic 'b'etl1''\n",
      "2023-10-01 18:26:12 [pykafka.cluster] DEBUG: Discovered topic 'b'quickstart-events''\n",
      "2023-10-01 18:26:12 [pykafka.cluster] DEBUG: Discovered topic 'b'etl3''\n",
      "2023-10-01 18:26:12 [pykafka.cluster] DEBUG: Discovered topic 'b'etl4''\n",
      "2023-10-01 18:26:12 [pykafka.cluster] DEBUG: Discovered topic 'b'etl2''\n",
      "2023-10-01 18:26:12 [pykafka.connection] DEBUG: Connecting to localhost:9092\n",
      "2023-10-01 18:26:12 [pykafka.connection] DEBUG: Successfully connected to localhost:9092\n",
      "2023-10-01 18:26:12 [pykafka.handlers] INFO: RequestHandler.stop: about to flush requests queue\n",
      "2023-10-01 18:26:12 [pykafka.topic] INFO: Adding 1 partitions\n",
      "2023-10-01 18:26:12 [pykafka.topic] DEBUG: Adding partition b'etl4'/0\n",
      "2023-10-01 18:26:12 [scrapy.middleware] INFO: Enabled item pipelines:\n",
      "['news_scraper.pipelines.NewsScraperPipeline']\n",
      "2023-10-01 18:26:12 [scrapy.core.engine] INFO: Spider opened\n",
      "2023-10-01 18:26:12 [scrapy.extensions.logstats] INFO: Crawled 0 pages (at 0 pages/min), scraped 0 items (at 0 items/min)\n",
      "2023-10-01 18:26:12 [scrapy.extensions.telnet] INFO: Telnet console listening on 127.0.0.1:6026\n",
      "2023-10-01 18:26:12 [scrapy.core.engine] DEBUG: Crawled (200) <GET https://www.aljazeera.com/robots.txt> (referer: None)\n",
      "2023-10-01 18:26:12 [scrapy.core.engine] DEBUG: Crawled (200) <GET https://feeds.skynews.com/robots.txt> (referer: None)\n",
      "2023-10-01 18:26:12 [scrapy.core.engine] DEBUG: Crawled (200) <GET https://www.bbc.com/robots.txt> (referer: None)\n",
      "2023-10-01 18:26:12 [scrapy.core.engine] DEBUG: Crawled (200) <GET https://www.aljazeera.com/news> (referer: None)\n",
      "2023-10-01 18:26:12 [scrapy.core.engine] DEBUG: Crawled (200) <GET https://feeds.skynews.com/feeds/rss/world.xml> (referer: None)\n",
      "2023-10-01 18:26:13 [pykafka.producer] INFO: Starting new produce worker for broker 0\n",
      "2023-10-01 18:26:13 [pykafka.producer] DEBUG: Sending 1 messages to broker 0\n",
      "2023-10-01 18:26:13 [pykafka.handlers] INFO: RequestHandler worker: exiting cleanly\n",
      "2023-10-01 18:26:13 [pykafka.producer] DEBUG: Successfully sent 1/1 messages to broker 0\n",
      "2023-10-01 18:26:13 [scrapy.core.scraper] DEBUG: Scraped from <200 https://www.aljazeera.com/news>\n",
      "At least 13 dead in night­club fire in Spain’s Mur­cia, 1 Oct 2023, Res­cuers search­ing for peo­ple un­ac­count­ed for af­ter blaze hits row of night­clubs pop­u­lar for birth­day cel­e­bra­tions., /news/2023/10/1/at-least-13-dead-in-nightclub-fire-in-spains-murcia, A\n",
      "2023-10-01 18:26:13 [pykafka.producer] DEBUG: Finalising <pykafka.producer.Producer at 0x239f40cb850>\n",
      "2023-10-01 18:26:13 [pykafka.producer] INFO: Blocking until all messages are sent or until pending_timeout_ms\n",
      "Exception ignored in: <function Producer.__del__ at 0x00000239F25449D0>\n",
      "Traceback (most recent call last):\n",
      "  File \"C:\\Users\\hp\\anaconda3\\lib\\site-packages\\pykafka\\producer.py\", line 235, in __del__\n",
      "2023-10-01 18:26:13 [pykafka.producer] INFO: Starting new produce worker for broker 0\n",
      "    self.stop()\n",
      "  File \"C:\\Users\\hp\\anaconda3\\lib\\site-packages\\pykafka\\producer.py\", line 344, in stop\n",
      "    2023-10-01 18:26:13 [pykafka.producer] DEBUG: Sending 1 messages to broker 0\n",
      "queue_reader.join()\n",
      "  File \"C:\\Users\\hp\\anaconda3\\lib\\threading.py\", line 1057, in join\n",
      "2023-10-01 18:26:13 [pykafka.handlers] INFO: RequestHandler worker: exiting cleanly\n",
      "    raise RuntimeError(\"cannot join current thread\")\n",
      "RuntimeError: cannot join current thread\n",
      "2023-10-01 18:26:13 [pykafka.producer] INFO: Worker exited for broker b'192.168.100.25':9092\n",
      "2023-10-01 18:26:13 [pykafka.producer] DEBUG: Successfully sent 1/1 messages to broker 0\n",
      "2023-10-01 18:26:13 [scrapy.core.scraper] DEBUG: Scraped from <200 https://www.aljazeera.com/news>\n",
      "Afghanistan em­bassy clos­es in In­dia cit­ing lack of diplo­mat­ic sup­port, 1 Oct 2023, The move comes due to lack of sup­port from In­dia and in­creas­ing­ly chal­leng­ing con­di­tions to op­er­ate, the em­bassy says., /news/2023/10/1/afghanistan-embassy-closes-in-india-citing-lack-of-diplomatic-support, A\n",
      "2023-10-01 18:26:13 [pykafka.producer] DEBUG: Finalising <pykafka.producer.Producer at 0x239f32ec790>\n",
      "2023-10-01 18:26:13 [pykafka.producer] INFO: Blocking until all messages are sent or until pending_timeout_ms\n",
      "Exception ignored in: <function Producer.__del__ at 0x00000239F25449D0>\n",
      "Traceback (most recent call last):\n",
      "  File \"C:\\Users\\hp\\anaconda3\\lib\\site-packages\\pykafka\\producer.py\", line 235, in __del__\n",
      "2023-10-01 18:26:13 [pykafka.producer] INFO: Starting new produce worker for broker 0\n",
      "    self.stop()\n",
      "  File \"C:\\Users\\hp\\anaconda3\\lib\\site-packages\\pykafka\\producer.py\", line 344, in stop\n",
      "2023-10-01 18:26:13 [pykafka.producer] DEBUG: Sending 1 messages to broker 0\n",
      "    queue_reader.join()\n",
      "  File \"C:\\Users\\hp\\anaconda3\\lib\\threading.py\", line 1057, in join\n",
      "    raise RuntimeError(\"cannot join current thread\")\n",
      "RuntimeError: cannot join current thread\n",
      "2023-10-01 18:26:13 [pykafka.producer] INFO: Worker exited for broker b'192.168.100.25':9092\n",
      "2023-10-01 18:26:13 [pykafka.producer] DEBUG: Successfully sent 1/1 messages to broker 0\n",
      "2023-10-01 18:26:13 [scrapy.core.scraper] DEBUG: Scraped from <200 https://feeds.skynews.com/feeds/rss/world.xml>\n",
      "At least 13 people killed in nightclub fire in Spain, Sun, 01 Oct 2023 10:07:00 +0100, At least 13 people have died in a nightclub fire in Murcia in southeast Spain, officials have said., https://news.sky.com/story/at-least-six-people-killed-in-nightclub-fire-in-spain-12974025, S\n",
      "2023-10-01 18:26:13 [pykafka.producer] DEBUG: Finalising <pykafka.producer.Producer at 0x239f40af760>\n",
      "2023-10-01 18:26:13 [pykafka.producer] INFO: Blocking until all messages are sent or until pending_timeout_ms\n",
      "Exception ignored in: <function Producer.__del__ at 0x00000239F25449D0>\n",
      "Traceback (most recent call last):\n",
      "  File \"C:\\Users\\hp\\anaconda3\\lib\\site-packages\\pykafka\\producer.py\", line 235, in __del__\n",
      "    self.stop()\n",
      "  File \"C:\\Users\\hp\\anaconda3\\lib\\site-packages\\pykafka\\producer.py\", line 344, in stop\n",
      "    queue_reader.join()\n",
      "  File \"C:\\Users\\hp\\anaconda3\\lib\\threading.py\", line 1057, in join\n",
      "2023-10-01 18:26:13 [pykafka.producer] INFO: Starting new produce worker for broker 0\n",
      "2023-10-01 18:26:13 [pykafka.producer] DEBUG: Sending 1 messages to broker 0\n",
      "    raise RuntimeError(\"cannot join current thread\")\n",
      "RuntimeError: cannot join current thread\n",
      "2023-10-01 18:26:13 [pykafka.producer] INFO: Worker exited for broker b'192.168.100.25':9092\n",
      "2023-10-01 18:26:13 [pykafka.producer] DEBUG: Successfully sent 1/1 messages to broker 0\n",
      "2023-10-01 18:26:13 [scrapy.core.scraper] DEBUG: Scraped from <200 https://www.aljazeera.com/news>\n",
      "Pho­tos: Turkey’s cap­i­tal hit by sui­cide blast, 1 Oct 2023, Sui­cide blast took place near par­lia­ment in Ankara leav­ing two po­lice of­fi­cers in­jured, the in­te­ri­or min­istry says., /gallery/2023/10/1/turkeys-ankara-hit-by-suicide-blast, A\n",
      "2023-10-01 18:26:13 [pykafka.producer] DEBUG: Finalising <pykafka.producer.Producer at 0x239f39fe040>\n",
      "2023-10-01 18:26:13 [pykafka.producer] INFO: Starting new produce worker for broker 0\n",
      "2023-10-01 18:26:13 [pykafka.producer] INFO: Blocking until all messages are sent or until pending_timeout_ms\n",
      "Exception ignored in: <function Producer.__del__ at 0x00000239F25449D0>\n",
      "Traceback (most recent call last):\n",
      "  File \"C:\\Users\\hp\\anaconda3\\lib\\site-packages\\pykafka\\producer.py\", line 235, in __del__\n",
      "2023-10-01 18:26:13 [pykafka.producer] DEBUG: Sending 1 messages to broker 0\n",
      "    self.stop()\n",
      "  File \"C:\\Users\\hp\\anaconda3\\lib\\site-packages\\pykafka\\producer.py\", line 344, in stop\n",
      "    queue_reader.join()\n",
      "  File \"C:\\Users\\hp\\anaconda3\\lib\\threading.py\", line 1057, in join\n",
      "2023-10-01 18:26:13 [pykafka.producer] DEBUG: Successfully sent 1/1 messages to broker 0\n",
      "    raise RuntimeError(\"cannot join current thread\")\n",
      "RuntimeError: cannot join current thread\n",
      "2023-10-01 18:26:13 [scrapy.core.scraper] DEBUG: Scraped from <200 https://feeds.skynews.com/feeds/rss/world.xml>\n",
      "US Powerball jackpot reaches whopping $1.04bn, Sun, 01 Oct 2023 09:00:00 +0100, The US Powerball jackpot has risen to a whopping $1.04bn (around &#163;852m) after no one won over the weekend., https://news.sky.com/story/us-powerball-jackpot-reaches-whopping-104bn-12973973, S\n"
     ]
    },
    {
     "name": "stderr",
     "output_type": "stream",
     "text": [
      "2023-10-01 18:26:13 [pykafka.producer] DEBUG: Finalising <pykafka.producer.Producer at 0x239f32dbf10>\n",
      "2023-10-01 18:26:13 [pykafka.producer] INFO: Worker exited for broker b'192.168.100.25':9092\n",
      "2023-10-01 18:26:13 [pykafka.handlers] INFO: RequestHandler worker: exiting cleanly\n",
      "2023-10-01 18:26:13 [pykafka.producer] INFO: Blocking until all messages are sent or until pending_timeout_ms\n",
      "Exception ignored in: <function Producer.__del__ at 0x00000239F25449D0>\n",
      "Traceback (most recent call last):\n",
      "  File \"C:\\Users\\hp\\anaconda3\\lib\\site-packages\\pykafka\\producer.py\", line 235, in __del__\n",
      "2023-10-01 18:26:13 [pykafka.producer] INFO: Starting new produce worker for broker 0\n",
      "    self.stop()\n",
      "  File \"C:\\Users\\hp\\anaconda3\\lib\\site-packages\\pykafka\\producer.py\", line 344, in stop\n",
      "2023-10-01 18:26:13 [pykafka.producer] DEBUG: Sending 1 messages to broker 0\n",
      "    queue_reader.join()\n",
      "  File \"C:\\Users\\hp\\anaconda3\\lib\\threading.py\", line 1057, in join\n",
      "    raise RuntimeError(\"cannot join current thread\")\n",
      "RuntimeError: cannot join current thread\n",
      "2023-10-01 18:26:13 [pykafka.producer] DEBUG: Successfully sent 1/1 messages to broker 0\n",
      "2023-10-01 18:26:13 [scrapy.core.scraper] DEBUG: Scraped from <200 https://www.aljazeera.com/news>\n",
      "Un­leash bowlers, scrap um­pire’s call: Rules crick­et needs to change, 1 Oct 2023, Free hits, um­pire’s calls and over lim­its are among five rules Al Jazeera thinks should be done away with in crick­et., /sports/2023/10/1/five-rules-cricket-needs-to-change, A\n",
      "2023-10-01 18:26:13 [pykafka.producer] INFO: Worker exited for broker b'192.168.100.25':9092\n",
      "2023-10-01 18:26:13 [pykafka.producer] DEBUG: Finalising <pykafka.producer.Producer at 0x239f409bbb0>\n",
      "2023-10-01 18:26:13 [pykafka.producer] INFO: Starting new produce worker for broker 0\n",
      "2023-10-01 18:26:13 [pykafka.producer] INFO: Blocking until all messages are sent or until pending_timeout_ms\n",
      "Exception ignored in: <function Producer.__del__ at 0x00000239F25449D0>\n",
      "Traceback (most recent call last):\n",
      "  File \"C:\\Users\\hp\\anaconda3\\lib\\site-packages\\pykafka\\producer.py\", line 235, in __del__\n",
      "2023-10-01 18:26:13 [pykafka.producer] DEBUG: Sending 1 messages to broker 0\n",
      "    self.stop()\n",
      "  File \"C:\\Users\\hp\\anaconda3\\lib\\site-packages\\pykafka\\producer.py\", line 344, in stop\n",
      "2023-10-01 18:26:13 [pykafka.handlers] INFO: RequestHandler worker: exiting cleanly\n",
      "    queue_reader.join()\n",
      "  File \"C:\\Users\\hp\\anaconda3\\lib\\threading.py\", line 1057, in join\n",
      "2023-10-01 18:26:13 [pykafka.producer] DEBUG: Successfully sent 1/1 messages to broker 0\n",
      "    raise RuntimeError(\"cannot join current thread\")\n",
      "RuntimeError: cannot join current thread\n",
      "2023-10-01 18:26:13 [scrapy.core.scraper] DEBUG: Scraped from <200 https://feeds.skynews.com/feeds/rss/world.xml>\n",
      "Pro-Russia former PM wins Slovakia elections but must forge coalition, Sun, 01 Oct 2023 07:30:00 +0100, A pro-Kremlin, anti-American politician has staged a political comeback to win parliamentary elections in Slovakia., https://news.sky.com/story/slovakia-elections-pro-russia-former-pm-robert-fico-wins-poll-but-must-forge-coalition-12973943, S\n",
      "2023-10-01 18:26:13 [pykafka.producer] DEBUG: Finalising <pykafka.producer.Producer at 0x239f40ac9a0>\n",
      "2023-10-01 18:26:13 [pykafka.producer] INFO: Worker exited for broker b'192.168.100.25':9092\n",
      "2023-10-01 18:26:13 [pykafka.producer] INFO: Blocking until all messages are sent or until pending_timeout_ms\n",
      "Exception ignored in: <function Producer.__del__ at 0x00000239F25449D0>\n",
      "Traceback (most recent call last):\n",
      "  File \"C:\\Users\\hp\\anaconda3\\lib\\site-packages\\pykafka\\producer.py\", line 235, in __del__\n",
      "2023-10-01 18:26:13 [pykafka.producer] INFO: Starting new produce worker for broker 0\n",
      "    self.stop()\n",
      "  File \"C:\\Users\\hp\\anaconda3\\lib\\site-packages\\pykafka\\producer.py\", line 344, in stop\n",
      "2023-10-01 18:26:13 [pykafka.producer] DEBUG: Sending 1 messages to broker 0\n",
      "    queue_reader.join()\n",
      "  File \"C:\\Users\\hp\\anaconda3\\lib\\threading.py\", line 1057, in join\n",
      "    raise RuntimeError(\"cannot join current thread\")\n",
      "RuntimeError: cannot join current thread\n",
      "2023-10-01 18:26:13 [pykafka.producer] INFO: Worker exited for broker b'192.168.100.25':9092\n",
      "2023-10-01 18:26:13 [pykafka.producer] DEBUG: Successfully sent 1/1 messages to broker 0\n",
      "2023-10-01 18:26:13 [scrapy.core.scraper] DEBUG: Scraped from <200 https://www.aljazeera.com/news>\n",
      "US gov­ern­ment shut­down avert­ed. What hap­pens next?, 1 Oct 2023, Con­gress has passed a stop­gap mea­sure, but will law­mak­ers agree on de­tailed spend­ing bills for the en­tire fis­cal year?, /news/2023/10/1/us-government-shutdown-averted-what-happens-next, A\n",
      "2023-10-01 18:26:13 [pykafka.producer] DEBUG: Finalising <pykafka.producer.Producer at 0x239f367d9d0>\n",
      "2023-10-01 18:26:13 [pykafka.producer] INFO: Starting new produce worker for broker 0\n",
      "2023-10-01 18:26:13 [pykafka.producer] INFO: Blocking until all messages are sent or until pending_timeout_ms\n",
      "Exception ignored in: <function Producer.__del__ at 0x00000239F25449D0>\n",
      "Traceback (most recent call last):\n",
      "  File \"C:\\Users\\hp\\anaconda3\\lib\\site-packages\\pykafka\\producer.py\", line 235, in __del__\n",
      "2023-10-01 18:26:13 [pykafka.producer] DEBUG: Sending 1 messages to broker 0\n",
      "    self.stop()\n",
      "  File \"C:\\Users\\hp\\anaconda3\\lib\\site-packages\\pykafka\\producer.py\", line 344, in stop\n",
      "    queue_reader.join()\n",
      "  File \"C:\\Users\\hp\\anaconda3\\lib\\threading.py\", line 1057, in join\n",
      "2023-10-01 18:26:13 [pykafka.producer] DEBUG: Successfully sent 1/1 messages to broker 0\n",
      "2023-10-01 18:26:13 [scrapy.core.scraper] DEBUG: Scraped from <200 https://feeds.skynews.com/feeds/rss/world.xml>\n",
      "Terror suspect killed in shootout after suicide bombing in Turkey, Sun, 01 Oct 2023 09:47:00 +0100, A suicide bomber has detonated an explosive device in front of government buildings in the Turkish capital Ankara., https://news.sky.com/story/turkey-terror-suspect-killed-in-shootout-after-suicide-bombing-12974014, S\n",
      "    2023-10-01 18:26:13 [pykafka.producer] DEBUG: Finalising <pykafka.producer.Producer at 0x239f409b280>\n",
      "raise RuntimeError(\"cannot join current thread\")\n",
      "RuntimeError: cannot join current thread\n",
      "2023-10-01 18:26:13 [pykafka.producer] INFO: Blocking until all messages are sent or until pending_timeout_ms\n",
      "Exception ignored in: 2023-10-01 18:26:13 [pykafka.producer] INFO: Worker exited for broker b'192.168.100.25':9092\n",
      "<function Producer.__del__ at 0x00000239F25449D0>\n",
      "Traceback (most recent call last):\n",
      "  File \"C:\\Users\\hp\\anaconda3\\lib\\site-packages\\pykafka\\producer.py\", line 235, in __del__\n",
      "2023-10-01 18:26:13 [pykafka.handlers] INFO: RequestHandler worker: exiting cleanly\n",
      "    self.stop()\n",
      "  File \"C:\\Users\\hp\\anaconda3\\lib\\site-packages\\pykafka\\producer.py\", line 344, in stop\n",
      "    queue_reader.join()\n",
      "  File \"C:\\Users\\hp\\anaconda3\\lib\\threading.py\", line 1057, in join\n",
      "    raise RuntimeError(\"cannot join current thread\")\n",
      "RuntimeError: cannot join current thread\n",
      "2023-10-01 18:26:13 [pykafka.producer] INFO: Worker exited for broker b'192.168.100.25':9092\n",
      "2023-10-01 18:26:13 [scrapy.core.engine] DEBUG: Crawled (200) <GET https://www.bbc.com/news/world> (referer: None)\n",
      "2023-10-01 18:26:13 [pykafka.handlers] INFO: RequestHandler worker: exiting cleanly\n",
      "2023-10-01 18:26:13 [pykafka.producer] INFO: Starting new produce worker for broker 0\n",
      "2023-10-01 18:26:13 [pykafka.producer] DEBUG: Sending 1 messages to broker 0\n",
      "2023-10-01 18:26:13 [pykafka.producer] DEBUG: Successfully sent 1/1 messages to broker 0\n",
      "2023-10-01 18:26:13 [scrapy.core.scraper] DEBUG: Scraped from <200 https://www.aljazeera.com/news>\n",
      "In­ter­na­tion­al Cof­fee Day: Where does your caf­feine fix come from?, 1 Oct 2023, Brazil is the world’s largest pro­duc­er of cof­fee, pro­duc­ing about one-third of glob­al sup­ply., /news/2023/10/1/international-coffee-day-where-does-your-caffeine-fix-come-from, A\n",
      "2023-10-01 18:26:13 [pykafka.producer] DEBUG: Finalising <pykafka.producer.Producer at 0x239f39fe0d0>\n",
      "2023-10-01 18:26:13 [pykafka.producer] INFO: Starting new produce worker for broker 0\n",
      "2023-10-01 18:26:13 [pykafka.producer] INFO: Blocking until all messages are sent or until pending_timeout_ms\n",
      "Exception ignored in: 2023-10-01 18:26:13 [pykafka.producer] DEBUG: Sending 1 messages to broker 0\n",
      "<function Producer.__del__ at 0x00000239F25449D0>\n",
      "Traceback (most recent call last):\n",
      "  File \"C:\\Users\\hp\\anaconda3\\lib\\site-packages\\pykafka\\producer.py\", line 235, in __del__\n"
     ]
    },
    {
     "name": "stderr",
     "output_type": "stream",
     "text": [
      "    self.stop()\n",
      "  File \"C:\\Users\\hp\\anaconda3\\lib\\site-packages\\pykafka\\producer.py\", line 344, in stop\n",
      "2023-10-01 18:26:13 [pykafka.producer] DEBUG: Successfully sent 1/1 messages to broker 0\n",
      "2023-10-01 18:26:13 [scrapy.core.scraper] DEBUG: Scraped from <200 https://feeds.skynews.com/feeds/rss/world.xml>\n",
      "US narrowly avoids government shutdown, Sun, 01 Oct 2023 02:03:00 +0100, The US has narrowly avoided a government shutdown - with just three hours to spare before current funding expired. , https://news.sky.com/story/us-narrowly-avoids-government-shutdown-12973908, S\n",
      "    queue_reader.join()\n",
      "  File \"C:\\Users\\hp\\anaconda3\\lib\\threading.py\", line 1057, in join\n",
      "2023-10-01 18:26:13 [pykafka.producer] DEBUG: Finalising <pykafka.producer.Producer at 0x239f40acd90>\n",
      "    2023-10-01 18:26:13 [pykafka.producer] INFO: Starting new produce worker for broker 0\n",
      "raise RuntimeError(\"cannot join current thread\")\n",
      "RuntimeError: cannot join current thread\n",
      "2023-10-01 18:26:13 [pykafka.producer] INFO: Blocking until all messages are sent or until pending_timeout_ms\n",
      "Exception ignored in: <function Producer.__del__ at 0x00000239F25449D0>\n",
      "Traceback (most recent call last):\n",
      "  File \"C:\\Users\\hp\\anaconda3\\lib\\site-packages\\pykafka\\producer.py\", line 235, in __del__\n",
      "2023-10-01 18:26:13 [pykafka.producer] INFO: Worker exited for broker b'192.168.100.25':9092\n",
      "2023-10-01 18:26:13 [pykafka.producer] DEBUG: Sending 1 messages to broker 0\n",
      "    self.stop()\n",
      "  File \"C:\\Users\\hp\\anaconda3\\lib\\site-packages\\pykafka\\producer.py\", line 344, in stop\n",
      "2023-10-01 18:26:13 [pykafka.handlers] INFO: RequestHandler worker: exiting cleanly\n",
      "    queue_reader.join()\n",
      "  File \"C:\\Users\\hp\\anaconda3\\lib\\threading.py\", line 1057, in join\n",
      "2023-10-01 18:26:13 [pykafka.producer] DEBUG: Successfully sent 1/1 messages to broker 0\n",
      "    raise RuntimeError(\"cannot join current thread\")\n",
      "RuntimeError: cannot join current thread\n",
      "2023-10-01 18:26:13 [scrapy.core.scraper] DEBUG: Scraped from <200 https://www.aljazeera.com/news>\n",
      "Who is Mo­hamed Muiz­zu, Mal­dives’s pro-Chi­na pres­i­dent-elect?, 1 Oct 2023, The op­po­si­tion can­di­date beats the in­cum­bent, Pres­i­dent Ibrahim Mo­hamed Solih, who is con­sid­ered pro-In­dia., /news/2023/10/1/who-is-mohamed-muizzu-maldivess-pro-china-president-elect, A\n",
      "2023-10-01 18:26:13 [pykafka.producer] DEBUG: Finalising <pykafka.producer.Producer at 0x239f3a0c340>\n",
      "2023-10-01 18:26:13 [pykafka.producer] INFO: Worker exited for broker b'192.168.100.25':9092\n",
      "2023-10-01 18:26:13 [pykafka.producer] INFO: Starting new produce worker for broker 0\n",
      "2023-10-01 18:26:13 [pykafka.producer] INFO: Blocking until all messages are sent or until pending_timeout_ms\n",
      "Exception ignored in: 2023-10-01 18:26:13 [pykafka.producer] DEBUG: Sending 1 messages to broker 0\n",
      "<function Producer.__del__ at 0x00000239F25449D0>\n",
      "Traceback (most recent call last):\n",
      "  File \"C:\\Users\\hp\\anaconda3\\lib\\site-packages\\pykafka\\producer.py\", line 235, in __del__\n",
      "    self.stop()\n",
      "  File \"C:\\Users\\hp\\anaconda3\\lib\\site-packages\\pykafka\\producer.py\", line 344, in stop\n",
      "2023-10-01 18:26:13 [pykafka.handlers] INFO: RequestHandler worker: exiting cleanly\n",
      "    queue_reader.join()\n",
      "  File \"C:\\Users\\hp\\anaconda3\\lib\\threading.py\", line 1057, in join\n",
      "2023-10-01 18:26:13 [pykafka.producer] DEBUG: Successfully sent 1/1 messages to broker 0\n",
      "    raise RuntimeError(\"cannot join current thread\")\n",
      "RuntimeError: cannot join current thread\n",
      "2023-10-01 18:26:13 [scrapy.core.scraper] DEBUG: Scraped from <200 https://feeds.skynews.com/feeds/rss/world.xml>\n",
      "Europe win back the Ryder Cup, Sun, 01 Oct 2023 14:35:00 +0100, Europe's golfers have won back the Ryder Cup from the USA after an event-packed tournament in Rome., https://news.sky.com/story/ryder-cup-europe-wins-back-trophy-after-acrimonious-tournament-ends-in-rome-12974264, S\n",
      "2023-10-01 18:26:13 [pykafka.producer] DEBUG: Finalising <pykafka.producer.Producer at 0x239f40accd0>\n",
      "2023-10-01 18:26:13 [pykafka.producer] INFO: Worker exited for broker b'192.168.100.25':9092\n",
      "2023-10-01 18:26:13 [pykafka.producer] INFO: Starting new produce worker for broker 0\n",
      "2023-10-01 18:26:13 [pykafka.producer] INFO: Blocking until all messages are sent or until pending_timeout_ms\n",
      "Exception ignored in: <function Producer.__del__ at 0x00000239F25449D0>\n",
      "Traceback (most recent call last):\n",
      "  File \"C:\\Users\\hp\\anaconda3\\lib\\site-packages\\pykafka\\producer.py\", line 235, in __del__\n",
      "2023-10-01 18:26:13 [pykafka.producer] DEBUG: Sending 1 messages to broker 0\n",
      "    self.stop()\n",
      "  File \"C:\\Users\\hp\\anaconda3\\lib\\site-packages\\pykafka\\producer.py\", line 344, in stop\n",
      "    queue_reader.join()\n",
      "  File \"C:\\Users\\hp\\anaconda3\\lib\\threading.py\", line 1057, in join\n",
      "2023-10-01 18:26:13 [pykafka.producer] DEBUG: Successfully sent 1/1 messages to broker 0\n",
      "    raise RuntimeError(\"cannot join current thread\")\n",
      "RuntimeError: cannot join current thread\n",
      "2023-10-01 18:26:13 [scrapy.core.scraper] DEBUG: Scraped from <200 https://www.aljazeera.com/news>\n",
      "‘Ter­ror­ists will nev­er suc­ceed’, says Er­do­gan af­ter Ankara sui­cide bomb­ing, 1 Oct 2023, Two at­tack­ers were be­hind the ex­plo­sion, with one of them det­o­nat­ing him­self, Turk­ish in­te­ri­or min­is­ter says., /news/liveblog/2023/10/1/turkey-explosion-news-live-police-officers-struck-by-ankara-suicide-bomb, A\n",
      "2023-10-01 18:26:13 [pykafka.producer] DEBUG: Finalising <pykafka.producer.Producer at 0x239f39fac40>\n",
      "2023-10-01 18:26:13 [pykafka.producer] INFO: Worker exited for broker b'192.168.100.25':9092\n",
      "2023-10-01 18:26:13 [pykafka.producer] INFO: Starting new produce worker for broker 0\n",
      "2023-10-01 18:26:13 [pykafka.producer] INFO: Blocking until all messages are sent or until pending_timeout_ms\n",
      "Exception ignored in: <function Producer.__del__ at 0x00000239F25449D0>\n",
      "Traceback (most recent call last):\n",
      "  File \"C:\\Users\\hp\\anaconda3\\lib\\site-packages\\pykafka\\producer.py\", line 235, in __del__\n",
      "2023-10-01 18:26:13 [pykafka.producer] DEBUG: Sending 1 messages to broker 0\n",
      "    self.stop()\n",
      "  File \"C:\\Users\\hp\\anaconda3\\lib\\site-packages\\pykafka\\producer.py\", line 344, in stop\n",
      "    queue_reader.join()\n",
      "  File \"C:\\Users\\hp\\anaconda3\\lib\\threading.py\", line 1057, in join\n",
      "2023-10-01 18:26:13 [pykafka.producer] DEBUG: Successfully sent 1/1 messages to broker 0\n",
      "    raise RuntimeError(\"cannot join current thread\")\n",
      "RuntimeError: cannot join current thread\n",
      "2023-10-01 18:26:13 [scrapy.core.scraper] DEBUG: Scraped from <200 https://feeds.skynews.com/feeds/rss/world.xml>\n",
      "Rory McIlroy in car park bust-up after Ryder Cup drama, Sat, 30 Sep 2023 23:48:00 +0100, Rory McIlroy was involved in an altercation as tensions boiled over after a dramatic day at the Ryder Cup., https://news.sky.com/story/ryder-cup-rory-mcilroy-in-car-park-bust-up-as-tensions-boil-over-12973901, S\n",
      "2023-10-01 18:26:13 [pykafka.producer] DEBUG: Finalising <pykafka.producer.Producer at 0x239f40aca30>\n",
      "2023-10-01 18:26:13 [pykafka.producer] INFO: Worker exited for broker b'192.168.100.25':9092\n",
      "2023-10-01 18:26:13 [pykafka.producer] INFO: Blocking until all messages are sent or until pending_timeout_ms\n",
      "Exception ignored in: <function Producer.__del__ at 0x00000239F25449D0>\n",
      "Traceback (most recent call last):\n",
      "  File \"C:\\Users\\hp\\anaconda3\\lib\\site-packages\\pykafka\\producer.py\", line 235, in __del__\n",
      "    self.stop()\n",
      "  File \"C:\\Users\\hp\\anaconda3\\lib\\site-packages\\pykafka\\producer.py\", line 344, in stop\n",
      "    queue_reader.join()\n",
      "  File \"C:\\Users\\hp\\anaconda3\\lib\\threading.py\", line 1057, in join\n",
      "    raise RuntimeError(\"cannot join current thread\")\n",
      "RuntimeError: cannot join current thread\n",
      "2023-10-01 18:26:13 [pykafka.producer] INFO: Worker exited for broker b'192.168.100.25':9092\n",
      "2023-10-01 18:26:13 [scrapy.core.engine] DEBUG: Crawled (200) <GET https://www.reuters.com/robots.txt> (referer: None)\n",
      "2023-10-01 18:26:13 [pykafka.producer] INFO: Starting new produce worker for broker 0\n",
      "2023-10-01 18:26:13 [pykafka.producer] DEBUG: Sending 1 messages to broker 0\n",
      "2023-10-01 18:26:13 [pykafka.producer] DEBUG: Successfully sent 1/1 messages to broker 0\n",
      "2023-10-01 18:26:13 [scrapy.core.scraper] DEBUG: Scraped from <200 https://www.aljazeera.com/news>\n",
      "At­tack­ers car­ry out blast in the heart of Turk­ish cap­i­tal, 1 Oct 2023, In­te­ri­or Min­is­ter Ali Yer­likaya says one of the two at­tack­ers blew him­self in front of the min­istry build­ing in Ankara., /news/2023/10/1/explosion-and-gunfire-reported-in-turkish-capital, A\n"
     ]
    },
    {
     "name": "stderr",
     "output_type": "stream",
     "text": [
      "2023-10-01 18:26:13 [pykafka.producer] DEBUG: Finalising <pykafka.producer.Producer at 0x239f39d8040>\n",
      "2023-10-01 18:26:13 [pykafka.producer] INFO: Blocking until all messages are sent or until pending_timeout_ms\n",
      "Exception ignored in: <function Producer.__del__ at 0x00000239F25449D0>\n",
      "Traceback (most recent call last):\n",
      "  File \"C:\\Users\\hp\\anaconda3\\lib\\site-packages\\pykafka\\producer.py\", line 235, in __del__\n",
      "    self.stop()\n",
      "  File \"C:\\Users\\hp\\anaconda3\\lib\\site-packages\\pykafka\\producer.py\", line 344, in stop\n",
      "    queue_reader.join()\n",
      "  File \"C:\\Users\\hp\\anaconda3\\lib\\threading.py\", line 1057, in join\n",
      "    raise RuntimeError(\"cannot join current thread\")\n",
      "RuntimeError: cannot join current thread\n",
      "2023-10-01 18:26:13 [pykafka.producer] INFO: Worker exited for broker b'192.168.100.25':9092\n",
      "2023-10-01 18:26:13 [pykafka.producer] INFO: Starting new produce worker for broker 0\n",
      "2023-10-01 18:26:13 [pykafka.producer] DEBUG: Sending 1 messages to broker 0\n",
      "2023-10-01 18:26:13 [pykafka.producer] DEBUG: Successfully sent 1/1 messages to broker 0\n",
      "2023-10-01 18:26:13 [scrapy.core.scraper] DEBUG: Scraped from <200 https://www.bbc.com/news/world>\n",
      "Nightclub fire in south-eastern Spain kills 13, 15:16, Authorities have confirmed at least 15 others are missing following the blaze., /news/world-europe-66976171, B\n",
      "2023-10-01 18:26:13 [pykafka.producer] DEBUG: Finalising <pykafka.producer.Producer at 0x239f3a0c280>\n",
      "2023-10-01 18:26:13 [pykafka.producer] INFO: Starting new produce worker for broker 0\n",
      "2023-10-01 18:26:13 [pykafka.producer] INFO: Blocking until all messages are sent or until pending_timeout_ms\n",
      "Exception ignored in: <function Producer.__del__ at 0x00000239F25449D0>\n",
      "Traceback (most recent call last):\n",
      "  File \"C:\\Users\\hp\\anaconda3\\lib\\site-packages\\pykafka\\producer.py\", line 235, in __del__\n",
      "2023-10-01 18:26:13 [pykafka.producer] DEBUG: Sending 1 messages to broker 0\n",
      "    self.stop()\n",
      "  File \"C:\\Users\\hp\\anaconda3\\lib\\site-packages\\pykafka\\producer.py\", line 344, in stop\n",
      "    queue_reader.join()\n",
      "  File \"C:\\Users\\hp\\anaconda3\\lib\\threading.py\", line 1057, in join\n",
      "    raise RuntimeError(\"cannot join current thread\")\n",
      "RuntimeError: cannot join current thread\n",
      "2023-10-01 18:26:13 [pykafka.producer] DEBUG: Successfully sent 1/1 messages to broker 0\n",
      "2023-10-01 18:26:13 [scrapy.core.scraper] DEBUG: Scraped from <200 https://feeds.skynews.com/feeds/rss/world.xml>\n",
      "Five killed after truck crash causes toxic gas leak , Sat, 30 Sep 2023 18:54:00 +0100, Five people have died and five were seriously injured after a truck crash caused a toxic gas to leak into the air in Illinois. , https://news.sky.com/story/five-killed-and-five-seriously-injured-after-truck-crash-cause-toxic-ammonia-leak-in-illinois-12973687, S\n",
      "2023-10-01 18:26:13 [pykafka.producer] DEBUG: Finalising <pykafka.producer.Producer at 0x239f32dbf10>\n",
      "2023-10-01 18:26:13 [pykafka.producer] INFO: Worker exited for broker b'192.168.100.25':9092\n",
      "2023-10-01 18:26:13 [pykafka.producer] INFO: Starting new produce worker for broker 0\n",
      "2023-10-01 18:26:13 [pykafka.producer] INFO: Blocking until all messages are sent or until pending_timeout_ms\n",
      "Exception ignored in: <function Producer.__del__ at 0x00000239F25449D0>\n",
      "Traceback (most recent call last):\n",
      "  File \"C:\\Users\\hp\\anaconda3\\lib\\site-packages\\pykafka\\producer.py\", line 235, in __del__\n",
      "2023-10-01 18:26:13 [pykafka.producer] DEBUG: Sending 1 messages to broker 0\n",
      "    self.stop()\n",
      "  File \"C:\\Users\\hp\\anaconda3\\lib\\site-packages\\pykafka\\producer.py\", line 344, in stop\n",
      "    queue_reader.join()\n",
      "  File \"C:\\Users\\hp\\anaconda3\\lib\\threading.py\", line 1057, in join\n",
      "    raise RuntimeError(\"cannot join current thread\")\n",
      "RuntimeError: cannot join current thread\n",
      "2023-10-01 18:26:13 [pykafka.producer] INFO: Worker exited for broker b'192.168.100.25':9092\n",
      "2023-10-01 18:26:13 [pykafka.producer] DEBUG: Successfully sent 1/1 messages to broker 0\n",
      "2023-10-01 18:26:13 [scrapy.core.scraper] DEBUG: Scraped from <200 https://www.aljazeera.com/news>\n",
      "‘Bug­ger!’: New Zealand PM gets COVID at crit­i­cal point in elec­tion cam­paign, 1 Oct 2023, Chris Hip­kins says he will iso­late and try to con­tin­ue cam­paign on­line af­ter test­ing pos­i­tive for the virus on Sun­day., /news/2023/10/1/bugger-new-zealand-pm-gets-covid-at-critical-point-in-election-campaign, A\n",
      "2023-10-01 18:26:13 [pykafka.producer] DEBUG: Finalising <pykafka.producer.Producer at 0x239f409b190>\n",
      "2023-10-01 18:26:13 [pykafka.producer] INFO: Starting new produce worker for broker 0\n",
      "2023-10-01 18:26:13 [pykafka.producer] INFO: Blocking until all messages are sent or until pending_timeout_ms\n",
      "Exception ignored in: <function Producer.__del__ at 0x00000239F25449D0>\n",
      "Traceback (most recent call last):\n",
      "  File \"C:\\Users\\hp\\anaconda3\\lib\\site-packages\\pykafka\\producer.py\", line 235, in __del__\n",
      "2023-10-01 18:26:13 [pykafka.producer] DEBUG: Sending 1 messages to broker 0\n",
      "    self.stop()\n",
      "  File \"C:\\Users\\hp\\anaconda3\\lib\\site-packages\\pykafka\\producer.py\", line 344, in stop\n",
      "    queue_reader.join()\n",
      "  File \"C:\\Users\\hp\\anaconda3\\lib\\threading.py\", line 1057, in join\n",
      "    raise RuntimeError(\"cannot join current thread\")\n",
      "RuntimeError: cannot join current thread\n",
      "2023-10-01 18:26:13 [pykafka.producer] DEBUG: Successfully sent 1/1 messages to broker 0\n",
      "2023-10-01 18:26:13 [pykafka.producer] INFO: Worker exited for broker b'192.168.100.25':9092\n",
      "2023-10-01 18:26:13 [scrapy.core.scraper] DEBUG: Scraped from <200 https://www.bbc.com/news/world>\n",
      "Hardline Republicans seek to oust Kevin McCarthy, 15:06, By Matt Murphy, /news/world-us-canada-66977466, B\n",
      "2023-10-01 18:26:13 [pykafka.producer] DEBUG: Finalising <pykafka.producer.Producer at 0x239f40937c0>\n",
      "2023-10-01 18:26:13 [pykafka.producer] INFO: Starting new produce worker for broker 0\n",
      "2023-10-01 18:26:13 [pykafka.producer] INFO: Blocking until all messages are sent or until pending_timeout_ms\n",
      "Exception ignored in: 2023-10-01 18:26:13 [pykafka.producer] DEBUG: Sending 1 messages to broker 0\n",
      "<function Producer.__del__ at 0x00000239F25449D0>\n",
      "Traceback (most recent call last):\n",
      "  File \"C:\\Users\\hp\\anaconda3\\lib\\site-packages\\pykafka\\producer.py\", line 235, in __del__\n",
      "    self.stop()\n",
      "  File \"C:\\Users\\hp\\anaconda3\\lib\\site-packages\\pykafka\\producer.py\", line 344, in stop\n",
      "2023-10-01 18:26:13 [pykafka.producer] DEBUG: Successfully sent 1/1 messages to broker 0\n",
      "    queue_reader.join()\n",
      "  File \"C:\\Users\\hp\\anaconda3\\lib\\threading.py\", line 1057, in join\n",
      "2023-10-01 18:26:13 [scrapy.core.scraper] DEBUG: Scraped from <200 https://feeds.skynews.com/feeds/rss/world.xml>\n",
      "Bride and groom can't live in their community after 100 guests died in fire at their wedding, Sat, 30 Sep 2023 10:58:00 +0100, A bride and groom, whose wedding celebration ended in disaster after a fire killed more than 100 of their guests, have told Sky News they can no longer live in their community., https://news.sky.com/story/iraq-wedding-fire-bride-and-groom-numb-after-blaze-kills-more-than-100-people-12973039, S\n",
      "2023-10-01 18:26:13 [pykafka.producer] DEBUG: Finalising <pykafka.producer.Producer at 0x239f39fc8e0>\n",
      "    raise RuntimeError(\"cannot join current thread\")\n",
      "RuntimeError: cannot join current thread\n",
      "2023-10-01 18:26:13 [pykafka.producer] INFO: Worker exited for broker b'192.168.100.25':9092\n",
      "2023-10-01 18:26:13 [pykafka.producer] INFO: Blocking until all messages are sent or until pending_timeout_ms\n",
      "Exception ignored in: 2023-10-01 18:26:13 [pykafka.producer] INFO: Starting new produce worker for broker 0\n",
      "<function Producer.__del__ at 0x00000239F25449D0>\n",
      "Traceback (most recent call last):\n",
      "  File \"C:\\Users\\hp\\anaconda3\\lib\\site-packages\\pykafka\\producer.py\", line 235, in __del__\n",
      "    self.stop()\n",
      "  File \"C:\\Users\\hp\\anaconda3\\lib\\site-packages\\pykafka\\producer.py\", line 344, in stop\n",
      "2023-10-01 18:26:13 [pykafka.producer] DEBUG: Sending 1 messages to broker 0\n",
      "    queue_reader.join()\n",
      "  File \"C:\\Users\\hp\\anaconda3\\lib\\threading.py\", line 1057, in join\n",
      "    raise RuntimeError(\"cannot join current thread\")\n",
      "RuntimeError: cannot join current thread\n",
      "2023-10-01 18:26:13 [pykafka.producer] INFO: Worker exited for broker b'192.168.100.25':9092\n",
      "2023-10-01 18:26:13 [pykafka.producer] DEBUG: Successfully sent 1/1 messages to broker 0\n",
      "2023-10-01 18:26:13 [pykafka.producer] DEBUG: Finalising <pykafka.producer.Producer at 0x239f40cb8b0>\n"
     ]
    },
    {
     "name": "stderr",
     "output_type": "stream",
     "text": [
      "2023-10-01 18:26:13 [scrapy.core.scraper] DEBUG: Scraped from <200 https://www.aljazeera.com/news>\n",
      "Pro-Rus­sia par­ty wins Slo­va­kia’s par­lia­men­tary elec­tions, 1 Oct 2023, Left-wing for­mer Prime Min­is­ter Robert Fico has promised to end mil­i­tary aid for Ukraine., /news/2023/10/1/pro-russia-party-claims-victory-in-slovakia-election, A\n",
      "2023-10-01 18:26:13 [pykafka.producer] INFO: Blocking until all messages are sent or until pending_timeout_ms\n",
      "Exception ignored in: <function Producer.__del__ at 0x00000239F25449D0>\n",
      "Traceback (most recent call last):\n",
      "  File \"C:\\Users\\hp\\anaconda3\\lib\\site-packages\\pykafka\\producer.py\", line 235, in __del__\n",
      "2023-10-01 18:26:13 [pykafka.producer] INFO: Starting new produce worker for broker 0\n",
      "    self.stop()\n",
      "  File \"C:\\Users\\hp\\anaconda3\\lib\\site-packages\\pykafka\\producer.py\", line 344, in stop\n",
      "2023-10-01 18:26:13 [pykafka.producer] DEBUG: Sending 1 messages to broker 0\n",
      "    queue_reader.join()\n",
      "  File \"C:\\Users\\hp\\anaconda3\\lib\\threading.py\", line 1057, in join\n",
      "    raise RuntimeError(\"cannot join current thread\")\n",
      "RuntimeError: cannot join current thread\n",
      "2023-10-01 18:26:13 [pykafka.producer] INFO: Worker exited for broker b'192.168.100.25':9092\n",
      "2023-10-01 18:26:13 [pykafka.producer] DEBUG: Successfully sent 1/1 messages to broker 0\n",
      "2023-10-01 18:26:13 [scrapy.core.scraper] DEBUG: Scraped from <200 https://www.bbc.com/news/world>\n",
      "What happens in a US government shutdown?, 14:53, By Tom Geoghegan, /news/world-us-canada-46927916, B\n",
      "2023-10-01 18:26:13 [pykafka.producer] DEBUG: Finalising <pykafka.producer.Producer at 0x239f39fab50>\n",
      "2023-10-01 18:26:13 [pykafka.producer] INFO: Blocking until all messages are sent or until pending_timeout_ms\n",
      "Exception ignored in: <function Producer.__del__ at 0x00000239F25449D0>\n",
      "Traceback (most recent call last):\n",
      "  File \"C:\\Users\\hp\\anaconda3\\lib\\site-packages\\pykafka\\producer.py\", line 235, in __del__\n",
      "2023-10-01 18:26:13 [pykafka.producer] INFO: Starting new produce worker for broker 0\n",
      "    self.stop()\n",
      "  File \"C:\\Users\\hp\\anaconda3\\lib\\site-packages\\pykafka\\producer.py\", line 344, in stop\n",
      "2023-10-01 18:26:13 [pykafka.producer] DEBUG: Sending 1 messages to broker 0\n",
      "    queue_reader.join()\n",
      "  File \"C:\\Users\\hp\\anaconda3\\lib\\threading.py\", line 1057, in join\n",
      "    raise RuntimeError(\"cannot join current thread\")\n",
      "RuntimeError: cannot join current thread\n",
      "2023-10-01 18:26:13 [pykafka.producer] INFO: Worker exited for broker b'192.168.100.25':9092\n",
      "2023-10-01 18:26:13 [pykafka.producer] DEBUG: Successfully sent 1/1 messages to broker 0\n",
      "2023-10-01 18:26:13 [scrapy.core.scraper] DEBUG: Scraped from <200 https://feeds.skynews.com/feeds/rss/world.xml>\n",
      "New York flooded as city's infrastructure struggles to cope with changing climate , Sat, 30 Sep 2023 16:41:00 +0100, New York City wasn't built for this., https://news.sky.com/story/new-york-flooded-as-citys-infrastructure-struggles-to-cope-with-changing-climate-12973472, S\n",
      "2023-10-01 18:26:13 [pykafka.producer] DEBUG: Finalising <pykafka.producer.Producer at 0x239f39fadc0>\n",
      "2023-10-01 18:26:13 [pykafka.producer] INFO: Blocking until all messages are sent or until pending_timeout_ms\n",
      "Exception ignored in: <function Producer.__del__ at 0x00000239F25449D0>\n",
      "Traceback (most recent call last):\n",
      "  File \"C:\\Users\\hp\\anaconda3\\lib\\site-packages\\pykafka\\producer.py\", line 235, in __del__\n",
      "2023-10-01 18:26:13 [pykafka.producer] INFO: Starting new produce worker for broker 0\n",
      "2023-10-01 18:26:13 [pykafka.producer] DEBUG: Sending 1 messages to broker 0\n",
      "    self.stop()\n",
      "  File \"C:\\Users\\hp\\anaconda3\\lib\\site-packages\\pykafka\\producer.py\", line 344, in stop\n",
      "    queue_reader.join()\n",
      "  File \"C:\\Users\\hp\\anaconda3\\lib\\threading.py\", line 1057, in join\n",
      "2023-10-01 18:26:13 [pykafka.producer] DEBUG: Successfully sent 1/1 messages to broker 0\n",
      "2023-10-01 18:26:13 [scrapy.core.scraper] DEBUG: Scraped from <200 https://www.aljazeera.com/news>\n",
      "Ukraine tempts West­ern arms pro­duc­ers with plan for ‘large mil­i­tary hub’, 1 Oct 2023, In­cen­tives avail­able to part­ner with Ukrain­ian man­u­fac­tur­ers as Kyiv looks to cre­ate ‘world class mil­i­tary prod­ucts’., /news/2023/10/1/ukraine-tempts-western-arms-producers-with-plan-for-large-military-hub, A\n",
      "    raise RuntimeError(\"cannot join current thread\")\n",
      "RuntimeError: cannot join current thread\n",
      "2023-10-01 18:26:13 [pykafka.producer] DEBUG: Finalising <pykafka.producer.Producer at 0x239f39fa070>\n",
      "2023-10-01 18:26:13 [pykafka.producer] INFO: Starting new produce worker for broker 0\n",
      "2023-10-01 18:26:13 [pykafka.producer] INFO: Worker exited for broker b'192.168.100.25':9092\n",
      "2023-10-01 18:26:13 [pykafka.producer] INFO: Blocking until all messages are sent or until pending_timeout_ms\n",
      "Exception ignored in: <function Producer.__del__ at 0x00000239F25449D0>\n",
      "Traceback (most recent call last):\n",
      "  File \"C:\\Users\\hp\\anaconda3\\lib\\site-packages\\pykafka\\producer.py\", line 235, in __del__\n",
      "2023-10-01 18:26:13 [pykafka.producer] DEBUG: Sending 1 messages to broker 0\n",
      "    self.stop()\n",
      "  File \"C:\\Users\\hp\\anaconda3\\lib\\site-packages\\pykafka\\producer.py\", line 344, in stop\n",
      "    queue_reader.join()\n",
      "  File \"C:\\Users\\hp\\anaconda3\\lib\\threading.py\", line 1057, in join\n",
      "    raise RuntimeError(\"cannot join current thread\")\n",
      "RuntimeError: cannot join current thread\n",
      "2023-10-01 18:26:13 [pykafka.producer] DEBUG: Successfully sent 1/1 messages to broker 0\n",
      "2023-10-01 18:26:13 [scrapy.core.scraper] DEBUG: Scraped from <200 https://www.bbc.com/news/world>\n",
      "Turkey's interior ministry rocked by suicide blast, 14:31, By Ece Goksedef & Fundanur Ozturk, /news/world-europe-66975452, B\n",
      "2023-10-01 18:26:13 [pykafka.producer] INFO: Worker exited for broker b'192.168.100.25':9092\n",
      "2023-10-01 18:26:13 [pykafka.producer] DEBUG: Finalising <pykafka.producer.Producer at 0x239f3344fd0>\n",
      "2023-10-01 18:26:13 [pykafka.producer] INFO: Starting new produce worker for broker 0\n",
      "2023-10-01 18:26:13 [pykafka.producer] INFO: Blocking until all messages are sent or until pending_timeout_ms\n",
      "Exception ignored in: <function Producer.__del__ at 0x00000239F25449D0>\n",
      "Traceback (most recent call last):\n",
      "  File \"C:\\Users\\hp\\anaconda3\\lib\\site-packages\\pykafka\\producer.py\", line 235, in __del__\n",
      "2023-10-01 18:26:13 [pykafka.producer] DEBUG: Sending 1 messages to broker 0\n",
      "    self.stop()\n",
      "  File \"C:\\Users\\hp\\anaconda3\\lib\\site-packages\\pykafka\\producer.py\", line 344, in stop\n",
      "    queue_reader.join()\n",
      "  File \"C:\\Users\\hp\\anaconda3\\lib\\threading.py\", line 1057, in join\n",
      "    raise RuntimeError(\"cannot join current thread\")\n",
      "RuntimeError: cannot join current thread\n",
      "2023-10-01 18:26:13 [pykafka.producer] DEBUG: Successfully sent 1/1 messages to broker 0\n",
      "2023-10-01 18:26:13 [scrapy.core.scraper] DEBUG: Scraped from <200 https://www.aljazeera.com/news>\n",
      "Rus­sia-Ukraine war: List of key events, day 585, 1 Oct 2023, As the war en­ters its 585th day, these are the main de­vel­op­ments., /news/2023/10/1/russia-ukraine-war-list-of-key-events-day-385-3, A\n",
      "2023-10-01 18:26:13 [pykafka.producer] INFO: Worker exited for broker b'192.168.100.25':9092\n",
      "2023-10-01 18:26:13 [pykafka.producer] DEBUG: Finalising <pykafka.producer.Producer at 0x239f39fed60>\n",
      "2023-10-01 18:26:13 [pykafka.producer] INFO: Starting new produce worker for broker 0\n",
      "2023-10-01 18:26:14 [pykafka.producer] INFO: Blocking until all messages are sent or until pending_timeout_ms\n",
      "Exception ignored in: 2023-10-01 18:26:14 [pykafka.producer] DEBUG: Sending 1 messages to broker 0\n",
      "<function Producer.__del__ at 0x00000239F25449D0>\n",
      "Traceback (most recent call last):\n",
      "  File \"C:\\Users\\hp\\anaconda3\\lib\\site-packages\\pykafka\\producer.py\", line 235, in __del__\n",
      "    self.stop()\n",
      "  File \"C:\\Users\\hp\\anaconda3\\lib\\site-packages\\pykafka\\producer.py\", line 344, in stop\n",
      "    queue_reader.join()\n",
      "  File \"C:\\Users\\hp\\anaconda3\\lib\\threading.py\", line 1057, in join\n",
      "    raise RuntimeError(\"cannot join current thread\")\n",
      "RuntimeError: cannot join current thread\n",
      "2023-10-01 18:26:14 [pykafka.producer] DEBUG: Successfully sent 1/1 messages to broker 0\n",
      "2023-10-01 18:26:14 [scrapy.core.scraper] DEBUG: Scraped from <200 https://www.bbc.com/news/world>\n",
      "Fierce clashes in Mali after 'separatists kill 80', 14:11, By Chris Ewokor, /news/world-africa-66976440, B\n",
      "2023-10-01 18:26:14 [pykafka.producer] DEBUG: Finalising <pykafka.producer.Producer at 0x239f42119a0>\n"
     ]
    },
    {
     "name": "stderr",
     "output_type": "stream",
     "text": [
      "2023-10-01 18:26:14 [pykafka.producer] INFO: Worker exited for broker b'192.168.100.25':9092\n",
      "2023-10-01 18:26:14 [scrapy.core.engine] INFO: Closing spider (finished)\n",
      "2023-10-01 18:26:14 [pykafka.producer] INFO: Blocking until all messages are sent or until pending_timeout_ms\n",
      "Exception ignored in: <function Producer.__del__ at 0x00000239F25449D0>\n",
      "Traceback (most recent call last):\n",
      "  File \"C:\\Users\\hp\\anaconda3\\lib\\site-packages\\pykafka\\producer.py\", line 235, in __del__\n",
      "2023-10-01 18:26:14 [scrapy.statscollectors] INFO: Dumping Scrapy stats:\n",
      "{'downloader/request_bytes': 473,\n",
      " 'downloader/request_count': 2,\n",
      " 'downloader/request_method_count/GET': 2,\n",
      " 'downloader/response_bytes': 12958,\n",
      " 'downloader/response_count': 2,\n",
      " 'downloader/response_status_count/200': 2,\n",
      " 'elapsed_time_seconds': 1.564744,\n",
      " 'finish_reason': 'finished',\n",
      " 'finish_time': datetime.datetime(2023, 10, 1, 15, 26, 14, 24045, tzinfo=datetime.timezone.utc),\n",
      " 'httpcompression/response_bytes': 151,\n",
      " 'httpcompression/response_count': 1,\n",
      " 'item_scraped_count': 10,\n",
      " 'log_count/DEBUG': 136,\n",
      " 'log_count/INFO': 107,\n",
      " 'response_received_count': 2,\n",
      " 'robotstxt/request_count': 1,\n",
      " 'robotstxt/response_count': 1,\n",
      " 'robotstxt/response_status_count/200': 1,\n",
      " 'scheduler/dequeued': 1,\n",
      " 'scheduler/dequeued/memory': 1,\n",
      " 'scheduler/enqueued': 1,\n",
      " 'scheduler/enqueued/memory': 1,\n",
      " 'start_time': datetime.datetime(2023, 10, 1, 15, 26, 12, 459301, tzinfo=datetime.timezone.utc)}\n",
      "    self.stop()\n",
      "  File \"C:\\Users\\hp\\anaconda3\\lib\\site-packages\\pykafka\\producer.py\", line 344, in stop\n",
      "2023-10-01 18:26:14 [scrapy.core.engine] INFO: Spider closed (finished)\n",
      "    queue_reader.join()\n",
      "  File \"C:\\Users\\hp\\anaconda3\\lib\\threading.py\", line 1057, in join\n",
      "    raise RuntimeError(\"cannot join current thread\")\n",
      "RuntimeError: cannot join current thread\n",
      "2023-10-01 18:26:14 [pykafka.producer] INFO: Worker exited for broker b'192.168.100.25':9092\n",
      "2023-10-01 18:26:14 [pykafka.producer] INFO: Starting new produce worker for broker 0\n",
      "2023-10-01 18:26:14 [pykafka.producer] DEBUG: Sending 1 messages to broker 0\n",
      "2023-10-01 18:26:14 [pykafka.producer] DEBUG: Successfully sent 1/1 messages to broker 0\n",
      "2023-10-01 18:26:14 [scrapy.core.scraper] DEBUG: Scraped from <200 https://www.aljazeera.com/news>\n",
      "Mo­hamed Muiz­zu wins Mal­dives elec­tion in vic­to­ry for pro-Chi­na camp, 30 Sep 2023, In­cum­bent Ibrahim Mo­hamed Solih con­cedes de­feat short­ly be­fore mid­night af­ter Muiz­zu wins 54 per­cent of the vote., /news/2023/9/30/maldives-opposition-candidate-muiz-wins-presidential-runoff, A\n",
      "2023-10-01 18:26:14 [pykafka.producer] DEBUG: Finalising <pykafka.producer.Producer at 0x239f40f6160>\n",
      "2023-10-01 18:26:14 [pykafka.producer] INFO: Starting new produce worker for broker 0\n",
      "2023-10-01 18:26:14 [pykafka.producer] INFO: Blocking until all messages are sent or until pending_timeout_ms\n",
      "Exception ignored in: <function Producer.__del__ at 0x00000239F25449D0>\n",
      "Traceback (most recent call last):\n",
      "  File \"C:\\Users\\hp\\anaconda3\\lib\\site-packages\\pykafka\\producer.py\", line 235, in __del__\n",
      "2023-10-01 18:26:14 [pykafka.producer] DEBUG: Sending 1 messages to broker 0\n",
      "    self.stop()\n",
      "  File \"C:\\Users\\hp\\anaconda3\\lib\\site-packages\\pykafka\\producer.py\", line 344, in stop\n",
      "2023-10-01 18:26:14 [pykafka.producer] DEBUG: Successfully sent 1/1 messages to broker 0\n",
      "    queue_reader.join()\n",
      "  File \"C:\\Users\\hp\\anaconda3\\lib\\threading.py\", line 1057, in join\n",
      "2023-10-01 18:26:14 [scrapy.core.scraper] DEBUG: Scraped from <200 https://www.bbc.com/news/world>\n",
      "US avoids government shutdown in last-minute deal, 13:30, By Antoinette Radford, Sam Cabral & Anthony Zurcher, /news/world-us-canada-66973976, B\n",
      "    2023-10-01 18:26:14 [pykafka.producer] DEBUG: Finalising <pykafka.producer.Producer at 0x239f4227e80>\n",
      "raise RuntimeError(\"cannot join current thread\")\n",
      "RuntimeError: cannot join current thread\n",
      "2023-10-01 18:26:14 [pykafka.producer] INFO: Worker exited for broker b'192.168.100.25':9092\n",
      "2023-10-01 18:26:14 [pykafka.producer] INFO: Starting new produce worker for broker 0\n",
      "2023-10-01 18:26:14 [pykafka.producer] INFO: Blocking until all messages are sent or until pending_timeout_ms\n",
      "Exception ignored in: <function Producer.__del__ at 0x00000239F25449D0>\n",
      "Traceback (most recent call last):\n",
      "  File \"C:\\Users\\hp\\anaconda3\\lib\\site-packages\\pykafka\\producer.py\", line 235, in __del__\n",
      "2023-10-01 18:26:14 [pykafka.producer] DEBUG: Sending 1 messages to broker 0\n",
      "    self.stop()\n",
      "  File \"C:\\Users\\hp\\anaconda3\\lib\\site-packages\\pykafka\\producer.py\", line 344, in stop\n",
      "    queue_reader.join()\n",
      "  File \"C:\\Users\\hp\\anaconda3\\lib\\threading.py\", line 1057, in join\n",
      "2023-10-01 18:26:14 [pykafka.producer] DEBUG: Successfully sent 1/1 messages to broker 0\n",
      "2023-10-01 18:26:14 [scrapy.core.scraper] DEBUG: Scraped from <200 https://www.bbc.com/news/world>\n",
      "New system for moving goods from GB to NI begins, 13:11, By John Campbell, /news/uk-northern-ireland-66971372, B\n",
      "    raise RuntimeError(\"cannot join current thread\")\n",
      "RuntimeError: cannot join current thread\n",
      "2023-10-01 18:26:14 [pykafka.producer] DEBUG: Finalising <pykafka.producer.Producer at 0x239f39fefa0>\n",
      "2023-10-01 18:26:14 [scrapy.core.engine] INFO: Closing spider (finished)\n",
      "2023-10-01 18:26:14 [pykafka.producer] INFO: Worker exited for broker b'192.168.100.25':9092\n",
      "2023-10-01 18:26:14 [pykafka.producer] INFO: Blocking until all messages are sent or until pending_timeout_ms\n",
      "Exception ignored in: <function Producer.__del__ at 0x00000239F25449D0>\n",
      "Traceback (most recent call last):\n",
      "  File \"C:\\Users\\hp\\anaconda3\\lib\\site-packages\\pykafka\\producer.py\", line 235, in __del__\n",
      "2023-10-01 18:26:14 [scrapy.statscollectors] INFO: Dumping Scrapy stats:\n",
      "{'downloader/request_bytes': 458,\n",
      " 'downloader/request_count': 2,\n",
      " 'downloader/request_method_count/GET': 2,\n",
      " 'downloader/response_bytes': 37225,\n",
      " 'downloader/response_count': 2,\n",
      " 'downloader/response_status_count/200': 2,\n",
      " 'elapsed_time_seconds': 1.965524,\n",
      " 'finish_reason': 'finished',\n",
      " 'finish_time': datetime.datetime(2023, 10, 1, 15, 26, 14, 113381, tzinfo=datetime.timezone.utc),\n",
      " 'httpcompression/response_bytes': 146041,\n",
      " 'httpcompression/response_count': 2,\n",
      " 'item_scraped_count': 14,\n",
      " 'log_count/DEBUG': 200,\n",
      " 'log_count/INFO': 167,\n",
      " 'log_count/WARNING': 2,\n",
      " 'response_received_count': 2,\n",
      " 'robotstxt/request_count': 1,\n",
      " 'robotstxt/response_count': 1,\n",
      " 'robotstxt/response_status_count/200': 1,\n",
      " 'scheduler/dequeued': 1,\n",
      " 'scheduler/dequeued/memory': 1,\n",
      " 'scheduler/enqueued': 1,\n",
      " 'scheduler/enqueued/memory': 1,\n",
      " 'start_time': datetime.datetime(2023, 10, 1, 15, 26, 12, 147857, tzinfo=datetime.timezone.utc)}\n",
      "2023-10-01 18:26:14 [scrapy.core.engine] INFO: Spider closed (finished)\n",
      "    self.stop()\n",
      "  File \"C:\\Users\\hp\\anaconda3\\lib\\site-packages\\pykafka\\producer.py\", line 344, in stop\n",
      "    queue_reader.join()\n",
      "  File \"C:\\Users\\hp\\anaconda3\\lib\\threading.py\", line 1057, in join\n",
      "2023-10-01 18:26:14 [pykafka.producer] INFO: Starting new produce worker for broker 0\n",
      "    raise RuntimeError(\"cannot join current thread\")\n",
      "RuntimeError: cannot join current thread\n",
      "2023-10-01 18:26:14 [pykafka.producer] DEBUG: Sending 1 messages to broker 0\n",
      "2023-10-01 18:26:14 [pykafka.producer] INFO: Worker exited for broker b'192.168.100.25':9092\n",
      "2023-10-01 18:26:14 [pykafka.producer] DEBUG: Successfully sent 1/1 messages to broker 0\n",
      "2023-10-01 18:26:14 [scrapy.core.scraper] DEBUG: Scraped from <200 https://www.bbc.com/news/world>\n",
      "Populist pro-Moscow party wins Slovak vote, 12:03, By Rob Cameron & Ece Goksedef, /news/world-europe-66972984, B\n",
      "2023-10-01 18:26:14 [pykafka.producer] DEBUG: Finalising <pykafka.producer.Producer at 0x239f39feca0>\n",
      "2023-10-01 18:26:14 [pykafka.producer] INFO: Blocking until all messages are sent or until pending_timeout_ms\n",
      "Exception ignored in: <function Producer.__del__ at 0x00000239F25449D0>\n",
      "Traceback (most recent call last):\n",
      "  File \"C:\\Users\\hp\\anaconda3\\lib\\site-packages\\pykafka\\producer.py\", line 235, in __del__\n",
      "2023-10-01 18:26:14 [pykafka.producer] INFO: Starting new produce worker for broker 0\n",
      "    self.stop()\n",
      "  File \"C:\\Users\\hp\\anaconda3\\lib\\site-packages\\pykafka\\producer.py\", line 344, in stop\n",
      "2023-10-01 18:26:14 [pykafka.producer] DEBUG: Sending 1 messages to broker 0\n",
      "    queue_reader.join()\n",
      "  File \"C:\\Users\\hp\\anaconda3\\lib\\threading.py\", line 1057, in join\n",
      "    raise RuntimeError(\"cannot join current thread\")\n",
      "RuntimeError: cannot join current thread\n"
     ]
    },
    {
     "name": "stderr",
     "output_type": "stream",
     "text": [
      "2023-10-01 18:26:14 [pykafka.producer] INFO: Worker exited for broker b'192.168.100.25':9092\n",
      "2023-10-01 18:26:14 [pykafka.producer] DEBUG: Successfully sent 1/1 messages to broker 0\n",
      "2023-10-01 18:26:14 [scrapy.core.scraper] DEBUG: Scraped from <200 https://www.bbc.com/news/world>\n",
      "Inside nightclub as firefighters tackle deadly blaze, 11:52, At least seven people died in the blaze in the south-eastern city of Murcia, Spanish authorities say., /news/world-66976071, B\n",
      "2023-10-01 18:26:14 [pykafka.producer] DEBUG: Finalising <pykafka.producer.Producer at 0x239f40ceaf0>\n",
      "2023-10-01 18:26:14 [pykafka.producer] INFO: Blocking until all messages are sent or until pending_timeout_ms\n",
      "Exception ignored in: <function Producer.__del__ at 0x00000239F25449D0>\n",
      "Traceback (most recent call last):\n",
      "  File \"C:\\Users\\hp\\anaconda3\\lib\\site-packages\\pykafka\\producer.py\", line 235, in __del__\n",
      "2023-10-01 18:26:14 [pykafka.producer] INFO: Starting new produce worker for broker 0\n",
      "    self.stop()\n",
      "  File \"C:\\Users\\hp\\anaconda3\\lib\\site-packages\\pykafka\\producer.py\", line 344, in stop\n",
      "2023-10-01 18:26:14 [pykafka.producer] DEBUG: Sending 1 messages to broker 0\n",
      "    queue_reader.join()\n",
      "  File \"C:\\Users\\hp\\anaconda3\\lib\\threading.py\", line 1057, in join\n",
      "    raise RuntimeError(\"cannot join current thread\")\n",
      "RuntimeError: cannot join current thread\n",
      "2023-10-01 18:26:14 [pykafka.producer] DEBUG: Successfully sent 1/1 messages to broker 0\n",
      "2023-10-01 18:26:14 [scrapy.core.scraper] DEBUG: Scraped from <200 https://www.bbc.com/news/world>\n",
      "CCTV shows moment of Turkey blast, 11:24, An explosion outside Turkey's interior ministry in Ankara, was a \"terrorist attack\", a minister said., /news/world-66976070, B\n",
      "2023-10-01 18:26:14 [pykafka.producer] INFO: Worker exited for broker b'192.168.100.25':9092\n",
      "2023-10-01 18:26:14 [pykafka.producer] DEBUG: Finalising <pykafka.producer.Producer at 0x239f409bb50>\n",
      "2023-10-01 18:26:14 [pykafka.producer] INFO: Starting new produce worker for broker 0\n",
      "2023-10-01 18:26:14 [pykafka.producer] INFO: Blocking until all messages are sent or until pending_timeout_ms\n",
      "Exception ignored in: <function Producer.__del__ at 0x00000239F25449D0>\n",
      "Traceback (most recent call last):\n",
      "  File \"C:\\Users\\hp\\anaconda3\\lib\\site-packages\\pykafka\\producer.py\", line 235, in __del__\n",
      "2023-10-01 18:26:14 [pykafka.producer] DEBUG: Sending 1 messages to broker 0\n",
      "    self.stop()\n",
      "  File \"C:\\Users\\hp\\anaconda3\\lib\\site-packages\\pykafka\\producer.py\", line 344, in stop\n",
      "    queue_reader.join()\n",
      "  File \"C:\\Users\\hp\\anaconda3\\lib\\threading.py\", line 1057, in join\n",
      "    raise RuntimeError(\"cannot join current thread\")\n",
      "RuntimeError: cannot join current thread\n",
      "2023-10-01 18:26:14 [pykafka.producer] DEBUG: Successfully sent 1/1 messages to broker 0\n",
      "2023-10-01 18:26:14 [pykafka.producer] INFO: Worker exited for broker b'192.168.100.25':9092\n",
      "2023-10-01 18:26:14 [scrapy.core.scraper] DEBUG: Scraped from <200 https://www.bbc.com/news/world>\n",
      "BNXN, aka Buju, on his debut album and name change, 9:42, DJ Edu, n, B\n",
      "2023-10-01 18:26:14 [pykafka.producer] DEBUG: Finalising <pykafka.producer.Producer at 0x239f409b430>\n",
      "2023-10-01 18:26:14 [pykafka.producer] INFO: Blocking until all messages are sent or until pending_timeout_ms\n",
      "Exception ignored in: <function Producer.__del__ at 0x00000239F25449D0>\n",
      "Traceback (most recent call last):\n",
      "  File \"C:\\Users\\hp\\anaconda3\\lib\\site-packages\\pykafka\\producer.py\", line 235, in __del__\n",
      "2023-10-01 18:26:14 [pykafka.producer] INFO: Starting new produce worker for broker 0\n",
      "    self.stop()\n",
      "  File \"C:\\Users\\hp\\anaconda3\\lib\\site-packages\\pykafka\\producer.py\", line 344, in stop\n",
      "2023-10-01 18:26:14 [pykafka.producer] DEBUG: Sending 1 messages to broker 0\n",
      "    queue_reader.join()\n",
      "  File \"C:\\Users\\hp\\anaconda3\\lib\\threading.py\", line 1057, in join\n",
      "    raise RuntimeError(\"cannot join current thread\")\n",
      "RuntimeError: cannot join current thread\n",
      "2023-10-01 18:26:14 [pykafka.producer] INFO: Worker exited for broker b'192.168.100.25':9092\n",
      "2023-10-01 18:26:14 [pykafka.producer] DEBUG: Successfully sent 1/1 messages to broker 0\n",
      "2023-10-01 18:26:14 [scrapy.core.scraper] DEBUG: Scraped from <200 https://www.bbc.com/news/world>\n",
      "He admitted abducting politicians - but a Swiss court acquitted him, 8:49, By Sarah Rainsford, /news/world-europe-66865795, B\n",
      "2023-10-01 18:26:14 [pykafka.producer] DEBUG: Finalising <pykafka.producer.Producer at 0x239f4227460>\n",
      "2023-10-01 18:26:14 [pykafka.producer] INFO: Blocking until all messages are sent or until pending_timeout_ms\n",
      "Exception ignored in: <function Producer.__del__ at 0x00000239F25449D0>\n",
      "Traceback (most recent call last):\n",
      "  File \"C:\\Users\\hp\\anaconda3\\lib\\site-packages\\pykafka\\producer.py\", line 235, in __del__\n",
      "2023-10-01 18:26:14 [pykafka.producer] INFO: Starting new produce worker for broker 0\n",
      "    self.stop()\n",
      "  File \"C:\\Users\\hp\\anaconda3\\lib\\site-packages\\pykafka\\producer.py\", line 344, in stop\n",
      "2023-10-01 18:26:14 [pykafka.producer] DEBUG: Sending 1 messages to broker 0\n",
      "    queue_reader.join()\n",
      "  File \"C:\\Users\\hp\\anaconda3\\lib\\threading.py\", line 1057, in join\n",
      "    raise RuntimeError(\"cannot join current thread\")\n",
      "RuntimeError: cannot join current thread\n",
      "2023-10-01 18:26:14 [pykafka.producer] DEBUG: Successfully sent 1/1 messages to broker 0\n",
      "2023-10-01 18:26:14 [scrapy.core.scraper] DEBUG: Scraped from <200 https://www.bbc.com/news/world>\n",
      "Indian diplomat blocked from Glasgow gurdwara visit, 8:45, Sikh activists confronted the diplomat amid a row over the death of a separatist leader in Canada., /news/uk-scotland-glasgow-west-66972611, B\n",
      "2023-10-01 18:26:14 [pykafka.producer] INFO: Worker exited for broker b'192.168.100.25':9092\n",
      "2023-10-01 18:26:14 [pykafka.producer] DEBUG: Finalising <pykafka.producer.Producer at 0x239f4087eb0>\n",
      "2023-10-01 18:26:14 [pykafka.producer] INFO: Starting new produce worker for broker 0\n",
      "2023-10-01 18:26:14 [pykafka.producer] INFO: Blocking until all messages are sent or until pending_timeout_ms\n",
      "Exception ignored in: 2023-10-01 18:26:14 [pykafka.producer] DEBUG: Sending 1 messages to broker 0\n",
      "<function Producer.__del__ at 0x00000239F25449D0>\n",
      "Traceback (most recent call last):\n",
      "  File \"C:\\Users\\hp\\anaconda3\\lib\\site-packages\\pykafka\\producer.py\", line 235, in __del__\n",
      "    self.stop()\n",
      "  File \"C:\\Users\\hp\\anaconda3\\lib\\site-packages\\pykafka\\producer.py\", line 344, in stop\n",
      "2023-10-01 18:26:14 [pykafka.producer] DEBUG: Successfully sent 1/1 messages to broker 0\n",
      "    queue_reader.join()\n",
      "  File \"C:\\Users\\hp\\anaconda3\\lib\\threading.py\", line 1057, in join\n",
      "2023-10-01 18:26:14 [scrapy.core.scraper] DEBUG: Scraped from <200 https://www.bbc.com/news/world>\n",
      "Watch: Buildings tumble in dramatic Rouen fire, 8:10, A huge fire tears through two disused buildings in the French city, with flames and smoke rising high into the sky., /news/world-europe-66975480, B\n",
      "2023-10-01 18:26:14 [pykafka.producer] DEBUG: Finalising <pykafka.producer.Producer at 0x239f3320d60>\n",
      "    raise RuntimeError(\"cannot join current thread\")\n",
      "RuntimeError: cannot join current thread\n",
      "2023-10-01 18:26:14 [pykafka.producer] INFO: Blocking until all messages are sent or until pending_timeout_ms\n",
      "Exception ignored in: 2023-10-01 18:26:14 [pykafka.producer] INFO: Worker exited for broker b'192.168.100.25':9092\n",
      "<function Producer.__del__ at 0x00000239F25449D0>\n",
      "Traceback (most recent call last):\n",
      "  File \"C:\\Users\\hp\\anaconda3\\lib\\site-packages\\pykafka\\producer.py\", line 235, in __del__\n",
      "    self.stop()\n",
      "  File \"C:\\Users\\hp\\anaconda3\\lib\\site-packages\\pykafka\\producer.py\", line 344, in stop\n",
      "2023-10-01 18:26:14 [pykafka.producer] INFO: Starting new produce worker for broker 0\n",
      "    queue_reader.join()\n",
      "  File \"C:\\Users\\hp\\anaconda3\\lib\\threading.py\", line 1057, in join\n",
      "2023-10-01 18:26:14 [pykafka.producer] DEBUG: Sending 1 messages to broker 0\n",
      "    raise RuntimeError(\"cannot join current thread\")\n",
      "RuntimeError: cannot join current thread\n",
      "2023-10-01 18:26:14 [pykafka.producer] INFO: Worker exited for broker b'192.168.100.25':9092\n",
      "2023-10-01 18:26:14 [pykafka.producer] DEBUG: Successfully sent 1/1 messages to broker 0\n",
      "2023-10-01 18:26:14 [scrapy.core.scraper] DEBUG: Scraped from <200 https://www.bbc.com/news/world>\n",
      "Polish WW2 veteran Otton Hulacki dies aged 101, 8:10, Colonel Otton Hulacki was unable to return to Poland after the war and settled on the Isle of Wight., /news/uk-england-hampshire-66972276, B\n"
     ]
    },
    {
     "name": "stderr",
     "output_type": "stream",
     "text": [
      "2023-10-01 18:26:14 [pykafka.producer] DEBUG: Finalising <pykafka.producer.Producer at 0x239f39feee0>\n",
      "2023-10-01 18:26:14 [pykafka.producer] INFO: Starting new produce worker for broker 0\n",
      "2023-10-01 18:26:14 [pykafka.producer] INFO: Blocking until all messages are sent or until pending_timeout_ms\n",
      "Exception ignored in: <function Producer.__del__ at 0x00000239F25449D0>\n",
      "Traceback (most recent call last):\n",
      "  File \"C:\\Users\\hp\\anaconda3\\lib\\site-packages\\pykafka\\producer.py\", line 235, in __del__\n",
      "2023-10-01 18:26:14 [pykafka.producer] DEBUG: Sending 1 messages to broker 0\n",
      "    2023-10-01 18:26:14 [pykafka.producer] DEBUG: Successfully sent 1/1 messages to broker 0\n",
      "self.stop()\n",
      "  File \"C:\\Users\\hp\\anaconda3\\lib\\site-packages\\pykafka\\producer.py\", line 344, in stop\n",
      "2023-10-01 18:26:14 [scrapy.core.scraper] DEBUG: Scraped from <200 https://www.bbc.com/news/world>\n",
      "Congressman set off fire alarm ahead of vote, 7:55, By George Wright, /news/world-us-canada-66975448, B\n",
      "2023-10-01 18:26:14 [pykafka.producer] DEBUG: Finalising <pykafka.producer.Producer at 0x239f39dc250>\n",
      "    queue_reader.join()\n",
      "  File \"C:\\Users\\hp\\anaconda3\\lib\\threading.py\", line 1057, in join\n",
      "    raise RuntimeError(\"cannot join current thread\")\n",
      "RuntimeError: cannot join current thread\n",
      "2023-10-01 18:26:14 [pykafka.producer] INFO: Starting new produce worker for broker 0\n",
      "2023-10-01 18:26:14 [pykafka.producer] INFO: Blocking until all messages are sent or until pending_timeout_ms\n",
      "Exception ignored in: 2023-10-01 18:26:14 [pykafka.producer] INFO: Worker exited for broker b'192.168.100.25':9092\n",
      "<function Producer.__del__ at 0x00000239F25449D0>\n",
      "Traceback (most recent call last):\n",
      "  File \"C:\\Users\\hp\\anaconda3\\lib\\site-packages\\pykafka\\producer.py\", line 235, in __del__\n",
      "2023-10-01 18:26:14 [pykafka.producer] DEBUG: Sending 1 messages to broker 0\n",
      "    self.stop()\n",
      "  File \"C:\\Users\\hp\\anaconda3\\lib\\site-packages\\pykafka\\producer.py\", line 344, in stop\n",
      "    queue_reader.join()\n",
      "  File \"C:\\Users\\hp\\anaconda3\\lib\\threading.py\", line 1057, in join\n",
      "    raise RuntimeError(\"cannot join current thread\")\n",
      "RuntimeError: cannot join current thread\n",
      "2023-10-01 18:26:14 [pykafka.producer] DEBUG: Successfully sent 1/1 messages to broker 0\n",
      "2023-10-01 18:26:14 [scrapy.core.scraper] DEBUG: Scraped from <200 https://www.bbc.com/news/world>\n",
      "'I have very good news for the country', 1:40, The US government has avoided a federal shutdown after both House and Senate agreed on a short-term funding deal., /news/world-us-canada-66974751, B\n",
      "2023-10-01 18:26:14 [pykafka.producer] INFO: Worker exited for broker b'192.168.100.25':9092\n",
      "2023-10-01 18:26:14 [pykafka.producer] DEBUG: Finalising <pykafka.producer.Producer at 0x239f39fee50>\n",
      "2023-10-01 18:26:14 [pykafka.producer] INFO: Starting new produce worker for broker 0\n",
      "2023-10-01 18:26:14 [pykafka.producer] INFO: Blocking until all messages are sent or until pending_timeout_ms\n",
      "Exception ignored in: <function Producer.__del__ at 0x00000239F25449D0>\n",
      "Traceback (most recent call last):\n",
      "  File \"C:\\Users\\hp\\anaconda3\\lib\\site-packages\\pykafka\\producer.py\", line 235, in __del__\n",
      "2023-10-01 18:26:14 [pykafka.producer] DEBUG: Sending 1 messages to broker 0\n",
      "    self.stop()\n",
      "  File \"C:\\Users\\hp\\anaconda3\\lib\\site-packages\\pykafka\\producer.py\", line 344, in stop\n",
      "    queue_reader.join()\n",
      "  File \"C:\\Users\\hp\\anaconda3\\lib\\threading.py\", line 1057, in join\n",
      "2023-10-01 18:26:14 [pykafka.producer] DEBUG: Successfully sent 1/1 messages to broker 0\n",
      "    raise RuntimeError(\"cannot join current thread\")\n",
      "RuntimeError: cannot join current thread\n",
      "2023-10-01 18:26:14 [scrapy.core.scraper] DEBUG: Scraped from <200 https://www.bbc.com/news/world>\n",
      "Can India shed 'chokers' tag at Cricket World Cup?, 23:41 30 Sep, By Ayaz Memon, /news/world-asia-india-66886675, B\n",
      "2023-10-01 18:26:14 [pykafka.producer] DEBUG: Finalising <pykafka.producer.Producer at 0x239f3320d60>\n",
      "2023-10-01 18:26:14 [pykafka.producer] INFO: Worker exited for broker b'192.168.100.25':9092\n",
      "2023-10-01 18:26:14 [pykafka.producer] INFO: Blocking until all messages are sent or until pending_timeout_ms\n",
      "Exception ignored in: <function Producer.__del__ at 0x00000239F25449D0>\n",
      "Traceback (most recent call last):\n",
      "  File \"C:\\Users\\hp\\anaconda3\\lib\\site-packages\\pykafka\\producer.py\", line 235, in __del__\n",
      "2023-10-01 18:26:14 [pykafka.producer] INFO: Starting new produce worker for broker 0\n",
      "2023-10-01 18:26:14 [pykafka.producer] DEBUG: Sending 1 messages to broker 0\n",
      "    self.stop()\n",
      "  File \"C:\\Users\\hp\\anaconda3\\lib\\site-packages\\pykafka\\producer.py\", line 344, in stop\n",
      "    queue_reader.join()\n",
      "  File \"C:\\Users\\hp\\anaconda3\\lib\\threading.py\", line 1057, in join\n",
      "    raise RuntimeError(\"cannot join current thread\")\n",
      "RuntimeError: cannot join current thread\n",
      "2023-10-01 18:26:14 [pykafka.producer] INFO: Worker exited for broker b'192.168.100.25':9092\n",
      "2023-10-01 18:26:14 [pykafka.producer] DEBUG: Successfully sent 1/1 messages to broker 0\n",
      "2023-10-01 18:26:14 [scrapy.core.scraper] DEBUG: Scraped from <200 https://www.bbc.com/news/world>\n",
      "Why I'm moving from France to Algeria, 23:23 30 Sep, Journalist Maher Mezahi writes that despite his immigrant father's cynicism, he fell in love with Algeria., /news/world-africa-66922756, B\n",
      "2023-10-01 18:26:14 [pykafka.producer] DEBUG: Finalising <pykafka.producer.Producer at 0x239f409b8e0>\n",
      "2023-10-01 18:26:14 [pykafka.producer] INFO: Starting new produce worker for broker 0\n",
      "2023-10-01 18:26:14 [pykafka.producer] INFO: Blocking until all messages are sent or until pending_timeout_ms\n",
      "Exception ignored in: <function Producer.__del__ at 0x00000239F25449D0>\n",
      "Traceback (most recent call last):\n",
      "  File \"C:\\Users\\hp\\anaconda3\\lib\\site-packages\\pykafka\\producer.py\", line 235, in __del__\n",
      "2023-10-01 18:26:14 [pykafka.producer] DEBUG: Sending 1 messages to broker 0\n",
      "    self.stop()\n",
      "  File \"C:\\Users\\hp\\anaconda3\\lib\\site-packages\\pykafka\\producer.py\", line 344, in stop\n",
      "2023-10-01 18:26:14 [pykafka.producer] DEBUG: Successfully sent 1/1 messages to broker 0\n",
      "    2023-10-01 18:26:14 [scrapy.core.scraper] DEBUG: Scraped from <200 https://www.bbc.com/news/world>\n",
      "Refugees stuck for hours in huge traffic jam, 23:16 30 Sep, Siranush Sargsyan explains what the situation is like in Nagorno-Karabakh as thousands of people flee., /news/world-europe-66974748, B\n",
      "queue_reader.join()\n",
      "  File \"C:\\Users\\hp\\anaconda3\\lib\\threading.py\", line 1057, in join\n",
      "    raise RuntimeError(\"cannot join current thread\")\n",
      "RuntimeError: cannot join current thread\n",
      "2023-10-01 18:26:14 [pykafka.producer] DEBUG: Finalising <pykafka.producer.Producer at 0x239f39fb460>\n",
      "2023-10-01 18:26:14 [pykafka.producer] INFO: Worker exited for broker b'192.168.100.25':9092\n",
      "2023-10-01 18:26:14 [scrapy.core.engine] INFO: Closing spider (finished)\n",
      "2023-10-01 18:26:14 [pykafka.producer] INFO: Blocking until all messages are sent or until pending_timeout_ms\n",
      "Exception ignored in: <function Producer.__del__ at 0x00000239F25449D0>\n",
      "Traceback (most recent call last):\n",
      "  File \"C:\\Users\\hp\\anaconda3\\lib\\site-packages\\pykafka\\producer.py\", line 235, in __del__\n",
      "2023-10-01 18:26:14 [scrapy.statscollectors] INFO: Dumping Scrapy stats:\n",
      "{'downloader/request_bytes': 452,\n",
      " 'downloader/request_count': 2,\n",
      " 'downloader/request_method_count/GET': 2,\n",
      " 'downloader/response_bytes': 390603,\n",
      " 'downloader/response_count': 2,\n",
      " 'downloader/response_status_count/200': 2,\n",
      " 'elapsed_time_seconds': 2.082646,\n",
      " 'finish_reason': 'finished',\n",
      " 'finish_time': datetime.datetime(2023, 10, 1, 15, 26, 14, 448524, tzinfo=datetime.timezone.utc),\n",
      " 'httpcompression/response_bytes': 1610672,\n",
      " 'httpcompression/response_count': 2,\n",
      " 'item_scraped_count': 20,\n",
      " 'log_count/DEBUG': 217,\n",
      " 'log_count/INFO': 177,\n",
      " 'response_received_count': 2,\n",
      " 'robotstxt/request_count': 1,\n",
      " 'robotstxt/response_count': 1,\n",
      " 'robotstxt/response_status_count/200': 1,\n",
      " 'scheduler/dequeued': 1,\n",
      " 'scheduler/dequeued/memory': 1,\n",
      " 'scheduler/enqueued': 1,\n",
      " 'scheduler/enqueued/memory': 1,\n",
      " 'start_time': datetime.datetime(2023, 10, 1, 15, 26, 12, 365878, tzinfo=datetime.timezone.utc)}\n",
      "2023-10-01 18:26:14 [scrapy.core.engine] INFO: Spider closed (finished)\n",
      "    self.stop()\n",
      "  File \"C:\\Users\\hp\\anaconda3\\lib\\site-packages\\pykafka\\producer.py\", line 344, in stop\n",
      "    queue_reader.join()\n",
      "  File \"C:\\Users\\hp\\anaconda3\\lib\\threading.py\", line 1057, in join\n",
      "    raise RuntimeError(\"cannot join current thread\")\n",
      "RuntimeError: cannot join current thread\n"
     ]
    },
    {
     "name": "stderr",
     "output_type": "stream",
     "text": [
      "2023-10-01 18:26:14 [pykafka.producer] INFO: Worker exited for broker b'192.168.100.25':9092\n",
      "2023-10-01 18:26:15 [scrapy.core.engine] DEBUG: Crawled (200) <GET https://www.reuters.com> (referer: None)\n",
      "2023-10-01 18:26:15 [pykafka.producer] INFO: Starting new produce worker for broker 0\n",
      "2023-10-01 18:26:15 [pykafka.producer] DEBUG: Sending 1 messages to broker 0\n",
      "2023-10-01 18:26:15 [pykafka.producer] DEBUG: Successfully sent 1/1 messages to broker 0\n",
      "2023-10-01 18:26:15 [scrapy.core.scraper] DEBUG: Scraped from <200 https://www.reuters.com>\n",
      "Ackman's SPARC is seeking new deals with private companies, 2023-10-01T14:46:19Z, no summary available, /markets/deals/ackmans-sparc-is-seeking-new-deals-with-private-companies-2023-10-01/, Reuters\n",
      "2023-10-01 18:26:15 [pykafka.producer] DEBUG: Finalising <pykafka.producer.Producer at 0x239f4087fd0>\n",
      "2023-10-01 18:26:15 [pykafka.producer] INFO: Starting new produce worker for broker 0\n",
      "2023-10-01 18:26:15 [pykafka.producer] INFO: Blocking until all messages are sent or until pending_timeout_ms\n",
      "Exception ignored in: <function Producer.__del__ at 0x00000239F25449D0>\n",
      "Traceback (most recent call last):\n",
      "  File \"C:\\Users\\hp\\anaconda3\\lib\\site-packages\\pykafka\\producer.py\", line 235, in __del__\n",
      "2023-10-01 18:26:15 [pykafka.producer] DEBUG: Sending 1 messages to broker 0\n",
      "    self.stop()\n",
      "  File \"C:\\Users\\hp\\anaconda3\\lib\\site-packages\\pykafka\\producer.py\", line 344, in stop\n",
      "    queue_reader.join()\n",
      "  File \"C:\\Users\\hp\\anaconda3\\lib\\threading.py\", line 1057, in join\n",
      "    raise RuntimeError(\"cannot join current thread\")\n",
      "RuntimeError: cannot join current thread\n",
      "2023-10-01 18:26:15 [pykafka.producer] INFO: Worker exited for broker b'192.168.100.25':9092\n",
      "2023-10-01 18:26:15 [pykafka.producer] DEBUG: Successfully sent 1/1 messages to broker 0\n",
      "2023-10-01 18:26:15 [scrapy.core.scraper] DEBUG: Scraped from <200 https://www.reuters.com>\n",
      "Tesla launches updated Model Y in China, keeps starting price unchanged, 2023-10-01T07:40:53Z, no summary available, /business/autos-transportation/tesla-launches-updated-model-y-china-keeps-starting-price-unchanged-2023-10-01/, Reuters\n",
      "2023-10-01 18:26:15 [pykafka.producer] DEBUG: Finalising <pykafka.producer.Producer at 0x239f40cea30>\n",
      "2023-10-01 18:26:15 [pykafka.producer] INFO: Blocking until all messages are sent or until pending_timeout_ms\n",
      "Exception ignored in: 2023-10-01 18:26:15 [pykafka.producer] INFO: Starting new produce worker for broker 0\n",
      "<function Producer.__del__ at 0x00000239F25449D0>\n",
      "Traceback (most recent call last):\n",
      "  File \"C:\\Users\\hp\\anaconda3\\lib\\site-packages\\pykafka\\producer.py\", line 235, in __del__\n",
      "    self.stop()\n",
      "  File \"C:\\Users\\hp\\anaconda3\\lib\\site-packages\\pykafka\\producer.py\", line 344, in stop\n",
      "2023-10-01 18:26:15 [pykafka.producer] DEBUG: Sending 1 messages to broker 0\n",
      "    queue_reader.join()\n",
      "  File \"C:\\Users\\hp\\anaconda3\\lib\\threading.py\", line 1057, in join\n",
      "    raise RuntimeError(\"cannot join current thread\")\n",
      "RuntimeError: cannot join current thread\n",
      "2023-10-01 18:26:15 [pykafka.producer] INFO: Worker exited for broker b'192.168.100.25':9092\n",
      "2023-10-01 18:26:15 [pykafka.producer] DEBUG: Successfully sent 1/1 messages to broker 0\n",
      "2023-10-01 18:26:15 [scrapy.core.scraper] DEBUG: Scraped from <200 https://www.reuters.com>\n",
      "Glencore may look elsewhere for recycling hub after Italy rejects fast-track approval, 2023-10-01T11:41:20Z, no summary available, /markets/commodities/glencore-may-look-elsewhere-recycling-hub-after-italy-rejects-fast-track-2023-10-01/, Reuters\n",
      "2023-10-01 18:26:15 [pykafka.producer] DEBUG: Finalising <pykafka.producer.Producer at 0x239f4207940>\n",
      "2023-10-01 18:26:15 [pykafka.producer] INFO: Starting new produce worker for broker 0\n",
      "2023-10-01 18:26:15 [pykafka.producer] INFO: Blocking until all messages are sent or until pending_timeout_ms\n",
      "Exception ignored in: 2023-10-01 18:26:15 [pykafka.producer] DEBUG: Sending 1 messages to broker 0\n",
      "<function Producer.__del__ at 0x00000239F25449D0>\n",
      "Traceback (most recent call last):\n",
      "  File \"C:\\Users\\hp\\anaconda3\\lib\\site-packages\\pykafka\\producer.py\", line 235, in __del__\n",
      "    self.stop()\n",
      "  File \"C:\\Users\\hp\\anaconda3\\lib\\site-packages\\pykafka\\producer.py\", line 344, in stop\n",
      "    queue_reader.join()\n",
      "  File \"C:\\Users\\hp\\anaconda3\\lib\\threading.py\", line 1057, in join\n",
      "    raise RuntimeError(\"cannot join current thread\")\n",
      "RuntimeError: cannot join current thread\n",
      "2023-10-01 18:26:15 [pykafka.producer] INFO: Worker exited for broker b'192.168.100.25':9092\n",
      "2023-10-01 18:26:15 [pykafka.producer] DEBUG: Successfully sent 1/1 messages to broker 0\n",
      "2023-10-01 18:26:15 [scrapy.core.scraper] DEBUG: Scraped from <200 https://www.reuters.com>\n",
      "US appeals court blocks venture capital fund's grant program for Black women, 2023-09-30T22:36:43Z, no summary available, /legal/us-appeals-court-blocks-venture-capital-funds-grant-program-black-women-2023-09-30/, Reuters\n",
      "2023-10-01 18:26:15 [pykafka.producer] DEBUG: Finalising <pykafka.producer.Producer at 0x239f367da60>\n",
      "2023-10-01 18:26:15 [pykafka.producer] INFO: Blocking until all messages are sent or until pending_timeout_ms\n",
      "Exception ignored in: <function Producer.__del__ at 0x00000239F25449D0>\n",
      "Traceback (most recent call last):\n",
      "  File \"C:\\Users\\hp\\anaconda3\\lib\\site-packages\\pykafka\\producer.py\", line 235, in __del__\n",
      "2023-10-01 18:26:15 [pykafka.producer] INFO: Starting new produce worker for broker 0\n",
      "    self.stop()\n",
      "  File \"C:\\Users\\hp\\anaconda3\\lib\\site-packages\\pykafka\\producer.py\", line 344, in stop\n",
      "2023-10-01 18:26:15 [pykafka.producer] DEBUG: Sending 1 messages to broker 0\n",
      "    queue_reader.join()\n",
      "  File \"C:\\Users\\hp\\anaconda3\\lib\\threading.py\", line 1057, in join\n",
      "    raise RuntimeError(\"cannot join current thread\")\n",
      "RuntimeError: cannot join current thread\n",
      "2023-10-01 18:26:15 [pykafka.producer] INFO: Worker exited for broker b'192.168.100.25':9092\n",
      "2023-10-01 18:26:15 [pykafka.producer] DEBUG: Successfully sent 1/1 messages to broker 0\n",
      "2023-10-01 18:26:15 [scrapy.core.scraper] DEBUG: Scraped from <200 https://www.reuters.com>\n",
      "Climate change means New York City's flooding is 'new normal,' governor says, 2023-09-30T21:50:30Z, no summary available, /world/us/new-york-citys-heavy-rain-is-new-normal-due-climate-change-governor-says-2023-09-30/, Reuters\n",
      "2023-10-01 18:26:15 [pykafka.producer] DEBUG: Finalising <pykafka.producer.Producer at 0x239f4087fd0>\n",
      "2023-10-01 18:26:15 [pykafka.producer] INFO: Starting new produce worker for broker 0\n",
      "2023-10-01 18:26:15 [pykafka.producer] INFO: Blocking until all messages are sent or until pending_timeout_ms\n",
      "Exception ignored in: 2023-10-01 18:26:15 [pykafka.producer] DEBUG: Sending 1 messages to broker 0\n",
      "<function Producer.__del__ at 0x00000239F25449D0>\n",
      "Traceback (most recent call last):\n",
      "  File \"C:\\Users\\hp\\anaconda3\\lib\\site-packages\\pykafka\\producer.py\", line 235, in __del__\n",
      "    self.stop()\n",
      "  File \"C:\\Users\\hp\\anaconda3\\lib\\site-packages\\pykafka\\producer.py\", line 344, in stop\n",
      "    queue_reader.join()\n",
      "  File \"C:\\Users\\hp\\anaconda3\\lib\\threading.py\", line 1057, in join\n",
      "    raise RuntimeError(\"cannot join current thread\")\n",
      "RuntimeError: cannot join current thread\n",
      "2023-10-01 18:26:15 [pykafka.producer] DEBUG: Successfully sent 1/1 messages to broker 0\n",
      "2023-10-01 18:26:15 [pykafka.producer] INFO: Worker exited for broker b'192.168.100.25':9092\n",
      "2023-10-01 18:26:15 [scrapy.core.scraper] DEBUG: Scraped from <200 https://www.reuters.com>\n",
      "Americans celebrate Jimmy Carter's 99th birthday as he receives hospice care, 2023-09-30T23:27:32Z, no summary available, /world/us/americans-celebrate-jimmy-carters-99th-birthday-he-receives-hospice-care-2023-09-30/, Reuters\n",
      "2023-10-01 18:26:15 [pykafka.producer] DEBUG: Finalising <pykafka.producer.Producer at 0x239f4087e50>\n",
      "2023-10-01 18:26:15 [pykafka.producer] INFO: Blocking until all messages are sent or until pending_timeout_ms\n",
      "Exception ignored in: <function Producer.__del__ at 0x00000239F25449D0>\n",
      "Traceback (most recent call last):\n",
      "  File \"C:\\Users\\hp\\anaconda3\\lib\\site-packages\\pykafka\\producer.py\", line 235, in __del__\n",
      "2023-10-01 18:26:15 [pykafka.producer] INFO: Starting new produce worker for broker 0\n",
      "    self.stop()\n",
      "  File \"C:\\Users\\hp\\anaconda3\\lib\\site-packages\\pykafka\\producer.py\", line 344, in stop\n",
      "2023-10-01 18:26:15 [pykafka.producer] DEBUG: Sending 1 messages to broker 0\n",
      "    queue_reader.join()\n",
      "  File \"C:\\Users\\hp\\anaconda3\\lib\\threading.py\", line 1057, in join\n"
     ]
    },
    {
     "name": "stderr",
     "output_type": "stream",
     "text": [
      "    raise RuntimeError(\"cannot join current thread\")\n",
      "RuntimeError: cannot join current thread\n",
      "2023-10-01 18:26:15 [pykafka.producer] INFO: Worker exited for broker b'192.168.100.25':9092\n",
      "2023-10-01 18:26:15 [pykafka.producer] DEBUG: Successfully sent 1/1 messages to broker 0\n",
      "2023-10-01 18:26:15 [scrapy.core.scraper] DEBUG: Scraped from <200 https://www.reuters.com>\n",
      "US House Speaker McCarthy says he will not be ousted, CBS reports, 2023-10-01T14:40:14Z, no summary available, /world/us/us-house-speaker-mccarthy-says-he-will-not-be-ousted-cbs-2023-10-01/, Reuters\n",
      "2023-10-01 18:26:15 [pykafka.producer] DEBUG: Finalising <pykafka.producer.Producer at 0x239f4087580>\n",
      "2023-10-01 18:26:15 [pykafka.producer] INFO: Starting new produce worker for broker 0\n",
      "2023-10-01 18:26:15 [pykafka.producer] INFO: Blocking until all messages are sent or until pending_timeout_ms\n",
      "Exception ignored in: <function Producer.__del__ at 0x00000239F25449D0>\n",
      "Traceback (most recent call last):\n",
      "  File \"C:\\Users\\hp\\anaconda3\\lib\\site-packages\\pykafka\\producer.py\", line 235, in __del__\n",
      "2023-10-01 18:26:15 [pykafka.producer] DEBUG: Sending 1 messages to broker 0\n",
      "    self.stop()\n",
      "  File \"C:\\Users\\hp\\anaconda3\\lib\\site-packages\\pykafka\\producer.py\", line 344, in stop\n",
      "    queue_reader.join()\n",
      "  File \"C:\\Users\\hp\\anaconda3\\lib\\threading.py\", line 1057, in join\n",
      "    raise RuntimeError(\"cannot join current thread\")\n",
      "RuntimeError: cannot join current thread\n",
      "2023-10-01 18:26:15 [pykafka.producer] INFO: Worker exited for broker b'192.168.100.25':9092\n",
      "2023-10-01 18:26:15 [pykafka.producer] DEBUG: Successfully sent 1/1 messages to broker 0\n",
      "2023-10-01 18:26:15 [scrapy.core.scraper] DEBUG: Scraped from <200 https://www.reuters.com>\n",
      "California's Newsom promoting Biden in '24 - and perhaps himself in '28, 2023-09-30T10:17:12Z, no summary available, /world/us/californias-newsom-promoting-biden-24-perhaps-himself-28-2023-09-30/, Reuters\n",
      "2023-10-01 18:26:15 [pykafka.producer] DEBUG: Finalising <pykafka.producer.Producer at 0x239f4087fd0>\n",
      "2023-10-01 18:26:15 [pykafka.producer] INFO: Starting new produce worker for broker 0\n",
      "2023-10-01 18:26:15 [pykafka.producer] INFO: Blocking until all messages are sent or until pending_timeout_ms\n",
      "Exception ignored in: <function Producer.__del__ at 0x00000239F25449D0>\n",
      "Traceback (most recent call last):\n",
      "  File \"C:\\Users\\hp\\anaconda3\\lib\\site-packages\\pykafka\\producer.py\", line 235, in __del__\n",
      "2023-10-01 18:26:15 [pykafka.producer] DEBUG: Sending 1 messages to broker 0\n",
      "    self.stop()\n",
      "  File \"C:\\Users\\hp\\anaconda3\\lib\\site-packages\\pykafka\\producer.py\", line 344, in stop\n",
      "    queue_reader.join()\n",
      "  File \"C:\\Users\\hp\\anaconda3\\lib\\threading.py\", line 1057, in join\n",
      "    raise RuntimeError(\"cannot join current thread\")\n",
      "RuntimeError: cannot join current thread\n",
      "2023-10-01 18:26:15 [pykafka.producer] INFO: Worker exited for broker b'192.168.100.25':9092\n",
      "2023-10-01 18:26:15 [pykafka.producer] DEBUG: Successfully sent 1/1 messages to broker 0\n",
      "2023-10-01 18:26:15 [scrapy.core.scraper] DEBUG: Scraped from <200 https://www.reuters.com>\n",
      "Fleetwood secures Ryder Cup for Europe, 2023-10-01T15:16:30Z, no summary available, /sports/golf/fleetwood-secures-ryder-cup-europe-2023-10-01/, Reuters\n",
      "2023-10-01 18:26:15 [pykafka.producer] DEBUG: Finalising <pykafka.producer.Producer at 0x239f4207460>\n",
      "2023-10-01 18:26:15 [pykafka.producer] INFO: Blocking until all messages are sent or until pending_timeout_ms\n",
      "Exception ignored in: <function Producer.__del__ at 0x00000239F25449D0>\n",
      "Traceback (most recent call last):\n",
      "  File \"C:\\Users\\hp\\anaconda3\\lib\\site-packages\\pykafka\\producer.py\", line 235, in __del__\n",
      "2023-10-01 18:26:15 [pykafka.producer] INFO: Starting new produce worker for broker 0\n",
      "    self.stop()\n",
      "  File \"C:\\Users\\hp\\anaconda3\\lib\\site-packages\\pykafka\\producer.py\", line 344, in stop\n",
      "2023-10-01 18:26:15 [pykafka.producer] DEBUG: Sending 1 messages to broker 0\n",
      "    queue_reader.join()\n",
      "  File \"C:\\Users\\hp\\anaconda3\\lib\\threading.py\", line 1057, in join\n",
      "    raise RuntimeError(\"cannot join current thread\")\n",
      "RuntimeError: cannot join current thread\n",
      "2023-10-01 18:26:15 [pykafka.producer] INFO: Worker exited for broker b'192.168.100.25':9092\n",
      "2023-10-01 18:26:15 [pykafka.producer] DEBUG: Successfully sent 1/1 messages to broker 0\n",
      "2023-10-01 18:26:15 [scrapy.core.scraper] DEBUG: Scraped from <200 https://www.reuters.com>\n",
      "VAR officials replaced after offside error in Liverpool defeat, 2023-10-01T10:59:16Z, no summary available, /sports/soccer/var-officials-replaced-after-offside-error-liverpool-defeat-2023-10-01/, Reuters\n",
      "2023-10-01 18:26:15 [pykafka.producer] DEBUG: Finalising <pykafka.producer.Producer at 0x239f4265a90>\n",
      "2023-10-01 18:26:15 [pykafka.producer] INFO: Starting new produce worker for broker 0\n",
      "2023-10-01 18:26:15 [pykafka.producer] INFO: Blocking until all messages are sent or until pending_timeout_ms\n",
      "Exception ignored in: <function Producer.__del__ at 0x00000239F25449D0>\n",
      "Traceback (most recent call last):\n",
      "  File \"C:\\Users\\hp\\anaconda3\\lib\\site-packages\\pykafka\\producer.py\", line 235, in __del__\n",
      "2023-10-01 18:26:15 [pykafka.producer] DEBUG: Sending 1 messages to broker 0\n",
      "    self.stop()\n",
      "  File \"C:\\Users\\hp\\anaconda3\\lib\\site-packages\\pykafka\\producer.py\", line 344, in stop\n",
      "2023-10-01 18:26:15 [pykafka.producer] DEBUG: Successfully sent 1/1 messages to broker 0\n",
      "    queue_reader.join()\n",
      "  File \"C:\\Users\\hp\\anaconda3\\lib\\threading.py\", line 1057, in join\n",
      "2023-10-01 18:26:15 [scrapy.core.scraper] DEBUG: Scraped from <200 https://www.reuters.com>\n",
      "Sabalenka shines in first match as No. 1, Vondrousova crashes in Beijing, 2023-10-01T13:30:09Z, no summary available, /sports/tennis/sabalenka-shines-first-match-no-1-vondrousova-crashes-beijing-2023-10-01/, Reuters\n",
      "2023-10-01 18:26:15 [pykafka.producer] DEBUG: Finalising <pykafka.producer.Producer at 0x239f42651f0>\n",
      "2023-10-01 18:26:15 [pykafka.producer] INFO: Starting new produce worker for broker 0\n",
      "    raise RuntimeError(\"cannot join current thread\")\n",
      "RuntimeError: cannot join current thread\n",
      "2023-10-01 18:26:15 [pykafka.producer] INFO: Blocking until all messages are sent or until pending_timeout_ms\n",
      "Exception ignored in: 2023-10-01 18:26:15 [pykafka.producer] INFO: Worker exited for broker b'192.168.100.25':9092\n",
      "<function Producer.__del__ at 0x00000239F25449D0>\n",
      "Traceback (most recent call last):\n",
      "  File \"C:\\Users\\hp\\anaconda3\\lib\\site-packages\\pykafka\\producer.py\", line 235, in __del__\n",
      "2023-10-01 18:26:15 [pykafka.producer] DEBUG: Sending 1 messages to broker 0\n",
      "    self.stop()\n",
      "  File \"C:\\Users\\hp\\anaconda3\\lib\\site-packages\\pykafka\\producer.py\", line 344, in stop\n",
      "    queue_reader.join()\n",
      "  File \"C:\\Users\\hp\\anaconda3\\lib\\threading.py\", line 1057, in join\n",
      "2023-10-01 18:26:15 [pykafka.producer] DEBUG: Successfully sent 1/1 messages to broker 0\n",
      "    raise RuntimeError(\"cannot join current thread\")\n",
      "RuntimeError: cannot join current thread\n",
      "2023-10-01 18:26:15 [scrapy.core.scraper] DEBUG: Scraped from <200 https://www.reuters.com>\n",
      "Europe roaring towards Ryder Cup win after fast start in singles, 2023-10-01T12:24:14Z, no summary available, /sports/golf/europe-roaring-towards-ryder-cup-win-after-fast-start-singles-2023-10-01/, Reuters\n",
      "2023-10-01 18:26:15 [pykafka.producer] DEBUG: Finalising <pykafka.producer.Producer at 0x239f4265940>\n",
      "2023-10-01 18:26:15 [pykafka.producer] INFO: Worker exited for broker b'192.168.100.25':9092\n",
      "2023-10-01 18:26:15 [pykafka.producer] INFO: Starting new produce worker for broker 0\n",
      "2023-10-01 18:26:15 [pykafka.producer] INFO: Blocking until all messages are sent or until pending_timeout_ms\n",
      "Exception ignored in: 2023-10-01 18:26:15 [pykafka.producer] DEBUG: Sending 1 messages to broker 0\n",
      "<function Producer.__del__ at 0x00000239F25449D0>\n",
      "Traceback (most recent call last):\n",
      "  File \"C:\\Users\\hp\\anaconda3\\lib\\site-packages\\pykafka\\producer.py\", line 235, in __del__\n",
      "    self.stop()\n",
      "  File \"C:\\Users\\hp\\anaconda3\\lib\\site-packages\\pykafka\\producer.py\", line 344, in stop\n",
      "2023-10-01 18:26:15 [pykafka.producer] DEBUG: Successfully sent 1/1 messages to broker 0\n",
      "    queue_reader.join()\n",
      "  File \"C:\\Users\\hp\\anaconda3\\lib\\threading.py\", line 1057, in join\n",
      "    2023-10-01 18:26:15 [scrapy.core.scraper] DEBUG: Scraped from <200 https://www.reuters.com>\n",
      "Torrential rains bring flooding to New York, 2023-09-29T19:11:52.330Z, no summary available, /world/deadly-earthquake-rocks-morocco-2023-09-11/, Reuters\n",
      "raise RuntimeError(\"cannot join current thread\")\n",
      "RuntimeError: cannot join current thread\n"
     ]
    },
    {
     "name": "stderr",
     "output_type": "stream",
     "text": [
      "2023-10-01 18:26:15 [pykafka.producer] DEBUG: Finalising <pykafka.producer.Producer at 0x239f4207640>\n",
      "2023-10-01 18:26:15 [pykafka.producer] INFO: Worker exited for broker b'192.168.100.25':9092\n",
      "2023-10-01 18:26:15 [pykafka.producer] INFO: Starting new produce worker for broker 0\n",
      "2023-10-01 18:26:15 [pykafka.producer] INFO: Blocking until all messages are sent or until pending_timeout_ms\n",
      "Exception ignored in: <function Producer.__del__ at 0x00000239F25449D0>\n",
      "Traceback (most recent call last):\n",
      "  File \"C:\\Users\\hp\\anaconda3\\lib\\site-packages\\pykafka\\producer.py\", line 235, in __del__\n",
      "2023-10-01 18:26:15 [pykafka.producer] DEBUG: Sending 1 messages to broker 0\n",
      "    self.stop()\n",
      "  File \"C:\\Users\\hp\\anaconda3\\lib\\site-packages\\pykafka\\producer.py\", line 344, in stop\n",
      "2023-10-01 18:26:15 [pykafka.producer] DEBUG: Successfully sent 1/1 messages to broker 0\n",
      "    queue_reader.join()\n",
      "  File \"C:\\Users\\hp\\anaconda3\\lib\\threading.py\", line 1057, in join\n",
      "2023-10-01 18:26:15 [scrapy.core.scraper] DEBUG: Scraped from <200 https://www.reuters.com>\n",
      "Dianne Feinstein: 1933 - 2023, 2023-09-30T00:05:27.750Z, no summary available, /world/defining-images-911-attacks-2023-09-11/, Reuters\n",
      "    raise RuntimeError(\"cannot join current thread\")\n",
      "RuntimeError: cannot join current thread\n",
      "2023-10-01 18:26:15 [pykafka.producer] DEBUG: Finalising <pykafka.producer.Producer at 0x239f42077f0>\n",
      "2023-10-01 18:26:15 [pykafka.producer] INFO: Starting new produce worker for broker 0\n",
      "2023-10-01 18:26:15 [pykafka.producer] INFO: Worker exited for broker b'192.168.100.25':9092\n",
      "2023-10-01 18:26:15 [pykafka.producer] INFO: Blocking until all messages are sent or until pending_timeout_ms\n",
      "Exception ignored in: <function Producer.__del__ at 0x00000239F25449D0>\n",
      "Traceback (most recent call last):\n",
      "  File \"C:\\Users\\hp\\anaconda3\\lib\\site-packages\\pykafka\\producer.py\", line 235, in __del__\n",
      "2023-10-01 18:26:15 [pykafka.producer] DEBUG: Sending 1 messages to broker 0\n",
      "    self.stop()\n",
      "  File \"C:\\Users\\hp\\anaconda3\\lib\\site-packages\\pykafka\\producer.py\", line 344, in stop\n",
      "    queue_reader.join()\n",
      "  File \"C:\\Users\\hp\\anaconda3\\lib\\threading.py\", line 1057, in join\n",
      "    raise RuntimeError(\"cannot join current thread\")\n",
      "RuntimeError: cannot join current thread\n",
      "2023-10-01 18:26:15 [pykafka.producer] INFO: Worker exited for broker b'192.168.100.25':9092\n",
      "2023-10-01 18:26:15 [pykafka.producer] DEBUG: Successfully sent 1/1 messages to broker 0\n",
      "2023-10-01 18:26:15 [scrapy.core.scraper] DEBUG: Scraped from <200 https://www.reuters.com>\n",
      "The week in pictures, 2023-09-29T19:14:41.766Z, no summary available, /world/our-top-photos-day-2023-09-11/, Reuters\n",
      "2023-10-01 18:26:15 [pykafka.producer] DEBUG: Finalising <pykafka.producer.Producer at 0x239f42077c0>\n",
      "2023-10-01 18:26:15 [pykafka.producer] INFO: Starting new produce worker for broker 0\n",
      "2023-10-01 18:26:15 [pykafka.producer] INFO: Blocking until all messages are sent or until pending_timeout_ms\n",
      "Exception ignored in: <function Producer.__del__ at 0x00000239F25449D0>\n",
      "Traceback (most recent call last):\n",
      "  File \"C:\\Users\\hp\\anaconda3\\lib\\site-packages\\pykafka\\producer.py\", line 235, in __del__\n",
      "2023-10-01 18:26:15 [pykafka.producer] DEBUG: Sending 1 messages to broker 0\n",
      "    self.stop()\n",
      "  File \"C:\\Users\\hp\\anaconda3\\lib\\site-packages\\pykafka\\producer.py\", line 344, in stop\n",
      "    queue_reader.join()\n",
      "  File \"C:\\Users\\hp\\anaconda3\\lib\\threading.py\", line 1057, in join\n",
      "2023-10-01 18:26:15 [pykafka.producer] DEBUG: Successfully sent 1/1 messages to broker 0\n",
      "2023-10-01 18:26:15 [scrapy.core.scraper] DEBUG: Scraped from <200 https://www.reuters.com>\n",
      "Coperni adorns futuristic lineup with AI pins at Paris Fashion Week, 2023-09-30T00:08:22Z, no summary available, /lifestyle/coperni-adorns-futuristic-lineup-with-ai-pins-paris-fashion-week-2023-09-30/, Reuters\n",
      "2023-10-01 18:26:15 [pykafka.producer] DEBUG: Finalising <pykafka.producer.Producer at 0x239f4265490>\n",
      "    raise RuntimeError(\"cannot join current thread\")\n",
      "RuntimeError: cannot join current thread\n",
      "2023-10-01 18:26:15 [pykafka.producer] INFO: Starting new produce worker for broker 0\n",
      "2023-10-01 18:26:15 [pykafka.producer] INFO: Worker exited for broker b'192.168.100.25':9092\n",
      "2023-10-01 18:26:15 [pykafka.producer] INFO: Blocking until all messages are sent or until pending_timeout_ms\n",
      "Exception ignored in: <function Producer.__del__ at 0x00000239F25449D0>\n",
      "Traceback (most recent call last):\n",
      "  File \"C:\\Users\\hp\\anaconda3\\lib\\site-packages\\pykafka\\producer.py\", line 235, in __del__\n",
      "2023-10-01 18:26:15 [pykafka.producer] DEBUG: Sending 1 messages to broker 0\n",
      "    self.stop()\n",
      "  File \"C:\\Users\\hp\\anaconda3\\lib\\site-packages\\pykafka\\producer.py\", line 344, in stop\n",
      "2023-10-01 18:26:15 [pykafka.producer] DEBUG: Successfully sent 1/1 messages to broker 0\n",
      "    queue_reader.join()\n",
      "  File \"C:\\Users\\hp\\anaconda3\\lib\\threading.py\", line 1057, in join\n",
      "2023-10-01 18:26:15 [scrapy.core.scraper] DEBUG: Scraped from <200 https://www.reuters.com>\n",
      "Rare Aztec ritual offerings put on display in Mexico exhibit, 2023-09-29T23:13:35Z, no summary available, /lifestyle/rare-aztec-ritual-offerings-put-display-mexico-exhibit-2023-09-29/, Reuters\n",
      "    2023-10-01 18:26:15 [pykafka.producer] DEBUG: Finalising <pykafka.producer.Producer at 0x239f4265b20>\n",
      "raise RuntimeError(\"cannot join current thread\")\n",
      "RuntimeError: cannot join current thread\n",
      "2023-10-01 18:26:15 [pykafka.producer] INFO: Starting new produce worker for broker 0\n",
      "2023-10-01 18:26:15 [pykafka.producer] INFO: Blocking until all messages are sent or until pending_timeout_ms\n",
      "Exception ignored in: <function Producer.__del__ at 0x00000239F25449D0>\n",
      "Traceback (most recent call last):\n",
      "  File \"C:\\Users\\hp\\anaconda3\\lib\\site-packages\\pykafka\\producer.py\", line 235, in __del__\n",
      "2023-10-01 18:26:15 [pykafka.producer] INFO: Worker exited for broker b'192.168.100.25':9092\n",
      "2023-10-01 18:26:15 [pykafka.producer] DEBUG: Sending 1 messages to broker 0\n",
      "    self.stop()\n",
      "  File \"C:\\Users\\hp\\anaconda3\\lib\\site-packages\\pykafka\\producer.py\", line 344, in stop\n",
      "2023-10-01 18:26:15 [pykafka.producer] DEBUG: Successfully sent 1/1 messages to broker 0\n",
      "    queue_reader.join()\n",
      "  File \"C:\\Users\\hp\\anaconda3\\lib\\threading.py\", line 1057, in join\n",
      "    2023-10-01 18:26:15 [scrapy.core.scraper] DEBUG: Scraped from <200 https://www.reuters.com>\n",
      "'Fast and Furious': Paris collector offers drives in famous movie cars, 2023-09-29T20:18:23Z, no summary available, /lifestyle/fast-furious-paris-collector-offers-drives-famous-movie-cars-2023-09-29/, Reuters\n",
      "raise RuntimeError(\"cannot join current thread\")\n",
      "RuntimeError: cannot join current thread\n",
      "2023-10-01 18:26:15 [pykafka.producer] DEBUG: Finalising <pykafka.producer.Producer at 0x239f4265250>\n",
      "2023-10-01 18:26:15 [pykafka.producer] INFO: Worker exited for broker b'192.168.100.25':9092\n",
      "2023-10-01 18:26:15 [pykafka.producer] INFO: Starting new produce worker for broker 0\n",
      "2023-10-01 18:26:15 [pykafka.producer] INFO: Blocking until all messages are sent or until pending_timeout_ms\n",
      "Exception ignored in: <function Producer.__del__ at 0x00000239F25449D0>\n",
      "Traceback (most recent call last):\n",
      "  File \"C:\\Users\\hp\\anaconda3\\lib\\site-packages\\pykafka\\producer.py\", line 235, in __del__\n",
      "2023-10-01 18:26:15 [pykafka.producer] DEBUG: Sending 1 messages to broker 0\n",
      "    self.stop()\n",
      "  File \"C:\\Users\\hp\\anaconda3\\lib\\site-packages\\pykafka\\producer.py\", line 344, in stop\n",
      "    queue_reader.join()\n",
      "  File \"C:\\Users\\hp\\anaconda3\\lib\\threading.py\", line 1057, in join\n",
      "2023-10-01 18:26:15 [pykafka.producer] DEBUG: Successfully sent 1/1 messages to broker 0\n",
      "2023-10-01 18:26:15 [scrapy.core.scraper] DEBUG: Scraped from <200 https://www.reuters.com>\n",
      "Forced to flee war, Sudanese band spreads musical message, 2023-09-28T16:36:36Z, no summary available, /world/africa/forced-flee-war-sudanese-band-spreads-musical-message-2023-09-27/, Reuters\n",
      "    raise RuntimeError(\"cannot join current thread\")\n",
      "RuntimeError: cannot join current thread\n",
      "2023-10-01 18:26:15 [pykafka.producer] DEBUG: Finalising <pykafka.producer.Producer at 0x239f32ec730>\n",
      "2023-10-01 18:26:15 [pykafka.producer] INFO: Worker exited for broker b'192.168.100.25':9092\n",
      "2023-10-01 18:26:15 [scrapy.core.engine] INFO: Closing spider (finished)\n",
      "2023-10-01 18:26:15 [pykafka.producer] INFO: Blocking until all messages are sent or until pending_timeout_ms\n"
     ]
    },
    {
     "name": "stderr",
     "output_type": "stream",
     "text": [
      "Exception ignored in: <function Producer.__del__ at 0x00000239F25449D0>\n",
      "Traceback (most recent call last):\n",
      "  File \"C:\\Users\\hp\\anaconda3\\lib\\site-packages\\pykafka\\producer.py\", line 235, in __del__\n",
      "2023-10-01 18:26:15 [scrapy.statscollectors] INFO: Dumping Scrapy stats:\n",
      "{'downloader/request_bytes': 501,\n",
      " 'downloader/request_count': 2,\n",
      " 'downloader/request_method_count/GET': 2,\n",
      " 'downloader/response_bytes': 133937,\n",
      " 'downloader/response_count': 2,\n",
      " 'downloader/response_status_count/200': 2,\n",
      " 'elapsed_time_seconds': 3.725152,\n",
      " 'finish_reason': 'finished',\n",
      " 'finish_time': datetime.datetime(2023, 10, 1, 15, 26, 15, 982967, tzinfo=datetime.timezone.utc),\n",
      " 'httpcompression/response_bytes': 934332,\n",
      " 'httpcompression/response_count': 2,\n",
      " 'item_scraped_count': 19,\n",
      " 'log_count/DEBUG': 311,\n",
      " 'log_count/INFO': 253,\n",
      " 'log_count/WARNING': 1,\n",
      " 'response_received_count': 2,\n",
      " 'robotstxt/request_count': 1,\n",
      " 'robotstxt/response_count': 1,\n",
      " 'robotstxt/response_status_count/200': 1,\n",
      " 'scheduler/dequeued': 1,\n",
      " 'scheduler/dequeued/memory': 1,\n",
      " 'scheduler/enqueued': 1,\n",
      " 'scheduler/enqueued/memory': 1,\n",
      " 'start_time': datetime.datetime(2023, 10, 1, 15, 26, 12, 257815, tzinfo=datetime.timezone.utc)}\n",
      "2023-10-01 18:26:15 [scrapy.core.engine] INFO: Spider closed (finished)\n",
      "    self.stop()\n",
      "  File \"C:\\Users\\hp\\anaconda3\\lib\\site-packages\\pykafka\\producer.py\", line 344, in stop\n",
      "    queue_reader.join()\n",
      "  File \"C:\\Users\\hp\\anaconda3\\lib\\threading.py\", line 1057, in join\n",
      "    raise RuntimeError(\"cannot join current thread\")\n",
      "RuntimeError: cannot join current thread\n",
      "2023-10-01 18:26:15 [pykafka.producer] INFO: Worker exited for broker b'192.168.100.25':9092\n"
     ]
    }
   ],
   "source": [
    "setting = get_project_settings()\n",
    "process = CrawlerProcess(setting)\n",
    "\n",
    "process.crawl(Aljazeera)\n",
    "process.crawl(Reuters)\n",
    "process.crawl(Bbc)\n",
    "process.crawl(Skynews)\n",
    "process.start()"
   ]
  },
  {
   "cell_type": "code",
   "execution_count": 4,
   "id": "734b6b82",
   "metadata": {},
   "outputs": [],
   "source": [
    "#database connection\n",
    "conn = mysql.connector.connect(\n",
    "host = 'localhost',\n",
    "user = 'root',\n",
    "passwd = '12345678',\n",
    "database = 'mydb')\n",
    "curr = conn.cursor()"
   ]
  },
  {
   "cell_type": "code",
   "execution_count": 11,
   "id": "6a3ef958",
   "metadata": {},
   "outputs": [],
   "source": [
    "#def store_in_database\n",
    "def store_in_database(item):\n",
    "        #transform the data to the desired format\n",
    "        message_decoded = (item.value).decode(\"utf-8\")\n",
    "        news = message_decoded.split(', ')\n",
    "        \n",
    "        curr.execute(\"\"\"insert into news_tb (title, publication_date, content, link, source) values(%s, %s, %s, %s, %s)\"\"\", (\n",
    "            news[0],\n",
    "            news[1],\n",
    "            news[2],\n",
    "            news[3],\n",
    "            news[4]\n",
    "        ))\n",
    "        conn.commit()"
   ]
  },
  {
   "cell_type": "code",
   "execution_count": 38,
   "id": "1179b83b",
   "metadata": {},
   "outputs": [],
   "source": [
    "def store_in_minio(item):\n",
    "    message_decoded = (item.value).decode(\"utf-8\")\n",
    "    news = message_decoded.split(', ')\n",
    "    item = \"{title: \" + news[0] + \", publication_date: \"+ news[1] +\", content: \"+ news[2] +\\\n",
    "            \", link\"+ news[3] +\", source: \"+ news[4] +\"}\"\n",
    "    #set your access key and secret key before running this line\n",
    "    client = Minio(\"localhost:9000\", \"acess-key\", \"secret-key\", secure=False)\n",
    "    try:\n",
    "        # Create a unique object name based on the current timestamp\n",
    "        object_name = f\"news_article_{datetime.datetime.now().strftime('%Y-%m-%d_%H-%M-%S')}.json\"\n",
    "        time.sleep(1)\n",
    "        # Write the news article as JSON to MinIO\n",
    "        #set the length= -1 and part_size=1024*1024*5 --> unknown file size\n",
    "        client.put_object('scraped-news', object_name, io.BytesIO(item.encode('utf-8')), length= -1, part_size=1024*1024*5)\n",
    "    except S3Error as e:\n",
    "        print(f\"Failed to store news article in MinIO: {str(e)}\")"
   ]
  },
  {
   "cell_type": "code",
   "execution_count": 9,
   "id": "192a499d",
   "metadata": {},
   "outputs": [
    {
     "name": "stderr",
     "output_type": "stream",
     "text": [
      "2023-10-01 18:26:31 [pykafka.cluster] INFO: Broker version is too old to use automatic API version discovery. Falling back to hardcoded versions list.\n",
      "2023-10-01 18:26:31 [pykafka.cluster] DEBUG: Updating cluster, attempt 1/3\n",
      "2023-10-01 18:26:31 [pykafka.connection] DEBUG: Connecting to localhost:9092\n",
      "2023-10-01 18:26:31 [pykafka.connection] DEBUG: Successfully connected to localhost:9092\n",
      "2023-10-01 18:26:31 [pykafka.handlers] INFO: RequestHandler.stop: about to flush requests queue\n",
      "2023-10-01 18:26:31 [pykafka.cluster] INFO: Discovered 1 brokers\n",
      "2023-10-01 18:26:31 [pykafka.cluster] DEBUG: Discovered broker id 0: b'192.168.100.25':9092\n",
      "2023-10-01 18:26:31 [pykafka.connection] DEBUG: Connecting to b'192.168.100.25':9092\n",
      "2023-10-01 18:26:31 [pykafka.connection] DEBUG: Successfully connected to b'192.168.100.25':9092\n",
      "2023-10-01 18:26:31 [pykafka.cluster] INFO: Discovered 9 topics\n",
      "2023-10-01 18:26:31 [pykafka.cluster] DEBUG: Discovered topic 'b'capstone_att1''\n",
      "2023-10-01 18:26:31 [pykafka.cluster] DEBUG: Discovered topic 'b'Kafka_Assignment1''\n",
      "2023-10-01 18:26:31 [pykafka.cluster] DEBUG: Discovered topic 'b'etl''\n",
      "2023-10-01 18:26:31 [pykafka.cluster] DEBUG: Discovered topic 'b'etl1''\n",
      "2023-10-01 18:26:31 [pykafka.cluster] DEBUG: Discovered topic 'b'quickstart-events''\n",
      "2023-10-01 18:26:31 [pykafka.cluster] DEBUG: Discovered topic 'b'etl3''\n",
      "2023-10-01 18:26:31 [pykafka.cluster] DEBUG: Discovered topic 'b'etl4''\n",
      "2023-10-01 18:26:31 [pykafka.cluster] DEBUG: Discovered topic 'b'etl2''\n",
      "2023-10-01 18:26:31 [pykafka.connection] DEBUG: Connecting to localhost:9092\n",
      "2023-10-01 18:26:31 [pykafka.connection] DEBUG: Successfully connected to localhost:9092\n",
      "2023-10-01 18:26:31 [pykafka.handlers] INFO: RequestHandler.stop: about to flush requests queue\n",
      "2023-10-01 18:26:31 [pykafka.topic] INFO: Adding 1 partitions\n",
      "2023-10-01 18:26:31 [pykafka.topic] DEBUG: Adding partition b'etl4'/0\n",
      "2023-10-01 18:26:32 [pykafka.handlers] INFO: RequestHandler worker: exiting cleanly\n",
      "2023-10-01 18:26:32 [pykafka.handlers] INFO: RequestHandler worker: exiting cleanly\n"
     ]
    }
   ],
   "source": [
    "client = KafkaClient(hosts=\"localhost:9092\") #initialize KafkaClient\n",
    "topic = client.topics['News_ETL']"
   ]
  },
  {
   "cell_type": "code",
   "execution_count": null,
   "id": "c82bfdce",
   "metadata": {},
   "outputs": [
    {
     "name": "stderr",
     "output_type": "stream",
     "text": [
      "2023-10-01 19:04:16 [pykafka.simpleconsumer] INFO: Starting 1 fetcher threads\n",
      "2023-10-01 19:04:17 [pykafka.simpleconsumer] DEBUG: Fetched 63 messages for partition 0\n",
      "2023-10-01 19:04:17 [pykafka.simpleconsumer] DEBUG: Partition 0 queue holds 63 messages\n"
     ]
    },
    {
     "name": "stdout",
     "output_type": "stream",
     "text": [
      "**** Consumer [0]: **** b'At least 13 dead in night\\xc2\\xadclub fire in Spain\\xe2\\x80\\x99s Mur\\xc2\\xadcia, 1 Oct 2023, Res\\xc2\\xadcuers search\\xc2\\xading for peo\\xc2\\xadple un\\xc2\\xadac\\xc2\\xadcount\\xc2\\xaded for af\\xc2\\xadter blaze hits row of night\\xc2\\xadclubs pop\\xc2\\xadu\\xc2\\xadlar for birth\\xc2\\xadday cel\\xc2\\xade\\xc2\\xadbra\\xc2\\xadtions., /news/2023/10/1/at-least-13-dead-in-nightclub-fire-in-spains-murcia, A' \n",
      "\n"
     ]
    },
    {
     "name": "stderr",
     "output_type": "stream",
     "text": [
      "2023-10-01 19:04:18 [urllib3.connectionpool] DEBUG: Starting new HTTP connection (1): localhost:9000\n",
      "2023-10-01 19:04:18 [urllib3.connectionpool] DEBUG: http://localhost:9000 \"GET /scraped-news?location= HTTP/1.1\" 200 128\n",
      "2023-10-01 19:04:18 [urllib3.connectionpool] DEBUG: http://localhost:9000 \"PUT /scraped-news/news_article_2023-10-01_19-04-17.json HTTP/1.1\" 200 0\n"
     ]
    },
    {
     "name": "stdout",
     "output_type": "stream",
     "text": [
      "**** Consumer [1]: **** b'Afghanistan em\\xc2\\xadbassy clos\\xc2\\xades in In\\xc2\\xaddia cit\\xc2\\xading lack of diplo\\xc2\\xadmat\\xc2\\xadic sup\\xc2\\xadport, 1 Oct 2023, The move comes due to lack of sup\\xc2\\xadport from In\\xc2\\xaddia and in\\xc2\\xadcreas\\xc2\\xading\\xc2\\xadly chal\\xc2\\xadleng\\xc2\\xading con\\xc2\\xaddi\\xc2\\xadtions to op\\xc2\\xader\\xc2\\xadate, the em\\xc2\\xadbassy says., /news/2023/10/1/afghanistan-embassy-closes-in-india-citing-lack-of-diplomatic-support, A' \n",
      "\n"
     ]
    },
    {
     "name": "stderr",
     "output_type": "stream",
     "text": [
      "2023-10-01 19:04:19 [urllib3.connectionpool] DEBUG: Starting new HTTP connection (1): localhost:9000\n",
      "2023-10-01 19:04:19 [urllib3.connectionpool] DEBUG: http://localhost:9000 \"GET /scraped-news?location= HTTP/1.1\" 200 128\n",
      "2023-10-01 19:04:19 [urllib3.connectionpool] DEBUG: http://localhost:9000 \"PUT /scraped-news/news_article_2023-10-01_19-04-18.json HTTP/1.1\" 200 0\n"
     ]
    },
    {
     "name": "stdout",
     "output_type": "stream",
     "text": [
      "**** Consumer [2]: **** b'At least 13 people killed in nightclub fire in Spain, Sun, 01 Oct 2023 10:07:00 +0100, At least 13 people have died in a nightclub fire in Murcia in southeast Spain, officials have said., https://news.sky.com/story/at-least-six-people-killed-in-nightclub-fire-in-spain-12974025, S' \n",
      "\n"
     ]
    },
    {
     "name": "stderr",
     "output_type": "stream",
     "text": [
      "2023-10-01 19:04:20 [urllib3.connectionpool] DEBUG: Starting new HTTP connection (1): localhost:9000\n",
      "2023-10-01 19:04:20 [urllib3.connectionpool] DEBUG: http://localhost:9000 \"GET /scraped-news?location= HTTP/1.1\" 200 128\n",
      "2023-10-01 19:04:20 [urllib3.connectionpool] DEBUG: http://localhost:9000 \"PUT /scraped-news/news_article_2023-10-01_19-04-19.json HTTP/1.1\" 200 0\n"
     ]
    },
    {
     "name": "stdout",
     "output_type": "stream",
     "text": [
      "**** Consumer [3]: **** b'Pho\\xc2\\xadtos: Turkey\\xe2\\x80\\x99s cap\\xc2\\xadi\\xc2\\xadtal hit by sui\\xc2\\xadcide blast, 1 Oct 2023, Sui\\xc2\\xadcide blast took place near par\\xc2\\xadlia\\xc2\\xadment in Ankara leav\\xc2\\xading two po\\xc2\\xadlice of\\xc2\\xadfi\\xc2\\xadcers in\\xc2\\xadjured, the in\\xc2\\xadte\\xc2\\xadri\\xc2\\xador min\\xc2\\xadistry says., /gallery/2023/10/1/turkeys-ankara-hit-by-suicide-blast, A' \n",
      "\n"
     ]
    },
    {
     "name": "stderr",
     "output_type": "stream",
     "text": [
      "2023-10-01 19:04:21 [urllib3.connectionpool] DEBUG: Starting new HTTP connection (1): localhost:9000\n",
      "2023-10-01 19:04:21 [urllib3.connectionpool] DEBUG: http://localhost:9000 \"GET /scraped-news?location= HTTP/1.1\" 200 128\n",
      "2023-10-01 19:04:21 [urllib3.connectionpool] DEBUG: http://localhost:9000 \"PUT /scraped-news/news_article_2023-10-01_19-04-20.json HTTP/1.1\" 200 0\n"
     ]
    },
    {
     "name": "stdout",
     "output_type": "stream",
     "text": [
      "**** Consumer [4]: **** b'US Powerball jackpot reaches whopping $1.04bn, Sun, 01 Oct 2023 09:00:00 +0100, The US Powerball jackpot has risen to a whopping $1.04bn (around &#163;852m) after no one won over the weekend., https://news.sky.com/story/us-powerball-jackpot-reaches-whopping-104bn-12973973, S' \n",
      "\n"
     ]
    },
    {
     "name": "stderr",
     "output_type": "stream",
     "text": [
      "2023-10-01 19:04:22 [urllib3.connectionpool] DEBUG: Starting new HTTP connection (1): localhost:9000\n",
      "2023-10-01 19:04:22 [urllib3.connectionpool] DEBUG: http://localhost:9000 \"GET /scraped-news?location= HTTP/1.1\" 200 128\n",
      "2023-10-01 19:04:22 [urllib3.connectionpool] DEBUG: http://localhost:9000 \"PUT /scraped-news/news_article_2023-10-01_19-04-21.json HTTP/1.1\" 200 0\n"
     ]
    },
    {
     "name": "stdout",
     "output_type": "stream",
     "text": [
      "**** Consumer [5]: **** b'Un\\xc2\\xadleash bowlers, scrap um\\xc2\\xadpire\\xe2\\x80\\x99s call: Rules crick\\xc2\\xadet needs to change, 1 Oct 2023, Free hits, um\\xc2\\xadpire\\xe2\\x80\\x99s calls and over lim\\xc2\\xadits are among five rules Al Jazeera thinks should be done away with in crick\\xc2\\xadet., /sports/2023/10/1/five-rules-cricket-needs-to-change, A' \n",
      "\n"
     ]
    },
    {
     "name": "stderr",
     "output_type": "stream",
     "text": [
      "2023-10-01 19:04:23 [urllib3.connectionpool] DEBUG: Starting new HTTP connection (1): localhost:9000\n",
      "2023-10-01 19:04:23 [urllib3.connectionpool] DEBUG: http://localhost:9000 \"GET /scraped-news?location= HTTP/1.1\" 200 128\n",
      "2023-10-01 19:04:23 [urllib3.connectionpool] DEBUG: http://localhost:9000 \"PUT /scraped-news/news_article_2023-10-01_19-04-22.json HTTP/1.1\" 200 0\n"
     ]
    },
    {
     "name": "stdout",
     "output_type": "stream",
     "text": [
      "**** Consumer [6]: **** b'Pro-Russia former PM wins Slovakia elections but must forge coalition, Sun, 01 Oct 2023 07:30:00 +0100, A pro-Kremlin, anti-American politician has staged a political comeback to win parliamentary elections in Slovakia., https://news.sky.com/story/slovakia-elections-pro-russia-former-pm-robert-fico-wins-poll-but-must-forge-coalition-12973943, S' \n",
      "\n"
     ]
    },
    {
     "name": "stderr",
     "output_type": "stream",
     "text": [
      "2023-10-01 19:04:24 [urllib3.connectionpool] DEBUG: Starting new HTTP connection (1): localhost:9000\n",
      "2023-10-01 19:04:24 [urllib3.connectionpool] DEBUG: http://localhost:9000 \"GET /scraped-news?location= HTTP/1.1\" 200 128\n",
      "2023-10-01 19:04:24 [urllib3.connectionpool] DEBUG: http://localhost:9000 \"PUT /scraped-news/news_article_2023-10-01_19-04-23.json HTTP/1.1\" 200 0\n"
     ]
    },
    {
     "name": "stdout",
     "output_type": "stream",
     "text": [
      "**** Consumer [7]: **** b'US gov\\xc2\\xadern\\xc2\\xadment shut\\xc2\\xaddown avert\\xc2\\xaded. What hap\\xc2\\xadpens next?, 1 Oct 2023, Con\\xc2\\xadgress has passed a stop\\xc2\\xadgap mea\\xc2\\xadsure, but will law\\xc2\\xadmak\\xc2\\xaders agree on de\\xc2\\xadtailed spend\\xc2\\xading bills for the en\\xc2\\xadtire fis\\xc2\\xadcal year?, /news/2023/10/1/us-government-shutdown-averted-what-happens-next, A' \n",
      "\n"
     ]
    },
    {
     "name": "stderr",
     "output_type": "stream",
     "text": [
      "2023-10-01 19:04:25 [urllib3.connectionpool] DEBUG: Starting new HTTP connection (1): localhost:9000\n",
      "2023-10-01 19:04:25 [urllib3.connectionpool] DEBUG: http://localhost:9000 \"GET /scraped-news?location= HTTP/1.1\" 200 128\n",
      "2023-10-01 19:04:25 [urllib3.connectionpool] DEBUG: http://localhost:9000 \"PUT /scraped-news/news_article_2023-10-01_19-04-24.json HTTP/1.1\" 200 0\n"
     ]
    },
    {
     "name": "stdout",
     "output_type": "stream",
     "text": [
      "**** Consumer [8]: **** b'Terror suspect killed in shootout after suicide bombing in Turkey, Sun, 01 Oct 2023 09:47:00 +0100, A suicide bomber has detonated an explosive device in front of government buildings in the Turkish capital Ankara., https://news.sky.com/story/turkey-terror-suspect-killed-in-shootout-after-suicide-bombing-12974014, S' \n",
      "\n"
     ]
    },
    {
     "name": "stderr",
     "output_type": "stream",
     "text": [
      "2023-10-01 19:04:26 [urllib3.connectionpool] DEBUG: Starting new HTTP connection (1): localhost:9000\n",
      "2023-10-01 19:04:26 [urllib3.connectionpool] DEBUG: http://localhost:9000 \"GET /scraped-news?location= HTTP/1.1\" 200 128\n",
      "2023-10-01 19:04:26 [urllib3.connectionpool] DEBUG: http://localhost:9000 \"PUT /scraped-news/news_article_2023-10-01_19-04-25.json HTTP/1.1\" 200 0\n"
     ]
    },
    {
     "name": "stdout",
     "output_type": "stream",
     "text": [
      "**** Consumer [9]: **** b'In\\xc2\\xadter\\xc2\\xadna\\xc2\\xadtion\\xc2\\xadal Cof\\xc2\\xadfee Day: Where does your caf\\xc2\\xadfeine fix come from?, 1 Oct 2023, Brazil is the world\\xe2\\x80\\x99s largest pro\\xc2\\xadduc\\xc2\\xader of cof\\xc2\\xadfee, pro\\xc2\\xadduc\\xc2\\xading about one-third of glob\\xc2\\xadal sup\\xc2\\xadply., /news/2023/10/1/international-coffee-day-where-does-your-caffeine-fix-come-from, A' \n",
      "\n"
     ]
    },
    {
     "name": "stderr",
     "output_type": "stream",
     "text": [
      "2023-10-01 19:04:27 [urllib3.connectionpool] DEBUG: Starting new HTTP connection (1): localhost:9000\n",
      "2023-10-01 19:04:27 [urllib3.connectionpool] DEBUG: http://localhost:9000 \"GET /scraped-news?location= HTTP/1.1\" 200 128\n",
      "2023-10-01 19:04:27 [urllib3.connectionpool] DEBUG: http://localhost:9000 \"PUT /scraped-news/news_article_2023-10-01_19-04-26.json HTTP/1.1\" 200 0\n"
     ]
    },
    {
     "name": "stdout",
     "output_type": "stream",
     "text": [
      "**** Consumer [10]: **** b'US narrowly avoids government shutdown, Sun, 01 Oct 2023 02:03:00 +0100, The US has narrowly avoided a government shutdown - with just three hours to spare before current funding expired. , https://news.sky.com/story/us-narrowly-avoids-government-shutdown-12973908, S' \n",
      "\n"
     ]
    },
    {
     "name": "stderr",
     "output_type": "stream",
     "text": [
      "2023-10-01 19:04:28 [urllib3.connectionpool] DEBUG: Starting new HTTP connection (1): localhost:9000\n",
      "2023-10-01 19:04:28 [urllib3.connectionpool] DEBUG: http://localhost:9000 \"GET /scraped-news?location= HTTP/1.1\" 200 128\n",
      "2023-10-01 19:04:28 [urllib3.connectionpool] DEBUG: http://localhost:9000 \"PUT /scraped-news/news_article_2023-10-01_19-04-27.json HTTP/1.1\" 200 0\n"
     ]
    },
    {
     "name": "stdout",
     "output_type": "stream",
     "text": [
      "**** Consumer [11]: **** b'Who is Mo\\xc2\\xadhamed Muiz\\xc2\\xadzu, Mal\\xc2\\xaddives\\xe2\\x80\\x99s pro-Chi\\xc2\\xadna pres\\xc2\\xadi\\xc2\\xaddent-elect?, 1 Oct 2023, The op\\xc2\\xadpo\\xc2\\xadsi\\xc2\\xadtion can\\xc2\\xaddi\\xc2\\xaddate beats the in\\xc2\\xadcum\\xc2\\xadbent, Pres\\xc2\\xadi\\xc2\\xaddent Ibrahim Mo\\xc2\\xadhamed Solih, who is con\\xc2\\xadsid\\xc2\\xadered pro-In\\xc2\\xaddia., /news/2023/10/1/who-is-mohamed-muizzu-maldivess-pro-china-president-elect, A' \n",
      "\n"
     ]
    },
    {
     "name": "stderr",
     "output_type": "stream",
     "text": [
      "2023-10-01 19:04:29 [urllib3.connectionpool] DEBUG: Starting new HTTP connection (1): localhost:9000\n",
      "2023-10-01 19:04:29 [urllib3.connectionpool] DEBUG: http://localhost:9000 \"GET /scraped-news?location= HTTP/1.1\" 200 128\n",
      "2023-10-01 19:04:29 [urllib3.connectionpool] DEBUG: http://localhost:9000 \"PUT /scraped-news/news_article_2023-10-01_19-04-28.json HTTP/1.1\" 200 0\n"
     ]
    },
    {
     "name": "stdout",
     "output_type": "stream",
     "text": [
      "**** Consumer [12]: **** b\"Europe win back the Ryder Cup, Sun, 01 Oct 2023 14:35:00 +0100, Europe's golfers have won back the Ryder Cup from the USA after an event-packed tournament in Rome., https://news.sky.com/story/ryder-cup-europe-wins-back-trophy-after-acrimonious-tournament-ends-in-rome-12974264, S\" \n",
      "\n"
     ]
    },
    {
     "name": "stderr",
     "output_type": "stream",
     "text": [
      "2023-10-01 19:04:30 [urllib3.connectionpool] DEBUG: Starting new HTTP connection (1): localhost:9000\n",
      "2023-10-01 19:04:30 [urllib3.connectionpool] DEBUG: http://localhost:9000 \"GET /scraped-news?location= HTTP/1.1\" 200 128\n",
      "2023-10-01 19:04:30 [urllib3.connectionpool] DEBUG: http://localhost:9000 \"PUT /scraped-news/news_article_2023-10-01_19-04-29.json HTTP/1.1\" 200 0\n"
     ]
    },
    {
     "name": "stdout",
     "output_type": "stream",
     "text": [
      "**** Consumer [13]: **** b'\\xe2\\x80\\x98Ter\\xc2\\xadror\\xc2\\xadists will nev\\xc2\\xader suc\\xc2\\xadceed\\xe2\\x80\\x99, says Er\\xc2\\xaddo\\xc2\\xadgan af\\xc2\\xadter Ankara sui\\xc2\\xadcide bomb\\xc2\\xading, 1 Oct 2023, Two at\\xc2\\xadtack\\xc2\\xaders were be\\xc2\\xadhind the ex\\xc2\\xadplo\\xc2\\xadsion, with one of them det\\xc2\\xado\\xc2\\xadnat\\xc2\\xading him\\xc2\\xadself, Turk\\xc2\\xadish in\\xc2\\xadte\\xc2\\xadri\\xc2\\xador min\\xc2\\xadis\\xc2\\xadter says., /news/liveblog/2023/10/1/turkey-explosion-news-live-police-officers-struck-by-ankara-suicide-bomb, A' \n",
      "\n"
     ]
    },
    {
     "name": "stderr",
     "output_type": "stream",
     "text": [
      "2023-10-01 19:04:31 [urllib3.connectionpool] DEBUG: Starting new HTTP connection (1): localhost:9000\n",
      "2023-10-01 19:04:31 [urllib3.connectionpool] DEBUG: http://localhost:9000 \"GET /scraped-news?location= HTTP/1.1\" 200 128\n",
      "2023-10-01 19:04:31 [urllib3.connectionpool] DEBUG: http://localhost:9000 \"PUT /scraped-news/news_article_2023-10-01_19-04-30.json HTTP/1.1\" 200 0\n"
     ]
    },
    {
     "name": "stdout",
     "output_type": "stream",
     "text": [
      "**** Consumer [14]: **** b'Rory McIlroy in car park bust-up after Ryder Cup drama, Sat, 30 Sep 2023 23:48:00 +0100, Rory McIlroy was involved in an altercation as tensions boiled over after a dramatic day at the Ryder Cup., https://news.sky.com/story/ryder-cup-rory-mcilroy-in-car-park-bust-up-as-tensions-boil-over-12973901, S' \n",
      "\n"
     ]
    },
    {
     "name": "stderr",
     "output_type": "stream",
     "text": [
      "2023-10-01 19:04:32 [urllib3.connectionpool] DEBUG: Starting new HTTP connection (1): localhost:9000\n",
      "2023-10-01 19:04:32 [urllib3.connectionpool] DEBUG: http://localhost:9000 \"GET /scraped-news?location= HTTP/1.1\" 200 128\n",
      "2023-10-01 19:04:32 [urllib3.connectionpool] DEBUG: http://localhost:9000 \"PUT /scraped-news/news_article_2023-10-01_19-04-31.json HTTP/1.1\" 200 0\n"
     ]
    },
    {
     "name": "stdout",
     "output_type": "stream",
     "text": [
      "**** Consumer [15]: **** b'At\\xc2\\xadtack\\xc2\\xaders car\\xc2\\xadry out blast in the heart of Turk\\xc2\\xadish cap\\xc2\\xadi\\xc2\\xadtal, 1 Oct 2023, In\\xc2\\xadte\\xc2\\xadri\\xc2\\xador Min\\xc2\\xadis\\xc2\\xadter Ali Yer\\xc2\\xadlikaya says one of the two at\\xc2\\xadtack\\xc2\\xaders blew him\\xc2\\xadself in front of the min\\xc2\\xadistry build\\xc2\\xading in Ankara., /news/2023/10/1/explosion-and-gunfire-reported-in-turkish-capital, A' \n",
      "\n"
     ]
    },
    {
     "name": "stderr",
     "output_type": "stream",
     "text": [
      "2023-10-01 19:04:33 [urllib3.connectionpool] DEBUG: Starting new HTTP connection (1): localhost:9000\n",
      "2023-10-01 19:04:33 [urllib3.connectionpool] DEBUG: http://localhost:9000 \"GET /scraped-news?location= HTTP/1.1\" 200 128\n",
      "2023-10-01 19:04:33 [urllib3.connectionpool] DEBUG: http://localhost:9000 \"PUT /scraped-news/news_article_2023-10-01_19-04-32.json HTTP/1.1\" 200 0\n"
     ]
    },
    {
     "name": "stdout",
     "output_type": "stream",
     "text": [
      "**** Consumer [16]: **** b'Nightclub fire in south-eastern Spain kills 13, 15:16, Authorities have confirmed at least 15 others are missing following the blaze., /news/world-europe-66976171, B' \n",
      "\n"
     ]
    },
    {
     "name": "stderr",
     "output_type": "stream",
     "text": [
      "2023-10-01 19:04:34 [urllib3.connectionpool] DEBUG: Starting new HTTP connection (1): localhost:9000\n",
      "2023-10-01 19:04:34 [urllib3.connectionpool] DEBUG: http://localhost:9000 \"GET /scraped-news?location= HTTP/1.1\" 200 128\n",
      "2023-10-01 19:04:34 [urllib3.connectionpool] DEBUG: http://localhost:9000 \"PUT /scraped-news/news_article_2023-10-01_19-04-33.json HTTP/1.1\" 200 0\n"
     ]
    },
    {
     "name": "stdout",
     "output_type": "stream",
     "text": [
      "**** Consumer [17]: **** b'Five killed after truck crash causes toxic gas leak , Sat, 30 Sep 2023 18:54:00 +0100, Five people have died and five were seriously injured after a truck crash caused a toxic gas to leak into the air in Illinois. , https://news.sky.com/story/five-killed-and-five-seriously-injured-after-truck-crash-cause-toxic-ammonia-leak-in-illinois-12973687, S' \n",
      "\n"
     ]
    },
    {
     "name": "stderr",
     "output_type": "stream",
     "text": [
      "2023-10-01 19:04:35 [urllib3.connectionpool] DEBUG: Starting new HTTP connection (1): localhost:9000\n",
      "2023-10-01 19:04:36 [urllib3.connectionpool] DEBUG: http://localhost:9000 \"GET /scraped-news?location= HTTP/1.1\" 200 128\n",
      "2023-10-01 19:04:36 [urllib3.connectionpool] DEBUG: http://localhost:9000 \"PUT /scraped-news/news_article_2023-10-01_19-04-34.json HTTP/1.1\" 200 0\n"
     ]
    },
    {
     "name": "stdout",
     "output_type": "stream",
     "text": [
      "**** Consumer [18]: **** b'\\xe2\\x80\\x98Bug\\xc2\\xadger!\\xe2\\x80\\x99: New Zealand PM gets COVID at crit\\xc2\\xadi\\xc2\\xadcal point in elec\\xc2\\xadtion cam\\xc2\\xadpaign, 1 Oct 2023, Chris Hip\\xc2\\xadkins says he will iso\\xc2\\xadlate and try to con\\xc2\\xadtin\\xc2\\xadue cam\\xc2\\xadpaign on\\xc2\\xadline af\\xc2\\xadter test\\xc2\\xading pos\\xc2\\xadi\\xc2\\xadtive for the virus on Sun\\xc2\\xadday., /news/2023/10/1/bugger-new-zealand-pm-gets-covid-at-critical-point-in-election-campaign, A' \n",
      "\n"
     ]
    },
    {
     "name": "stderr",
     "output_type": "stream",
     "text": [
      "2023-10-01 19:04:37 [urllib3.connectionpool] DEBUG: Starting new HTTP connection (1): localhost:9000\n",
      "2023-10-01 19:04:37 [urllib3.connectionpool] DEBUG: http://localhost:9000 \"GET /scraped-news?location= HTTP/1.1\" 200 128\n",
      "2023-10-01 19:04:37 [urllib3.connectionpool] DEBUG: http://localhost:9000 \"PUT /scraped-news/news_article_2023-10-01_19-04-36.json HTTP/1.1\" 200 0\n"
     ]
    },
    {
     "name": "stdout",
     "output_type": "stream",
     "text": [
      "**** Consumer [19]: **** b'Hardline Republicans seek to oust Kevin McCarthy, 15:06, By Matt Murphy, /news/world-us-canada-66977466, B' \n",
      "\n"
     ]
    },
    {
     "name": "stderr",
     "output_type": "stream",
     "text": [
      "2023-10-01 19:04:38 [urllib3.connectionpool] DEBUG: Starting new HTTP connection (1): localhost:9000\n",
      "2023-10-01 19:04:38 [urllib3.connectionpool] DEBUG: http://localhost:9000 \"GET /scraped-news?location= HTTP/1.1\" 200 128\n",
      "2023-10-01 19:04:38 [urllib3.connectionpool] DEBUG: http://localhost:9000 \"PUT /scraped-news/news_article_2023-10-01_19-04-37.json HTTP/1.1\" 200 0\n"
     ]
    },
    {
     "name": "stdout",
     "output_type": "stream",
     "text": [
      "**** Consumer [20]: **** b\"Bride and groom can't live in their community after 100 guests died in fire at their wedding, Sat, 30 Sep 2023 10:58:00 +0100, A bride and groom, whose wedding celebration ended in disaster after a fire killed more than 100 of their guests, have told Sky News they can no longer live in their community., https://news.sky.com/story/iraq-wedding-fire-bride-and-groom-numb-after-blaze-kills-more-than-100-people-12973039, S\" \n",
      "\n"
     ]
    },
    {
     "name": "stderr",
     "output_type": "stream",
     "text": [
      "2023-10-01 19:04:39 [urllib3.connectionpool] DEBUG: Starting new HTTP connection (1): localhost:9000\n",
      "2023-10-01 19:04:39 [urllib3.connectionpool] DEBUG: http://localhost:9000 \"GET /scraped-news?location= HTTP/1.1\" 200 128\n",
      "2023-10-01 19:04:39 [urllib3.connectionpool] DEBUG: http://localhost:9000 \"PUT /scraped-news/news_article_2023-10-01_19-04-38.json HTTP/1.1\" 200 0\n"
     ]
    },
    {
     "name": "stdout",
     "output_type": "stream",
     "text": [
      "**** Consumer [21]: **** b'Pro-Rus\\xc2\\xadsia par\\xc2\\xadty wins Slo\\xc2\\xadva\\xc2\\xadkia\\xe2\\x80\\x99s par\\xc2\\xadlia\\xc2\\xadmen\\xc2\\xadtary elec\\xc2\\xadtions, 1 Oct 2023, Left-wing for\\xc2\\xadmer Prime Min\\xc2\\xadis\\xc2\\xadter Robert Fico has promised to end mil\\xc2\\xadi\\xc2\\xadtary aid for Ukraine., /news/2023/10/1/pro-russia-party-claims-victory-in-slovakia-election, A' \n",
      "\n"
     ]
    },
    {
     "name": "stderr",
     "output_type": "stream",
     "text": [
      "2023-10-01 19:04:40 [urllib3.connectionpool] DEBUG: Starting new HTTP connection (1): localhost:9000\n",
      "2023-10-01 19:04:40 [urllib3.connectionpool] DEBUG: http://localhost:9000 \"GET /scraped-news?location= HTTP/1.1\" 200 128\n",
      "2023-10-01 19:04:40 [urllib3.connectionpool] DEBUG: http://localhost:9000 \"PUT /scraped-news/news_article_2023-10-01_19-04-39.json HTTP/1.1\" 200 0\n"
     ]
    },
    {
     "name": "stdout",
     "output_type": "stream",
     "text": [
      "**** Consumer [22]: **** b'What happens in a US government shutdown?, 14:53, By Tom Geoghegan, /news/world-us-canada-46927916, B' \n",
      "\n"
     ]
    },
    {
     "name": "stderr",
     "output_type": "stream",
     "text": [
      "2023-10-01 19:04:41 [urllib3.connectionpool] DEBUG: Starting new HTTP connection (1): localhost:9000\n",
      "2023-10-01 19:04:41 [urllib3.connectionpool] DEBUG: http://localhost:9000 \"GET /scraped-news?location= HTTP/1.1\" 200 128\n",
      "2023-10-01 19:04:41 [urllib3.connectionpool] DEBUG: http://localhost:9000 \"PUT /scraped-news/news_article_2023-10-01_19-04-40.json HTTP/1.1\" 200 0\n"
     ]
    },
    {
     "name": "stdout",
     "output_type": "stream",
     "text": [
      "**** Consumer [23]: **** b\"New York flooded as city's infrastructure struggles to cope with changing climate , Sat, 30 Sep 2023 16:41:00 +0100, New York City wasn't built for this., https://news.sky.com/story/new-york-flooded-as-citys-infrastructure-struggles-to-cope-with-changing-climate-12973472, S\" \n",
      "\n"
     ]
    },
    {
     "name": "stderr",
     "output_type": "stream",
     "text": [
      "2023-10-01 19:04:42 [urllib3.connectionpool] DEBUG: Starting new HTTP connection (1): localhost:9000\n",
      "2023-10-01 19:04:42 [urllib3.connectionpool] DEBUG: http://localhost:9000 \"GET /scraped-news?location= HTTP/1.1\" 200 128\n",
      "2023-10-01 19:04:42 [urllib3.connectionpool] DEBUG: http://localhost:9000 \"PUT /scraped-news/news_article_2023-10-01_19-04-41.json HTTP/1.1\" 200 0\n"
     ]
    },
    {
     "name": "stdout",
     "output_type": "stream",
     "text": [
      "**** Consumer [24]: **** b'Ukraine tempts West\\xc2\\xadern arms pro\\xc2\\xadduc\\xc2\\xaders with plan for \\xe2\\x80\\x98large mil\\xc2\\xadi\\xc2\\xadtary hub\\xe2\\x80\\x99, 1 Oct 2023, In\\xc2\\xadcen\\xc2\\xadtives avail\\xc2\\xadable to part\\xc2\\xadner with Ukrain\\xc2\\xadian man\\xc2\\xadu\\xc2\\xadfac\\xc2\\xadtur\\xc2\\xaders as Kyiv looks to cre\\xc2\\xadate \\xe2\\x80\\x98world class mil\\xc2\\xadi\\xc2\\xadtary prod\\xc2\\xaducts\\xe2\\x80\\x99., /news/2023/10/1/ukraine-tempts-western-arms-producers-with-plan-for-large-military-hub, A' \n",
      "\n"
     ]
    },
    {
     "name": "stderr",
     "output_type": "stream",
     "text": [
      "2023-10-01 19:04:43 [urllib3.connectionpool] DEBUG: Starting new HTTP connection (1): localhost:9000\n",
      "2023-10-01 19:04:43 [urllib3.connectionpool] DEBUG: http://localhost:9000 \"GET /scraped-news?location= HTTP/1.1\" 200 128\n",
      "2023-10-01 19:04:43 [urllib3.connectionpool] DEBUG: http://localhost:9000 \"PUT /scraped-news/news_article_2023-10-01_19-04-42.json HTTP/1.1\" 200 0\n"
     ]
    },
    {
     "name": "stdout",
     "output_type": "stream",
     "text": [
      "**** Consumer [25]: **** b\"Turkey's interior ministry rocked by suicide blast, 14:31, By Ece Goksedef & Fundanur Ozturk, /news/world-europe-66975452, B\" \n",
      "\n"
     ]
    },
    {
     "name": "stderr",
     "output_type": "stream",
     "text": [
      "2023-10-01 19:04:44 [urllib3.connectionpool] DEBUG: Starting new HTTP connection (1): localhost:9000\n",
      "2023-10-01 19:04:44 [urllib3.connectionpool] DEBUG: http://localhost:9000 \"GET /scraped-news?location= HTTP/1.1\" 200 128\n",
      "2023-10-01 19:04:44 [urllib3.connectionpool] DEBUG: http://localhost:9000 \"PUT /scraped-news/news_article_2023-10-01_19-04-43.json HTTP/1.1\" 200 0\n"
     ]
    },
    {
     "name": "stdout",
     "output_type": "stream",
     "text": [
      "**** Consumer [26]: **** b'Rus\\xc2\\xadsia-Ukraine war: List of key events, day 585, 1 Oct 2023, As the war en\\xc2\\xadters its 585th day, these are the main de\\xc2\\xadvel\\xc2\\xadop\\xc2\\xadments., /news/2023/10/1/russia-ukraine-war-list-of-key-events-day-385-3, A' \n",
      "\n"
     ]
    },
    {
     "name": "stderr",
     "output_type": "stream",
     "text": [
      "2023-10-01 19:04:45 [urllib3.connectionpool] DEBUG: Starting new HTTP connection (1): localhost:9000\n",
      "2023-10-01 19:04:45 [urllib3.connectionpool] DEBUG: http://localhost:9000 \"GET /scraped-news?location= HTTP/1.1\" 200 128\n",
      "2023-10-01 19:04:45 [urllib3.connectionpool] DEBUG: http://localhost:9000 \"PUT /scraped-news/news_article_2023-10-01_19-04-44.json HTTP/1.1\" 200 0\n"
     ]
    },
    {
     "name": "stdout",
     "output_type": "stream",
     "text": [
      "**** Consumer [27]: **** b\"Fierce clashes in Mali after 'separatists kill 80', 14:11, By Chris Ewokor, /news/world-africa-66976440, B\" \n",
      "\n"
     ]
    },
    {
     "name": "stderr",
     "output_type": "stream",
     "text": [
      "2023-10-01 19:04:46 [urllib3.connectionpool] DEBUG: Starting new HTTP connection (1): localhost:9000\n",
      "2023-10-01 19:04:46 [urllib3.connectionpool] DEBUG: http://localhost:9000 \"GET /scraped-news?location= HTTP/1.1\" 200 128\n",
      "2023-10-01 19:04:46 [urllib3.connectionpool] DEBUG: http://localhost:9000 \"PUT /scraped-news/news_article_2023-10-01_19-04-45.json HTTP/1.1\" 200 0\n"
     ]
    },
    {
     "name": "stdout",
     "output_type": "stream",
     "text": [
      "**** Consumer [28]: **** b'Mo\\xc2\\xadhamed Muiz\\xc2\\xadzu wins Mal\\xc2\\xaddives elec\\xc2\\xadtion in vic\\xc2\\xadto\\xc2\\xadry for pro-Chi\\xc2\\xadna camp, 30 Sep 2023, In\\xc2\\xadcum\\xc2\\xadbent Ibrahim Mo\\xc2\\xadhamed Solih con\\xc2\\xadcedes de\\xc2\\xadfeat short\\xc2\\xadly be\\xc2\\xadfore mid\\xc2\\xadnight af\\xc2\\xadter Muiz\\xc2\\xadzu wins 54 per\\xc2\\xadcent of the vote., /news/2023/9/30/maldives-opposition-candidate-muiz-wins-presidential-runoff, A' \n",
      "\n"
     ]
    },
    {
     "name": "stderr",
     "output_type": "stream",
     "text": [
      "2023-10-01 19:04:47 [urllib3.connectionpool] DEBUG: Starting new HTTP connection (1): localhost:9000\n",
      "2023-10-01 19:04:47 [urllib3.connectionpool] DEBUG: http://localhost:9000 \"GET /scraped-news?location= HTTP/1.1\" 200 128\n",
      "2023-10-01 19:04:47 [urllib3.connectionpool] DEBUG: http://localhost:9000 \"PUT /scraped-news/news_article_2023-10-01_19-04-46.json HTTP/1.1\" 200 0\n"
     ]
    },
    {
     "name": "stdout",
     "output_type": "stream",
     "text": [
      "**** Consumer [29]: **** b'US avoids government shutdown in last-minute deal, 13:30, By Antoinette Radford, Sam Cabral & Anthony Zurcher, /news/world-us-canada-66973976, B' \n",
      "\n"
     ]
    },
    {
     "name": "stderr",
     "output_type": "stream",
     "text": [
      "2023-10-01 19:04:48 [urllib3.connectionpool] DEBUG: Starting new HTTP connection (1): localhost:9000\n",
      "2023-10-01 19:04:48 [urllib3.connectionpool] DEBUG: http://localhost:9000 \"GET /scraped-news?location= HTTP/1.1\" 200 128\n",
      "2023-10-01 19:04:48 [urllib3.connectionpool] DEBUG: http://localhost:9000 \"PUT /scraped-news/news_article_2023-10-01_19-04-47.json HTTP/1.1\" 200 0\n"
     ]
    },
    {
     "name": "stdout",
     "output_type": "stream",
     "text": [
      "**** Consumer [30]: **** b'New system for moving goods from GB to NI begins, 13:11, By John Campbell, /news/uk-northern-ireland-66971372, B' \n",
      "\n"
     ]
    },
    {
     "name": "stderr",
     "output_type": "stream",
     "text": [
      "2023-10-01 19:04:49 [urllib3.connectionpool] DEBUG: Starting new HTTP connection (1): localhost:9000\n",
      "2023-10-01 19:04:49 [urllib3.connectionpool] DEBUG: http://localhost:9000 \"GET /scraped-news?location= HTTP/1.1\" 200 128\n",
      "2023-10-01 19:04:49 [urllib3.connectionpool] DEBUG: http://localhost:9000 \"PUT /scraped-news/news_article_2023-10-01_19-04-48.json HTTP/1.1\" 200 0\n"
     ]
    },
    {
     "name": "stdout",
     "output_type": "stream",
     "text": [
      "**** Consumer [31]: **** b'Populist pro-Moscow party wins Slovak vote, 12:03, By Rob Cameron & Ece Goksedef, /news/world-europe-66972984, B' \n",
      "\n"
     ]
    },
    {
     "name": "stderr",
     "output_type": "stream",
     "text": [
      "2023-10-01 19:04:50 [urllib3.connectionpool] DEBUG: Starting new HTTP connection (1): localhost:9000\n",
      "2023-10-01 19:04:50 [urllib3.connectionpool] DEBUG: http://localhost:9000 \"GET /scraped-news?location= HTTP/1.1\" 200 128\n",
      "2023-10-01 19:04:50 [urllib3.connectionpool] DEBUG: http://localhost:9000 \"PUT /scraped-news/news_article_2023-10-01_19-04-49.json HTTP/1.1\" 200 0\n"
     ]
    },
    {
     "name": "stdout",
     "output_type": "stream",
     "text": [
      "**** Consumer [32]: **** b'Inside nightclub as firefighters tackle deadly blaze, 11:52, At least seven people died in the blaze in the south-eastern city of Murcia, Spanish authorities say., /news/world-66976071, B' \n",
      "\n"
     ]
    },
    {
     "name": "stderr",
     "output_type": "stream",
     "text": [
      "2023-10-01 19:04:51 [urllib3.connectionpool] DEBUG: Starting new HTTP connection (1): localhost:9000\n",
      "2023-10-01 19:04:51 [urllib3.connectionpool] DEBUG: http://localhost:9000 \"GET /scraped-news?location= HTTP/1.1\" 200 128\n",
      "2023-10-01 19:04:51 [urllib3.connectionpool] DEBUG: http://localhost:9000 \"PUT /scraped-news/news_article_2023-10-01_19-04-50.json HTTP/1.1\" 200 0\n"
     ]
    },
    {
     "name": "stdout",
     "output_type": "stream",
     "text": [
      "**** Consumer [33]: **** b'CCTV shows moment of Turkey blast, 11:24, An explosion outside Turkey\\'s interior ministry in Ankara, was a \"terrorist attack\", a minister said., /news/world-66976070, B' \n",
      "\n"
     ]
    },
    {
     "name": "stderr",
     "output_type": "stream",
     "text": [
      "2023-10-01 19:04:52 [urllib3.connectionpool] DEBUG: Starting new HTTP connection (1): localhost:9000\n",
      "2023-10-01 19:04:52 [urllib3.connectionpool] DEBUG: http://localhost:9000 \"GET /scraped-news?location= HTTP/1.1\" 200 128\n",
      "2023-10-01 19:04:52 [urllib3.connectionpool] DEBUG: http://localhost:9000 \"PUT /scraped-news/news_article_2023-10-01_19-04-51.json HTTP/1.1\" 200 0\n"
     ]
    },
    {
     "name": "stdout",
     "output_type": "stream",
     "text": [
      "**** Consumer [34]: **** b'BNXN, aka Buju, on his debut album and name change, 9:42, DJ Edu, n, B' \n",
      "\n"
     ]
    },
    {
     "name": "stderr",
     "output_type": "stream",
     "text": [
      "2023-10-01 19:04:53 [urllib3.connectionpool] DEBUG: Starting new HTTP connection (1): localhost:9000\n",
      "2023-10-01 19:04:53 [urllib3.connectionpool] DEBUG: http://localhost:9000 \"GET /scraped-news?location= HTTP/1.1\" 200 128\n",
      "2023-10-01 19:04:53 [urllib3.connectionpool] DEBUG: http://localhost:9000 \"PUT /scraped-news/news_article_2023-10-01_19-04-52.json HTTP/1.1\" 200 0\n"
     ]
    },
    {
     "name": "stdout",
     "output_type": "stream",
     "text": [
      "**** Consumer [35]: **** b'He admitted abducting politicians - but a Swiss court acquitted him, 8:49, By Sarah Rainsford, /news/world-europe-66865795, B' \n",
      "\n"
     ]
    },
    {
     "name": "stderr",
     "output_type": "stream",
     "text": [
      "2023-10-01 19:04:54 [urllib3.connectionpool] DEBUG: Starting new HTTP connection (1): localhost:9000\n",
      "2023-10-01 19:04:54 [urllib3.connectionpool] DEBUG: http://localhost:9000 \"GET /scraped-news?location= HTTP/1.1\" 200 128\n",
      "2023-10-01 19:04:54 [urllib3.connectionpool] DEBUG: http://localhost:9000 \"PUT /scraped-news/news_article_2023-10-01_19-04-53.json HTTP/1.1\" 200 0\n"
     ]
    },
    {
     "name": "stdout",
     "output_type": "stream",
     "text": [
      "**** Consumer [36]: **** b'Indian diplomat blocked from Glasgow gurdwara visit, 8:45, Sikh activists confronted the diplomat amid a row over the death of a separatist leader in Canada., /news/uk-scotland-glasgow-west-66972611, B' \n",
      "\n"
     ]
    },
    {
     "name": "stderr",
     "output_type": "stream",
     "text": [
      "2023-10-01 19:04:55 [urllib3.connectionpool] DEBUG: Starting new HTTP connection (1): localhost:9000\n",
      "2023-10-01 19:04:55 [urllib3.connectionpool] DEBUG: http://localhost:9000 \"GET /scraped-news?location= HTTP/1.1\" 200 128\n",
      "2023-10-01 19:04:55 [urllib3.connectionpool] DEBUG: http://localhost:9000 \"PUT /scraped-news/news_article_2023-10-01_19-04-54.json HTTP/1.1\" 200 0\n"
     ]
    },
    {
     "name": "stdout",
     "output_type": "stream",
     "text": [
      "**** Consumer [37]: **** b'Watch: Buildings tumble in dramatic Rouen fire, 8:10, A huge fire tears through two disused buildings in the French city, with flames and smoke rising high into the sky., /news/world-europe-66975480, B' \n",
      "\n"
     ]
    },
    {
     "name": "stderr",
     "output_type": "stream",
     "text": [
      "2023-10-01 19:04:56 [urllib3.connectionpool] DEBUG: Starting new HTTP connection (1): localhost:9000\n",
      "2023-10-01 19:04:56 [urllib3.connectionpool] DEBUG: http://localhost:9000 \"GET /scraped-news?location= HTTP/1.1\" 200 128\n",
      "2023-10-01 19:04:56 [urllib3.connectionpool] DEBUG: http://localhost:9000 \"PUT /scraped-news/news_article_2023-10-01_19-04-55.json HTTP/1.1\" 200 0\n"
     ]
    },
    {
     "name": "stdout",
     "output_type": "stream",
     "text": [
      "**** Consumer [38]: **** b'Polish WW2 veteran Otton Hulacki dies aged 101, 8:10, Colonel Otton Hulacki was unable to return to Poland after the war and settled on the Isle of Wight., /news/uk-england-hampshire-66972276, B' \n",
      "\n"
     ]
    },
    {
     "name": "stderr",
     "output_type": "stream",
     "text": [
      "2023-10-01 19:04:57 [urllib3.connectionpool] DEBUG: Starting new HTTP connection (1): localhost:9000\n",
      "2023-10-01 19:04:57 [urllib3.connectionpool] DEBUG: http://localhost:9000 \"GET /scraped-news?location= HTTP/1.1\" 200 128\n",
      "2023-10-01 19:04:57 [urllib3.connectionpool] DEBUG: http://localhost:9000 \"PUT /scraped-news/news_article_2023-10-01_19-04-56.json HTTP/1.1\" 200 0\n"
     ]
    },
    {
     "name": "stdout",
     "output_type": "stream",
     "text": [
      "**** Consumer [39]: **** b'Congressman set off fire alarm ahead of vote, 7:55, By George Wright, /news/world-us-canada-66975448, B' \n",
      "\n"
     ]
    },
    {
     "name": "stderr",
     "output_type": "stream",
     "text": [
      "2023-10-01 19:04:58 [urllib3.connectionpool] DEBUG: Starting new HTTP connection (1): localhost:9000\n",
      "2023-10-01 19:04:58 [urllib3.connectionpool] DEBUG: http://localhost:9000 \"GET /scraped-news?location= HTTP/1.1\" 200 128\n",
      "2023-10-01 19:04:58 [urllib3.connectionpool] DEBUG: http://localhost:9000 \"PUT /scraped-news/news_article_2023-10-01_19-04-57.json HTTP/1.1\" 200 0\n"
     ]
    },
    {
     "name": "stdout",
     "output_type": "stream",
     "text": [
      "**** Consumer [40]: **** b\"'I have very good news for the country', 1:40, The US government has avoided a federal shutdown after both House and Senate agreed on a short-term funding deal., /news/world-us-canada-66974751, B\" \n",
      "\n"
     ]
    },
    {
     "name": "stderr",
     "output_type": "stream",
     "text": [
      "2023-10-01 19:04:59 [urllib3.connectionpool] DEBUG: Starting new HTTP connection (1): localhost:9000\n",
      "2023-10-01 19:04:59 [urllib3.connectionpool] DEBUG: http://localhost:9000 \"GET /scraped-news?location= HTTP/1.1\" 200 128\n",
      "2023-10-01 19:04:59 [urllib3.connectionpool] DEBUG: http://localhost:9000 \"PUT /scraped-news/news_article_2023-10-01_19-04-58.json HTTP/1.1\" 200 0\n"
     ]
    },
    {
     "name": "stdout",
     "output_type": "stream",
     "text": [
      "**** Consumer [41]: **** b\"Can India shed 'chokers' tag at Cricket World Cup?, 23:41 30 Sep, By Ayaz Memon, /news/world-asia-india-66886675, B\" \n",
      "\n"
     ]
    },
    {
     "name": "stderr",
     "output_type": "stream",
     "text": [
      "2023-10-01 19:05:00 [urllib3.connectionpool] DEBUG: Starting new HTTP connection (1): localhost:9000\n",
      "2023-10-01 19:05:00 [urllib3.connectionpool] DEBUG: http://localhost:9000 \"GET /scraped-news?location= HTTP/1.1\" 200 128\n",
      "2023-10-01 19:05:00 [urllib3.connectionpool] DEBUG: http://localhost:9000 \"PUT /scraped-news/news_article_2023-10-01_19-04-59.json HTTP/1.1\" 200 0\n"
     ]
    },
    {
     "name": "stdout",
     "output_type": "stream",
     "text": [
      "**** Consumer [42]: **** b\"Why I'm moving from France to Algeria, 23:23 30 Sep, Journalist Maher Mezahi writes that despite his immigrant father's cynicism, he fell in love with Algeria., /news/world-africa-66922756, B\" \n",
      "\n"
     ]
    },
    {
     "name": "stderr",
     "output_type": "stream",
     "text": [
      "2023-10-01 19:05:01 [urllib3.connectionpool] DEBUG: Starting new HTTP connection (1): localhost:9000\n",
      "2023-10-01 19:05:01 [urllib3.connectionpool] DEBUG: http://localhost:9000 \"GET /scraped-news?location= HTTP/1.1\" 200 128\n",
      "2023-10-01 19:05:01 [urllib3.connectionpool] DEBUG: http://localhost:9000 \"PUT /scraped-news/news_article_2023-10-01_19-05-00.json HTTP/1.1\" 200 0\n"
     ]
    },
    {
     "name": "stdout",
     "output_type": "stream",
     "text": [
      "**** Consumer [43]: **** b'Refugees stuck for hours in huge traffic jam, 23:16 30 Sep, Siranush Sargsyan explains what the situation is like in Nagorno-Karabakh as thousands of people flee., /news/world-europe-66974748, B' \n",
      "\n"
     ]
    },
    {
     "name": "stderr",
     "output_type": "stream",
     "text": [
      "2023-10-01 19:05:02 [urllib3.connectionpool] DEBUG: Starting new HTTP connection (1): localhost:9000\n",
      "2023-10-01 19:05:03 [urllib3.connectionpool] DEBUG: http://localhost:9000 \"GET /scraped-news?location= HTTP/1.1\" 200 128\n",
      "2023-10-01 19:05:03 [urllib3.connectionpool] DEBUG: http://localhost:9000 \"PUT /scraped-news/news_article_2023-10-01_19-05-01.json HTTP/1.1\" 200 0\n"
     ]
    },
    {
     "name": "stdout",
     "output_type": "stream",
     "text": [
      "**** Consumer [44]: **** b\"Ackman's SPARC is seeking new deals with private companies, 2023-10-01T14:46:19Z, no summary available, /markets/deals/ackmans-sparc-is-seeking-new-deals-with-private-companies-2023-10-01/, Reuters\" \n",
      "\n"
     ]
    },
    {
     "name": "stderr",
     "output_type": "stream",
     "text": [
      "2023-10-01 19:05:04 [urllib3.connectionpool] DEBUG: Starting new HTTP connection (1): localhost:9000\n",
      "2023-10-01 19:05:04 [urllib3.connectionpool] DEBUG: http://localhost:9000 \"GET /scraped-news?location= HTTP/1.1\" 200 128\n",
      "2023-10-01 19:05:04 [urllib3.connectionpool] DEBUG: http://localhost:9000 \"PUT /scraped-news/news_article_2023-10-01_19-05-03.json HTTP/1.1\" 200 0\n"
     ]
    },
    {
     "name": "stdout",
     "output_type": "stream",
     "text": [
      "**** Consumer [45]: **** b'Tesla launches updated Model Y in China, keeps starting price unchanged, 2023-10-01T07:40:53Z, no summary available, /business/autos-transportation/tesla-launches-updated-model-y-china-keeps-starting-price-unchanged-2023-10-01/, Reuters' \n",
      "\n"
     ]
    },
    {
     "name": "stderr",
     "output_type": "stream",
     "text": [
      "2023-10-01 19:05:05 [urllib3.connectionpool] DEBUG: Starting new HTTP connection (1): localhost:9000\n",
      "2023-10-01 19:05:05 [urllib3.connectionpool] DEBUG: http://localhost:9000 \"GET /scraped-news?location= HTTP/1.1\" 200 128\n",
      "2023-10-01 19:05:05 [urllib3.connectionpool] DEBUG: http://localhost:9000 \"PUT /scraped-news/news_article_2023-10-01_19-05-04.json HTTP/1.1\" 200 0\n"
     ]
    },
    {
     "name": "stdout",
     "output_type": "stream",
     "text": [
      "**** Consumer [46]: **** b'Glencore may look elsewhere for recycling hub after Italy rejects fast-track approval, 2023-10-01T11:41:20Z, no summary available, /markets/commodities/glencore-may-look-elsewhere-recycling-hub-after-italy-rejects-fast-track-2023-10-01/, Reuters' \n",
      "\n"
     ]
    },
    {
     "name": "stderr",
     "output_type": "stream",
     "text": [
      "2023-10-01 19:05:06 [urllib3.connectionpool] DEBUG: Starting new HTTP connection (1): localhost:9000\n",
      "2023-10-01 19:05:06 [urllib3.connectionpool] DEBUG: http://localhost:9000 \"GET /scraped-news?location= HTTP/1.1\" 200 128\n",
      "2023-10-01 19:05:06 [urllib3.connectionpool] DEBUG: http://localhost:9000 \"PUT /scraped-news/news_article_2023-10-01_19-05-05.json HTTP/1.1\" 200 0\n"
     ]
    },
    {
     "name": "stdout",
     "output_type": "stream",
     "text": [
      "**** Consumer [47]: **** b\"US appeals court blocks venture capital fund's grant program for Black women, 2023-09-30T22:36:43Z, no summary available, /legal/us-appeals-court-blocks-venture-capital-funds-grant-program-black-women-2023-09-30/, Reuters\" \n",
      "\n"
     ]
    },
    {
     "name": "stderr",
     "output_type": "stream",
     "text": [
      "2023-10-01 19:05:07 [urllib3.connectionpool] DEBUG: Starting new HTTP connection (1): localhost:9000\n",
      "2023-10-01 19:05:07 [urllib3.connectionpool] DEBUG: http://localhost:9000 \"GET /scraped-news?location= HTTP/1.1\" 200 128\n",
      "2023-10-01 19:05:07 [urllib3.connectionpool] DEBUG: http://localhost:9000 \"PUT /scraped-news/news_article_2023-10-01_19-05-06.json HTTP/1.1\" 200 0\n"
     ]
    },
    {
     "name": "stdout",
     "output_type": "stream",
     "text": [
      "**** Consumer [48]: **** b\"Climate change means New York City's flooding is 'new normal,' governor says, 2023-09-30T21:50:30Z, no summary available, /world/us/new-york-citys-heavy-rain-is-new-normal-due-climate-change-governor-says-2023-09-30/, Reuters\" \n",
      "\n"
     ]
    },
    {
     "name": "stderr",
     "output_type": "stream",
     "text": [
      "2023-10-01 19:05:08 [urllib3.connectionpool] DEBUG: Starting new HTTP connection (1): localhost:9000\n",
      "2023-10-01 19:05:08 [urllib3.connectionpool] DEBUG: http://localhost:9000 \"GET /scraped-news?location= HTTP/1.1\" 200 128\n",
      "2023-10-01 19:05:08 [urllib3.connectionpool] DEBUG: http://localhost:9000 \"PUT /scraped-news/news_article_2023-10-01_19-05-07.json HTTP/1.1\" 200 0\n"
     ]
    },
    {
     "name": "stdout",
     "output_type": "stream",
     "text": [
      "**** Consumer [49]: **** b\"Americans celebrate Jimmy Carter's 99th birthday as he receives hospice care, 2023-09-30T23:27:32Z, no summary available, /world/us/americans-celebrate-jimmy-carters-99th-birthday-he-receives-hospice-care-2023-09-30/, Reuters\" \n",
      "\n"
     ]
    },
    {
     "name": "stderr",
     "output_type": "stream",
     "text": [
      "2023-10-01 19:05:09 [urllib3.connectionpool] DEBUG: Starting new HTTP connection (1): localhost:9000\n",
      "2023-10-01 19:05:09 [urllib3.connectionpool] DEBUG: http://localhost:9000 \"GET /scraped-news?location= HTTP/1.1\" 200 128\n",
      "2023-10-01 19:05:09 [urllib3.connectionpool] DEBUG: http://localhost:9000 \"PUT /scraped-news/news_article_2023-10-01_19-05-08.json HTTP/1.1\" 200 0\n"
     ]
    },
    {
     "name": "stdout",
     "output_type": "stream",
     "text": [
      "**** Consumer [50]: **** b'US House Speaker McCarthy says he will not be ousted, CBS reports, 2023-10-01T14:40:14Z, no summary available, /world/us/us-house-speaker-mccarthy-says-he-will-not-be-ousted-cbs-2023-10-01/, Reuters' \n",
      "\n"
     ]
    },
    {
     "name": "stderr",
     "output_type": "stream",
     "text": [
      "2023-10-01 19:05:10 [urllib3.connectionpool] DEBUG: Starting new HTTP connection (1): localhost:9000\n",
      "2023-10-01 19:05:10 [urllib3.connectionpool] DEBUG: http://localhost:9000 \"GET /scraped-news?location= HTTP/1.1\" 200 128\n",
      "2023-10-01 19:05:10 [urllib3.connectionpool] DEBUG: http://localhost:9000 \"PUT /scraped-news/news_article_2023-10-01_19-05-09.json HTTP/1.1\" 200 0\n"
     ]
    },
    {
     "name": "stdout",
     "output_type": "stream",
     "text": [
      "**** Consumer [51]: **** b\"California's Newsom promoting Biden in '24 - and perhaps himself in '28, 2023-09-30T10:17:12Z, no summary available, /world/us/californias-newsom-promoting-biden-24-perhaps-himself-28-2023-09-30/, Reuters\" \n",
      "\n"
     ]
    },
    {
     "name": "stderr",
     "output_type": "stream",
     "text": [
      "2023-10-01 19:05:11 [urllib3.connectionpool] DEBUG: Starting new HTTP connection (1): localhost:9000\n",
      "2023-10-01 19:05:11 [urllib3.connectionpool] DEBUG: http://localhost:9000 \"GET /scraped-news?location= HTTP/1.1\" 200 128\n",
      "2023-10-01 19:05:11 [urllib3.connectionpool] DEBUG: http://localhost:9000 \"PUT /scraped-news/news_article_2023-10-01_19-05-10.json HTTP/1.1\" 200 0\n"
     ]
    },
    {
     "name": "stdout",
     "output_type": "stream",
     "text": [
      "**** Consumer [52]: **** b'Fleetwood secures Ryder Cup for Europe, 2023-10-01T15:16:30Z, no summary available, /sports/golf/fleetwood-secures-ryder-cup-europe-2023-10-01/, Reuters' \n",
      "\n"
     ]
    },
    {
     "name": "stderr",
     "output_type": "stream",
     "text": [
      "2023-10-01 19:05:12 [urllib3.connectionpool] DEBUG: Starting new HTTP connection (1): localhost:9000\n",
      "2023-10-01 19:05:12 [urllib3.connectionpool] DEBUG: http://localhost:9000 \"GET /scraped-news?location= HTTP/1.1\" 200 128\n",
      "2023-10-01 19:05:12 [urllib3.connectionpool] DEBUG: http://localhost:9000 \"PUT /scraped-news/news_article_2023-10-01_19-05-11.json HTTP/1.1\" 200 0\n"
     ]
    },
    {
     "name": "stdout",
     "output_type": "stream",
     "text": [
      "**** Consumer [53]: **** b'VAR officials replaced after offside error in Liverpool defeat, 2023-10-01T10:59:16Z, no summary available, /sports/soccer/var-officials-replaced-after-offside-error-liverpool-defeat-2023-10-01/, Reuters' \n",
      "\n"
     ]
    },
    {
     "name": "stderr",
     "output_type": "stream",
     "text": [
      "2023-10-01 19:05:13 [urllib3.connectionpool] DEBUG: Starting new HTTP connection (1): localhost:9000\n",
      "2023-10-01 19:05:13 [urllib3.connectionpool] DEBUG: http://localhost:9000 \"GET /scraped-news?location= HTTP/1.1\" 200 128\n",
      "2023-10-01 19:05:13 [urllib3.connectionpool] DEBUG: http://localhost:9000 \"PUT /scraped-news/news_article_2023-10-01_19-05-12.json HTTP/1.1\" 200 0\n"
     ]
    },
    {
     "name": "stdout",
     "output_type": "stream",
     "text": [
      "**** Consumer [54]: **** b'Sabalenka shines in first match as No. 1, Vondrousova crashes in Beijing, 2023-10-01T13:30:09Z, no summary available, /sports/tennis/sabalenka-shines-first-match-no-1-vondrousova-crashes-beijing-2023-10-01/, Reuters' \n",
      "\n"
     ]
    },
    {
     "name": "stderr",
     "output_type": "stream",
     "text": [
      "2023-10-01 19:05:14 [urllib3.connectionpool] DEBUG: Starting new HTTP connection (1): localhost:9000\n",
      "2023-10-01 19:05:14 [urllib3.connectionpool] DEBUG: http://localhost:9000 \"GET /scraped-news?location= HTTP/1.1\" 200 128\n",
      "2023-10-01 19:05:14 [urllib3.connectionpool] DEBUG: http://localhost:9000 \"PUT /scraped-news/news_article_2023-10-01_19-05-13.json HTTP/1.1\" 200 0\n"
     ]
    },
    {
     "name": "stdout",
     "output_type": "stream",
     "text": [
      "**** Consumer [55]: **** b'Europe roaring towards Ryder Cup win after fast start in singles, 2023-10-01T12:24:14Z, no summary available, /sports/golf/europe-roaring-towards-ryder-cup-win-after-fast-start-singles-2023-10-01/, Reuters' \n",
      "\n"
     ]
    },
    {
     "name": "stderr",
     "output_type": "stream",
     "text": [
      "2023-10-01 19:05:15 [urllib3.connectionpool] DEBUG: Starting new HTTP connection (1): localhost:9000\n",
      "2023-10-01 19:05:15 [urllib3.connectionpool] DEBUG: http://localhost:9000 \"GET /scraped-news?location= HTTP/1.1\" 200 128\n",
      "2023-10-01 19:05:15 [urllib3.connectionpool] DEBUG: http://localhost:9000 \"PUT /scraped-news/news_article_2023-10-01_19-05-14.json HTTP/1.1\" 200 0\n"
     ]
    },
    {
     "name": "stdout",
     "output_type": "stream",
     "text": [
      "**** Consumer [56]: **** b'Torrential rains bring flooding to New York, 2023-09-29T19:11:52.330Z, no summary available, /world/deadly-earthquake-rocks-morocco-2023-09-11/, Reuters' \n",
      "\n"
     ]
    },
    {
     "name": "stderr",
     "output_type": "stream",
     "text": [
      "2023-10-01 19:05:16 [urllib3.connectionpool] DEBUG: Starting new HTTP connection (1): localhost:9000\n",
      "2023-10-01 19:05:16 [urllib3.connectionpool] DEBUG: http://localhost:9000 \"GET /scraped-news?location= HTTP/1.1\" 200 128\n",
      "2023-10-01 19:05:16 [urllib3.connectionpool] DEBUG: http://localhost:9000 \"PUT /scraped-news/news_article_2023-10-01_19-05-15.json HTTP/1.1\" 200 0\n"
     ]
    },
    {
     "name": "stdout",
     "output_type": "stream",
     "text": [
      "**** Consumer [57]: **** b'Dianne Feinstein: 1933 - 2023, 2023-09-30T00:05:27.750Z, no summary available, /world/defining-images-911-attacks-2023-09-11/, Reuters' \n",
      "\n"
     ]
    },
    {
     "name": "stderr",
     "output_type": "stream",
     "text": [
      "2023-10-01 19:05:17 [urllib3.connectionpool] DEBUG: Starting new HTTP connection (1): localhost:9000\n",
      "2023-10-01 19:05:17 [urllib3.connectionpool] DEBUG: http://localhost:9000 \"GET /scraped-news?location= HTTP/1.1\" 200 128\n",
      "2023-10-01 19:05:17 [urllib3.connectionpool] DEBUG: http://localhost:9000 \"PUT /scraped-news/news_article_2023-10-01_19-05-16.json HTTP/1.1\" 200 0\n"
     ]
    },
    {
     "name": "stdout",
     "output_type": "stream",
     "text": [
      "**** Consumer [58]: **** b'The week in pictures, 2023-09-29T19:14:41.766Z, no summary available, /world/our-top-photos-day-2023-09-11/, Reuters' \n",
      "\n"
     ]
    },
    {
     "name": "stderr",
     "output_type": "stream",
     "text": [
      "2023-10-01 19:05:18 [urllib3.connectionpool] DEBUG: Starting new HTTP connection (1): localhost:9000\n",
      "2023-10-01 19:05:18 [urllib3.connectionpool] DEBUG: http://localhost:9000 \"GET /scraped-news?location= HTTP/1.1\" 200 128\n",
      "2023-10-01 19:05:18 [urllib3.connectionpool] DEBUG: http://localhost:9000 \"PUT /scraped-news/news_article_2023-10-01_19-05-17.json HTTP/1.1\" 200 0\n"
     ]
    },
    {
     "name": "stdout",
     "output_type": "stream",
     "text": [
      "**** Consumer [59]: **** b'Coperni adorns futuristic lineup with AI pins at Paris Fashion Week, 2023-09-30T00:08:22Z, no summary available, /lifestyle/coperni-adorns-futuristic-lineup-with-ai-pins-paris-fashion-week-2023-09-30/, Reuters' \n",
      "\n"
     ]
    },
    {
     "name": "stderr",
     "output_type": "stream",
     "text": [
      "2023-10-01 19:05:19 [urllib3.connectionpool] DEBUG: Starting new HTTP connection (1): localhost:9000\n",
      "2023-10-01 19:05:19 [urllib3.connectionpool] DEBUG: http://localhost:9000 \"GET /scraped-news?location= HTTP/1.1\" 200 128\n",
      "2023-10-01 19:05:19 [urllib3.connectionpool] DEBUG: http://localhost:9000 \"PUT /scraped-news/news_article_2023-10-01_19-05-18.json HTTP/1.1\" 200 0\n"
     ]
    },
    {
     "name": "stdout",
     "output_type": "stream",
     "text": [
      "**** Consumer [60]: **** b'Rare Aztec ritual offerings put on display in Mexico exhibit, 2023-09-29T23:13:35Z, no summary available, /lifestyle/rare-aztec-ritual-offerings-put-display-mexico-exhibit-2023-09-29/, Reuters' \n",
      "\n"
     ]
    },
    {
     "name": "stderr",
     "output_type": "stream",
     "text": [
      "2023-10-01 19:05:20 [urllib3.connectionpool] DEBUG: Starting new HTTP connection (1): localhost:9000\n",
      "2023-10-01 19:05:20 [urllib3.connectionpool] DEBUG: http://localhost:9000 \"GET /scraped-news?location= HTTP/1.1\" 200 128\n",
      "2023-10-01 19:05:20 [urllib3.connectionpool] DEBUG: http://localhost:9000 \"PUT /scraped-news/news_article_2023-10-01_19-05-19.json HTTP/1.1\" 200 0\n"
     ]
    },
    {
     "name": "stdout",
     "output_type": "stream",
     "text": [
      "**** Consumer [61]: **** b\"'Fast and Furious': Paris collector offers drives in famous movie cars, 2023-09-29T20:18:23Z, no summary available, /lifestyle/fast-furious-paris-collector-offers-drives-famous-movie-cars-2023-09-29/, Reuters\" \n",
      "\n"
     ]
    },
    {
     "name": "stderr",
     "output_type": "stream",
     "text": [
      "2023-10-01 19:05:21 [urllib3.connectionpool] DEBUG: Starting new HTTP connection (1): localhost:9000\n",
      "2023-10-01 19:05:21 [urllib3.connectionpool] DEBUG: http://localhost:9000 \"GET /scraped-news?location= HTTP/1.1\" 200 128\n",
      "2023-10-01 19:05:21 [urllib3.connectionpool] DEBUG: http://localhost:9000 \"PUT /scraped-news/news_article_2023-10-01_19-05-20.json HTTP/1.1\" 200 0\n"
     ]
    },
    {
     "name": "stdout",
     "output_type": "stream",
     "text": [
      "**** Consumer [62]: **** b'Forced to flee war, Sudanese band spreads musical message, 2023-09-28T16:36:36Z, no summary available, /world/africa/forced-flee-war-sudanese-band-spreads-musical-message-2023-09-27/, Reuters' \n",
      "\n"
     ]
    },
    {
     "name": "stderr",
     "output_type": "stream",
     "text": [
      "2023-10-01 19:05:22 [urllib3.connectionpool] DEBUG: Starting new HTTP connection (1): localhost:9000\n",
      "2023-10-01 19:05:22 [urllib3.connectionpool] DEBUG: http://localhost:9000 \"GET /scraped-news?location= HTTP/1.1\" 200 128\n",
      "2023-10-01 19:05:22 [urllib3.connectionpool] DEBUG: http://localhost:9000 \"PUT /scraped-news/news_article_2023-10-01_19-05-21.json HTTP/1.1\" 200 0\n"
     ]
    }
   ],
   "source": [
    "consumer = topic.get_simple_consumer()\n",
    "\n",
    "for message in consumer:\n",
    "    if message is not None:\n",
    "        print(f'**** Consumer [{message.offset}]: ****', message.value, \"\\n\")\n",
    "        #store the scraped data to DW\n",
    "        store_in_database(message)\n",
    "        #store the scraped data to MinIO\n",
    "        store_in_minio(message)"
   ]
  }
 ],
 "metadata": {
  "kernelspec": {
   "display_name": "Python 3 (ipykernel)",
   "language": "python",
   "name": "python3"
  },
  "language_info": {
   "codemirror_mode": {
    "name": "ipython",
    "version": 3
   },
   "file_extension": ".py",
   "mimetype": "text/x-python",
   "name": "python",
   "nbconvert_exporter": "python",
   "pygments_lexer": "ipython3",
   "version": "3.9.13"
  }
 },
 "nbformat": 4,
 "nbformat_minor": 5
}
